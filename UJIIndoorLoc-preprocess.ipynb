{
 "cells": [
  {
   "cell_type": "markdown",
   "metadata": {},
   "source": [
    "# UJIIndoorLoc WLAN Fingerprint Data Pre-Processing (Part 1)"
   ]
  },
  {
   "cell_type": "markdown",
   "metadata": {},
   "source": [
    "In this notebook, I begin from the raw UJIIndoorLoc dataset and perform an initial exploratory data analysis on the distributions of the predictors and response variables. This is followed by dimensionality reduction analysis. Once the data is prepared, I focus on the model selection and finally ensemble learning."
   ]
  },
  {
   "cell_type": "markdown",
   "metadata": {},
   "source": [
    "## Table of Contents\n",
    "\n",
    "* [Dataset Description](#dataset-description)\n",
    "\n",
    "* [Data Pre-Processing](#preprocess)\n",
    "\n",
    "* [Exploratory Data Analysis](#eda)\n",
    "\n",
    "* [Skewness and Kurtosis](#skew-kurtosis)\n",
    "\n",
    "* [Box-Cox Transformation](#box-cox)\n",
    "\n",
    "* [Dimensionality Reduction](#dimension-reduction)\n",
    "\n",
    "* [Predictor Correlations](#predictor-correlations)\n",
    "\n",
    "* [Principal Component Analysis (PCA)](#pca)"
   ]
  },
  {
   "cell_type": "code",
   "execution_count": 37,
   "metadata": {
    "scrolled": false
   },
   "outputs": [
    {
     "name": "stdout",
     "output_type": "stream",
     "text": [
      "/Users/joon/venv-python3.6/bin/python3.6\n"
     ]
    }
   ],
   "source": [
    "import sys\n",
    "print(sys.executable)\n",
    "\n",
    "import numpy as np\n",
    "import pandas as pd\n",
    "from scipy import stats\n",
    "import statsmodels\n",
    "import matplotlib.pyplot as plt\n",
    "import matplotlib\n",
    "import pickle\n",
    "\n",
    "from sklearn.model_selection import train_test_split\n",
    "\n",
    "%matplotlib inline\n",
    "\n",
    "import warnings\n",
    "warnings.filterwarnings('ignore')\n",
    "\n",
    "import seaborn as sns"
   ]
  },
  {
   "cell_type": "code",
   "execution_count": 2,
   "metadata": {},
   "outputs": [],
   "source": [
    "train_data = pd.read_csv(\"data/trainingData.csv\")\n",
    "test_data = pd.read_csv(\"data/validationData.csv\")"
   ]
  },
  {
   "cell_type": "markdown",
   "metadata": {},
   "source": [
    "# Dataset Description <a id='dataset-description'></a>\n",
    "\n",
    "Source: https://www.kaggle.com/giantuji/UjiIndoorLoc\n",
    "\n",
    "- **WAP001-WAP520**: Intensity value for **Wireless Access Point** (WAP). WAP will be the acronym used for rest of this notebook. Negative integer values from -104 to 0 and +100. **Censored data:** Positive value 100 used if WAP was not detected.\n",
    "\n",
    "- **Longitude**: Longitude. Negative real values from -7695.9387549299299000 to -7299.786516730871000\n",
    "\n",
    "- **Latitude**: Latitude. Positive real values from 4864745.7450159714 to 4865017.3646842018.\n",
    "\n",
    "- **Floor**: Altitude in floors inside the building. Integer values from 0 to 4.\n",
    "\n",
    "- **BuildingID**: ID to identify the building. Measures were taken in three different buildings. Categorical integer values from 0 to 2.\n",
    "\n",
    "- **SpaceID**: Internal ID number to identify the Space (office, corridor, classroom) where the capture was taken. Categorical integer values.\n",
    "\n",
    "- **RelativePosition**: Relative position with respect to the Space (1 - Inside, 2 - Outside in Front of the door). Categorical integer values.\n",
    "\n",
    "- **UserID**: User identifier (see below). Categorical integer values.\n",
    "\n",
    "- **PhoneID**: Android device identifier (see below). Categorical integer values.\n",
    "\n",
    "- **Timestamp**: UNIX Time when the capture was taken. Integer value."
   ]
  },
  {
   "cell_type": "code",
   "execution_count": 3,
   "metadata": {},
   "outputs": [
    {
     "data": {
      "text/html": [
       "<div>\n",
       "<style scoped>\n",
       "    .dataframe tbody tr th:only-of-type {\n",
       "        vertical-align: middle;\n",
       "    }\n",
       "\n",
       "    .dataframe tbody tr th {\n",
       "        vertical-align: top;\n",
       "    }\n",
       "\n",
       "    .dataframe thead th {\n",
       "        text-align: right;\n",
       "    }\n",
       "</style>\n",
       "<table border=\"1\" class=\"dataframe\">\n",
       "  <thead>\n",
       "    <tr style=\"text-align: right;\">\n",
       "      <th></th>\n",
       "      <th>WAP001</th>\n",
       "      <th>WAP002</th>\n",
       "      <th>WAP003</th>\n",
       "      <th>WAP004</th>\n",
       "      <th>WAP005</th>\n",
       "      <th>WAP006</th>\n",
       "      <th>WAP007</th>\n",
       "      <th>WAP008</th>\n",
       "      <th>WAP009</th>\n",
       "      <th>WAP010</th>\n",
       "      <th>...</th>\n",
       "      <th>WAP520</th>\n",
       "      <th>LONGITUDE</th>\n",
       "      <th>LATITUDE</th>\n",
       "      <th>FLOOR</th>\n",
       "      <th>BUILDINGID</th>\n",
       "      <th>SPACEID</th>\n",
       "      <th>RELATIVEPOSITION</th>\n",
       "      <th>USERID</th>\n",
       "      <th>PHONEID</th>\n",
       "      <th>TIMESTAMP</th>\n",
       "    </tr>\n",
       "  </thead>\n",
       "  <tbody>\n",
       "    <tr>\n",
       "      <th>0</th>\n",
       "      <td>100</td>\n",
       "      <td>100</td>\n",
       "      <td>100</td>\n",
       "      <td>100</td>\n",
       "      <td>100</td>\n",
       "      <td>100</td>\n",
       "      <td>100</td>\n",
       "      <td>100</td>\n",
       "      <td>100</td>\n",
       "      <td>100</td>\n",
       "      <td>...</td>\n",
       "      <td>100</td>\n",
       "      <td>-7541.2643</td>\n",
       "      <td>4.864921e+06</td>\n",
       "      <td>2</td>\n",
       "      <td>1</td>\n",
       "      <td>106</td>\n",
       "      <td>2</td>\n",
       "      <td>2</td>\n",
       "      <td>23</td>\n",
       "      <td>1371713733</td>\n",
       "    </tr>\n",
       "    <tr>\n",
       "      <th>1</th>\n",
       "      <td>100</td>\n",
       "      <td>100</td>\n",
       "      <td>100</td>\n",
       "      <td>100</td>\n",
       "      <td>100</td>\n",
       "      <td>100</td>\n",
       "      <td>100</td>\n",
       "      <td>100</td>\n",
       "      <td>100</td>\n",
       "      <td>100</td>\n",
       "      <td>...</td>\n",
       "      <td>100</td>\n",
       "      <td>-7536.6212</td>\n",
       "      <td>4.864934e+06</td>\n",
       "      <td>2</td>\n",
       "      <td>1</td>\n",
       "      <td>106</td>\n",
       "      <td>2</td>\n",
       "      <td>2</td>\n",
       "      <td>23</td>\n",
       "      <td>1371713691</td>\n",
       "    </tr>\n",
       "    <tr>\n",
       "      <th>2</th>\n",
       "      <td>100</td>\n",
       "      <td>100</td>\n",
       "      <td>100</td>\n",
       "      <td>100</td>\n",
       "      <td>100</td>\n",
       "      <td>100</td>\n",
       "      <td>100</td>\n",
       "      <td>-97</td>\n",
       "      <td>100</td>\n",
       "      <td>100</td>\n",
       "      <td>...</td>\n",
       "      <td>100</td>\n",
       "      <td>-7519.1524</td>\n",
       "      <td>4.864950e+06</td>\n",
       "      <td>2</td>\n",
       "      <td>1</td>\n",
       "      <td>103</td>\n",
       "      <td>2</td>\n",
       "      <td>2</td>\n",
       "      <td>23</td>\n",
       "      <td>1371714095</td>\n",
       "    </tr>\n",
       "    <tr>\n",
       "      <th>3</th>\n",
       "      <td>100</td>\n",
       "      <td>100</td>\n",
       "      <td>100</td>\n",
       "      <td>100</td>\n",
       "      <td>100</td>\n",
       "      <td>100</td>\n",
       "      <td>100</td>\n",
       "      <td>100</td>\n",
       "      <td>100</td>\n",
       "      <td>100</td>\n",
       "      <td>...</td>\n",
       "      <td>100</td>\n",
       "      <td>-7524.5704</td>\n",
       "      <td>4.864934e+06</td>\n",
       "      <td>2</td>\n",
       "      <td>1</td>\n",
       "      <td>102</td>\n",
       "      <td>2</td>\n",
       "      <td>2</td>\n",
       "      <td>23</td>\n",
       "      <td>1371713807</td>\n",
       "    </tr>\n",
       "    <tr>\n",
       "      <th>4</th>\n",
       "      <td>100</td>\n",
       "      <td>100</td>\n",
       "      <td>100</td>\n",
       "      <td>100</td>\n",
       "      <td>100</td>\n",
       "      <td>100</td>\n",
       "      <td>100</td>\n",
       "      <td>100</td>\n",
       "      <td>100</td>\n",
       "      <td>100</td>\n",
       "      <td>...</td>\n",
       "      <td>100</td>\n",
       "      <td>-7632.1436</td>\n",
       "      <td>4.864982e+06</td>\n",
       "      <td>0</td>\n",
       "      <td>0</td>\n",
       "      <td>122</td>\n",
       "      <td>2</td>\n",
       "      <td>11</td>\n",
       "      <td>13</td>\n",
       "      <td>1369909710</td>\n",
       "    </tr>\n",
       "  </tbody>\n",
       "</table>\n",
       "<p>5 rows × 529 columns</p>\n",
       "</div>"
      ],
      "text/plain": [
       "   WAP001  WAP002  WAP003  WAP004  WAP005  WAP006  WAP007  WAP008  WAP009  \\\n",
       "0     100     100     100     100     100     100     100     100     100   \n",
       "1     100     100     100     100     100     100     100     100     100   \n",
       "2     100     100     100     100     100     100     100     -97     100   \n",
       "3     100     100     100     100     100     100     100     100     100   \n",
       "4     100     100     100     100     100     100     100     100     100   \n",
       "\n",
       "   WAP010  ...  WAP520  LONGITUDE      LATITUDE  FLOOR  BUILDINGID  SPACEID  \\\n",
       "0     100  ...     100 -7541.2643  4.864921e+06      2           1      106   \n",
       "1     100  ...     100 -7536.6212  4.864934e+06      2           1      106   \n",
       "2     100  ...     100 -7519.1524  4.864950e+06      2           1      103   \n",
       "3     100  ...     100 -7524.5704  4.864934e+06      2           1      102   \n",
       "4     100  ...     100 -7632.1436  4.864982e+06      0           0      122   \n",
       "\n",
       "   RELATIVEPOSITION  USERID  PHONEID   TIMESTAMP  \n",
       "0                 2       2       23  1371713733  \n",
       "1                 2       2       23  1371713691  \n",
       "2                 2       2       23  1371714095  \n",
       "3                 2       2       23  1371713807  \n",
       "4                 2      11       13  1369909710  \n",
       "\n",
       "[5 rows x 529 columns]"
      ]
     },
     "execution_count": 3,
     "metadata": {},
     "output_type": "execute_result"
    }
   ],
   "source": [
    "train_data.head()"
   ]
  },
  {
   "cell_type": "code",
   "execution_count": 4,
   "metadata": {},
   "outputs": [
    {
     "data": {
      "text/html": [
       "<div>\n",
       "<style scoped>\n",
       "    .dataframe tbody tr th:only-of-type {\n",
       "        vertical-align: middle;\n",
       "    }\n",
       "\n",
       "    .dataframe tbody tr th {\n",
       "        vertical-align: top;\n",
       "    }\n",
       "\n",
       "    .dataframe thead th {\n",
       "        text-align: right;\n",
       "    }\n",
       "</style>\n",
       "<table border=\"1\" class=\"dataframe\">\n",
       "  <thead>\n",
       "    <tr style=\"text-align: right;\">\n",
       "      <th></th>\n",
       "      <th>WAP001</th>\n",
       "      <th>WAP002</th>\n",
       "      <th>WAP003</th>\n",
       "      <th>WAP004</th>\n",
       "      <th>WAP005</th>\n",
       "      <th>WAP006</th>\n",
       "      <th>WAP007</th>\n",
       "      <th>WAP008</th>\n",
       "      <th>WAP009</th>\n",
       "      <th>WAP010</th>\n",
       "      <th>...</th>\n",
       "      <th>WAP520</th>\n",
       "      <th>LONGITUDE</th>\n",
       "      <th>LATITUDE</th>\n",
       "      <th>FLOOR</th>\n",
       "      <th>BUILDINGID</th>\n",
       "      <th>SPACEID</th>\n",
       "      <th>RELATIVEPOSITION</th>\n",
       "      <th>USERID</th>\n",
       "      <th>PHONEID</th>\n",
       "      <th>TIMESTAMP</th>\n",
       "    </tr>\n",
       "  </thead>\n",
       "  <tbody>\n",
       "    <tr>\n",
       "      <th>count</th>\n",
       "      <td>19937.000000</td>\n",
       "      <td>19937.000000</td>\n",
       "      <td>19937.0</td>\n",
       "      <td>19937.0</td>\n",
       "      <td>19937.000000</td>\n",
       "      <td>19937.000000</td>\n",
       "      <td>19937.000000</td>\n",
       "      <td>19937.000000</td>\n",
       "      <td>19937.000000</td>\n",
       "      <td>19937.000000</td>\n",
       "      <td>...</td>\n",
       "      <td>19937.0</td>\n",
       "      <td>19937.000000</td>\n",
       "      <td>1.993700e+04</td>\n",
       "      <td>19937.000000</td>\n",
       "      <td>19937.000000</td>\n",
       "      <td>19937.000000</td>\n",
       "      <td>19937.000000</td>\n",
       "      <td>19937.000000</td>\n",
       "      <td>19937.000000</td>\n",
       "      <td>1.993700e+04</td>\n",
       "    </tr>\n",
       "    <tr>\n",
       "      <th>mean</th>\n",
       "      <td>99.823644</td>\n",
       "      <td>99.820936</td>\n",
       "      <td>100.0</td>\n",
       "      <td>100.0</td>\n",
       "      <td>99.613733</td>\n",
       "      <td>97.130461</td>\n",
       "      <td>94.733661</td>\n",
       "      <td>93.820234</td>\n",
       "      <td>94.693936</td>\n",
       "      <td>99.163766</td>\n",
       "      <td>...</td>\n",
       "      <td>100.0</td>\n",
       "      <td>-7464.275947</td>\n",
       "      <td>4.864871e+06</td>\n",
       "      <td>1.674575</td>\n",
       "      <td>1.212820</td>\n",
       "      <td>148.429954</td>\n",
       "      <td>1.833024</td>\n",
       "      <td>9.068014</td>\n",
       "      <td>13.021869</td>\n",
       "      <td>1.371421e+09</td>\n",
       "    </tr>\n",
       "    <tr>\n",
       "      <th>std</th>\n",
       "      <td>5.866842</td>\n",
       "      <td>5.798156</td>\n",
       "      <td>0.0</td>\n",
       "      <td>0.0</td>\n",
       "      <td>8.615657</td>\n",
       "      <td>22.931890</td>\n",
       "      <td>30.541335</td>\n",
       "      <td>33.010404</td>\n",
       "      <td>30.305084</td>\n",
       "      <td>12.634045</td>\n",
       "      <td>...</td>\n",
       "      <td>0.0</td>\n",
       "      <td>123.402010</td>\n",
       "      <td>6.693318e+01</td>\n",
       "      <td>1.223078</td>\n",
       "      <td>0.833139</td>\n",
       "      <td>58.342106</td>\n",
       "      <td>0.372964</td>\n",
       "      <td>4.988720</td>\n",
       "      <td>5.362410</td>\n",
       "      <td>5.572054e+05</td>\n",
       "    </tr>\n",
       "    <tr>\n",
       "      <th>min</th>\n",
       "      <td>-97.000000</td>\n",
       "      <td>-90.000000</td>\n",
       "      <td>100.0</td>\n",
       "      <td>100.0</td>\n",
       "      <td>-97.000000</td>\n",
       "      <td>-98.000000</td>\n",
       "      <td>-99.000000</td>\n",
       "      <td>-98.000000</td>\n",
       "      <td>-98.000000</td>\n",
       "      <td>-99.000000</td>\n",
       "      <td>...</td>\n",
       "      <td>100.0</td>\n",
       "      <td>-7691.338400</td>\n",
       "      <td>4.864746e+06</td>\n",
       "      <td>0.000000</td>\n",
       "      <td>0.000000</td>\n",
       "      <td>1.000000</td>\n",
       "      <td>1.000000</td>\n",
       "      <td>1.000000</td>\n",
       "      <td>1.000000</td>\n",
       "      <td>1.369909e+09</td>\n",
       "    </tr>\n",
       "    <tr>\n",
       "      <th>25%</th>\n",
       "      <td>100.000000</td>\n",
       "      <td>100.000000</td>\n",
       "      <td>100.0</td>\n",
       "      <td>100.0</td>\n",
       "      <td>100.000000</td>\n",
       "      <td>100.000000</td>\n",
       "      <td>100.000000</td>\n",
       "      <td>100.000000</td>\n",
       "      <td>100.000000</td>\n",
       "      <td>100.000000</td>\n",
       "      <td>...</td>\n",
       "      <td>100.0</td>\n",
       "      <td>-7594.737000</td>\n",
       "      <td>4.864821e+06</td>\n",
       "      <td>1.000000</td>\n",
       "      <td>0.000000</td>\n",
       "      <td>110.000000</td>\n",
       "      <td>2.000000</td>\n",
       "      <td>5.000000</td>\n",
       "      <td>8.000000</td>\n",
       "      <td>1.371056e+09</td>\n",
       "    </tr>\n",
       "    <tr>\n",
       "      <th>50%</th>\n",
       "      <td>100.000000</td>\n",
       "      <td>100.000000</td>\n",
       "      <td>100.0</td>\n",
       "      <td>100.0</td>\n",
       "      <td>100.000000</td>\n",
       "      <td>100.000000</td>\n",
       "      <td>100.000000</td>\n",
       "      <td>100.000000</td>\n",
       "      <td>100.000000</td>\n",
       "      <td>100.000000</td>\n",
       "      <td>...</td>\n",
       "      <td>100.0</td>\n",
       "      <td>-7423.060900</td>\n",
       "      <td>4.864852e+06</td>\n",
       "      <td>2.000000</td>\n",
       "      <td>1.000000</td>\n",
       "      <td>129.000000</td>\n",
       "      <td>2.000000</td>\n",
       "      <td>11.000000</td>\n",
       "      <td>13.000000</td>\n",
       "      <td>1.371716e+09</td>\n",
       "    </tr>\n",
       "    <tr>\n",
       "      <th>75%</th>\n",
       "      <td>100.000000</td>\n",
       "      <td>100.000000</td>\n",
       "      <td>100.0</td>\n",
       "      <td>100.0</td>\n",
       "      <td>100.000000</td>\n",
       "      <td>100.000000</td>\n",
       "      <td>100.000000</td>\n",
       "      <td>100.000000</td>\n",
       "      <td>100.000000</td>\n",
       "      <td>100.000000</td>\n",
       "      <td>...</td>\n",
       "      <td>100.0</td>\n",
       "      <td>-7359.193000</td>\n",
       "      <td>4.864930e+06</td>\n",
       "      <td>3.000000</td>\n",
       "      <td>2.000000</td>\n",
       "      <td>207.000000</td>\n",
       "      <td>2.000000</td>\n",
       "      <td>13.000000</td>\n",
       "      <td>14.000000</td>\n",
       "      <td>1.371721e+09</td>\n",
       "    </tr>\n",
       "    <tr>\n",
       "      <th>max</th>\n",
       "      <td>100.000000</td>\n",
       "      <td>100.000000</td>\n",
       "      <td>100.0</td>\n",
       "      <td>100.0</td>\n",
       "      <td>100.000000</td>\n",
       "      <td>100.000000</td>\n",
       "      <td>100.000000</td>\n",
       "      <td>100.000000</td>\n",
       "      <td>100.000000</td>\n",
       "      <td>100.000000</td>\n",
       "      <td>...</td>\n",
       "      <td>100.0</td>\n",
       "      <td>-7300.818990</td>\n",
       "      <td>4.865017e+06</td>\n",
       "      <td>4.000000</td>\n",
       "      <td>2.000000</td>\n",
       "      <td>254.000000</td>\n",
       "      <td>2.000000</td>\n",
       "      <td>18.000000</td>\n",
       "      <td>24.000000</td>\n",
       "      <td>1.371738e+09</td>\n",
       "    </tr>\n",
       "  </tbody>\n",
       "</table>\n",
       "<p>8 rows × 529 columns</p>\n",
       "</div>"
      ],
      "text/plain": [
       "             WAP001        WAP002   WAP003   WAP004        WAP005  \\\n",
       "count  19937.000000  19937.000000  19937.0  19937.0  19937.000000   \n",
       "mean      99.823644     99.820936    100.0    100.0     99.613733   \n",
       "std        5.866842      5.798156      0.0      0.0      8.615657   \n",
       "min      -97.000000    -90.000000    100.0    100.0    -97.000000   \n",
       "25%      100.000000    100.000000    100.0    100.0    100.000000   \n",
       "50%      100.000000    100.000000    100.0    100.0    100.000000   \n",
       "75%      100.000000    100.000000    100.0    100.0    100.000000   \n",
       "max      100.000000    100.000000    100.0    100.0    100.000000   \n",
       "\n",
       "             WAP006        WAP007        WAP008        WAP009        WAP010  \\\n",
       "count  19937.000000  19937.000000  19937.000000  19937.000000  19937.000000   \n",
       "mean      97.130461     94.733661     93.820234     94.693936     99.163766   \n",
       "std       22.931890     30.541335     33.010404     30.305084     12.634045   \n",
       "min      -98.000000    -99.000000    -98.000000    -98.000000    -99.000000   \n",
       "25%      100.000000    100.000000    100.000000    100.000000    100.000000   \n",
       "50%      100.000000    100.000000    100.000000    100.000000    100.000000   \n",
       "75%      100.000000    100.000000    100.000000    100.000000    100.000000   \n",
       "max      100.000000    100.000000    100.000000    100.000000    100.000000   \n",
       "\n",
       "       ...   WAP520     LONGITUDE      LATITUDE         FLOOR    BUILDINGID  \\\n",
       "count  ...  19937.0  19937.000000  1.993700e+04  19937.000000  19937.000000   \n",
       "mean   ...    100.0  -7464.275947  4.864871e+06      1.674575      1.212820   \n",
       "std    ...      0.0    123.402010  6.693318e+01      1.223078      0.833139   \n",
       "min    ...    100.0  -7691.338400  4.864746e+06      0.000000      0.000000   \n",
       "25%    ...    100.0  -7594.737000  4.864821e+06      1.000000      0.000000   \n",
       "50%    ...    100.0  -7423.060900  4.864852e+06      2.000000      1.000000   \n",
       "75%    ...    100.0  -7359.193000  4.864930e+06      3.000000      2.000000   \n",
       "max    ...    100.0  -7300.818990  4.865017e+06      4.000000      2.000000   \n",
       "\n",
       "            SPACEID  RELATIVEPOSITION        USERID       PHONEID  \\\n",
       "count  19937.000000      19937.000000  19937.000000  19937.000000   \n",
       "mean     148.429954          1.833024      9.068014     13.021869   \n",
       "std       58.342106          0.372964      4.988720      5.362410   \n",
       "min        1.000000          1.000000      1.000000      1.000000   \n",
       "25%      110.000000          2.000000      5.000000      8.000000   \n",
       "50%      129.000000          2.000000     11.000000     13.000000   \n",
       "75%      207.000000          2.000000     13.000000     14.000000   \n",
       "max      254.000000          2.000000     18.000000     24.000000   \n",
       "\n",
       "          TIMESTAMP  \n",
       "count  1.993700e+04  \n",
       "mean   1.371421e+09  \n",
       "std    5.572054e+05  \n",
       "min    1.369909e+09  \n",
       "25%    1.371056e+09  \n",
       "50%    1.371716e+09  \n",
       "75%    1.371721e+09  \n",
       "max    1.371738e+09  \n",
       "\n",
       "[8 rows x 529 columns]"
      ]
     },
     "execution_count": 4,
     "metadata": {},
     "output_type": "execute_result"
    }
   ],
   "source": [
    "train_data.describe()"
   ]
  },
  {
   "cell_type": "code",
   "execution_count": 5,
   "metadata": {},
   "outputs": [
    {
     "data": {
      "text/html": [
       "<div>\n",
       "<style scoped>\n",
       "    .dataframe tbody tr th:only-of-type {\n",
       "        vertical-align: middle;\n",
       "    }\n",
       "\n",
       "    .dataframe tbody tr th {\n",
       "        vertical-align: top;\n",
       "    }\n",
       "\n",
       "    .dataframe thead th {\n",
       "        text-align: right;\n",
       "    }\n",
       "</style>\n",
       "<table border=\"1\" class=\"dataframe\">\n",
       "  <thead>\n",
       "    <tr style=\"text-align: right;\">\n",
       "      <th></th>\n",
       "      <th>FLOOR</th>\n",
       "      <th>BUILDINGID</th>\n",
       "      <th>SPACEID</th>\n",
       "      <th>RELATIVEPOSITION</th>\n",
       "      <th>USERID</th>\n",
       "      <th>PHONEID</th>\n",
       "    </tr>\n",
       "  </thead>\n",
       "  <tbody>\n",
       "    <tr>\n",
       "      <th>count</th>\n",
       "      <td>19937</td>\n",
       "      <td>19937</td>\n",
       "      <td>19937</td>\n",
       "      <td>19937</td>\n",
       "      <td>19937</td>\n",
       "      <td>19937</td>\n",
       "    </tr>\n",
       "    <tr>\n",
       "      <th>unique</th>\n",
       "      <td>5</td>\n",
       "      <td>3</td>\n",
       "      <td>123</td>\n",
       "      <td>2</td>\n",
       "      <td>18</td>\n",
       "      <td>16</td>\n",
       "    </tr>\n",
       "    <tr>\n",
       "      <th>top</th>\n",
       "      <td>3</td>\n",
       "      <td>2</td>\n",
       "      <td>202</td>\n",
       "      <td>2</td>\n",
       "      <td>11</td>\n",
       "      <td>14</td>\n",
       "    </tr>\n",
       "    <tr>\n",
       "      <th>freq</th>\n",
       "      <td>5048</td>\n",
       "      <td>9492</td>\n",
       "      <td>484</td>\n",
       "      <td>16608</td>\n",
       "      <td>4516</td>\n",
       "      <td>4835</td>\n",
       "    </tr>\n",
       "  </tbody>\n",
       "</table>\n",
       "</div>"
      ],
      "text/plain": [
       "        FLOOR BUILDINGID SPACEID RELATIVEPOSITION USERID PHONEID\n",
       "count   19937      19937   19937            19937  19937   19937\n",
       "unique      5          3     123                2     18      16\n",
       "top         3          2     202                2     11      14\n",
       "freq     5048       9492     484            16608   4516    4835"
      ]
     },
     "execution_count": 5,
     "metadata": {},
     "output_type": "execute_result"
    }
   ],
   "source": [
    "# Response variables in our problem are Building, Floor, Latitude, Longitude and Relative Position\n",
    "(train_data[['FLOOR','BUILDINGID', 'SPACEID','RELATIVEPOSITION','USERID','PHONEID']]\n",
    ".astype(str)\n",
    ".describe(include=['object']))"
   ]
  },
  {
   "cell_type": "markdown",
   "metadata": {},
   "source": [
    "From the [paper](http://ieeexplore.ieee.org/document/7275492/) on this dataset:\n",
    "\"Although both the training subset and the validation subset contain the same information, the latter includes the value 0 in some fields. These fields are: SpaceID, Relative Position with respect to SpaceID and UserID. As it has been commented before, this information was not recorded because the validation captures were taken at arbitrary points and the users were not tracked in this phase. **This fact tries to simulate a real localization system.**\"\n",
    "\n",
    "Hence, Space ID, Relative Position, User ID won't be used to model the Localization algorithm. Also, Phone iD won't be used as in a real system, new phones should be localized without being used in the training.\n",
    "\n",
    "Next, I focus on the pre-processing of the WAP RSSI columns."
   ]
  },
  {
   "cell_type": "markdown",
   "metadata": {},
   "source": [
    "#  Data Pre-Processing <a id='preprocess'></a>"
   ]
  },
  {
   "cell_type": "markdown",
   "metadata": {},
   "source": [
    "## Exploratory Data Analysis <a id='eda'></a>"
   ]
  },
  {
   "cell_type": "code",
   "execution_count": 6,
   "metadata": {},
   "outputs": [],
   "source": [
    "X_train = train_data.iloc[:,:520]\n",
    "X_test = test_data.iloc[:,:520]\n",
    "\n",
    "y_train = train_data.iloc[:,520:526]\n",
    "y_test = test_data.iloc[:,520:526]"
   ]
  },
  {
   "cell_type": "code",
   "execution_count": 7,
   "metadata": {},
   "outputs": [
    {
     "data": {
      "text/plain": [
       "(19937, 520)"
      ]
     },
     "execution_count": 7,
     "metadata": {},
     "output_type": "execute_result"
    }
   ],
   "source": [
    "X_train.shape"
   ]
  },
  {
   "cell_type": "code",
   "execution_count": 8,
   "metadata": {},
   "outputs": [],
   "source": [
    "X_train = (X_train\n",
    "             .replace(to_replace=100,value=np.nan))\n",
    "\n",
    "# Perform the same transform on Test data\n",
    "X_test = (X_test\n",
    "             .replace(to_replace=100,value=np.nan))"
   ]
  },
  {
   "cell_type": "markdown",
   "metadata": {},
   "source": [
    "We are replacing the out-of-range values with NaN to avoid disturbance to our analysis on in-range RSSI distribution."
   ]
  },
  {
   "cell_type": "code",
   "execution_count": 9,
   "metadata": {},
   "outputs": [
    {
     "data": {
      "text/plain": [
       "<matplotlib.axes._subplots.AxesSubplot at 0x125a79320>"
      ]
     },
     "execution_count": 9,
     "metadata": {},
     "output_type": "execute_result"
    },
    {
     "data": {
      "image/png": "[encoded data removed]",
      "text/plain": [
       "<Figure size 432x288 with 1 Axes>"
      ]
     },
     "metadata": {
      "needs_background": "light"
     },
     "output_type": "display_data"
    }
   ],
   "source": [
    "X_stack = X_train.stack(dropna=False)\n",
    "sns.distplot(X_stack.dropna(),kde = False)"
   ]
  },
  {
   "cell_type": "markdown",
   "metadata": {},
   "source": [
    "Skewness is a measure of asymmetry of distribution. Clearly, the distribution above appears right-skewed with majority of the values being on the left side of the distribution. Let's look at the skewness value for inidividual WAP RSSI distributions! We might have to perform a log/ Box-Cox transformation to overcome the skewness. \n",
    "\n",
    "Let's look at percentage of out-of-range overall and column wise."
   ]
  },
  {
   "cell_type": "code",
   "execution_count": 10,
   "metadata": {},
   "outputs": [
    {
     "data": {
      "text/plain": [
       "0.03460544947353394"
      ]
     },
     "execution_count": 10,
     "metadata": {},
     "output_type": "execute_result"
    }
   ],
   "source": [
    "# Proportion of out of range values\n",
    "sum(X_stack.isnull() == 0)/len(X_stack)"
   ]
  },
  {
   "cell_type": "markdown",
   "metadata": {},
   "source": [
    "**96.1% of the values in the matrix represent Out-of-Range.** This is expected as for any given measurement, only a subset of the APs might be in reach of the mobile device.\n",
    "\n",
    "For this purpose, let's analyze the ditribution of number of APs in range for the training data samples."
   ]
  },
  {
   "cell_type": "code",
   "execution_count": 11,
   "metadata": {},
   "outputs": [
    {
     "data": {
      "text/plain": [
       "Text(0.5, 0, 'Number of APs in range')"
      ]
     },
     "execution_count": 11,
     "metadata": {},
     "output_type": "execute_result"
    },
    {
     "data": {
      "image/png": "[encoded data removed]",
      "text/plain": [
       "<Figure size 432x288 with 1 Axes>"
      ]
     },
     "metadata": {
      "needs_background": "light"
     },
     "output_type": "display_data"
    }
   ],
   "source": [
    "waps_in_range = (X_train\n",
    "                 .notnull()\n",
    "                 .sum(axis = 1))\n",
    "\n",
    "fig, ax = plt.subplots(1,1)\n",
    "\n",
    "sns.violinplot(waps_in_range, ax = ax)\n",
    "ax.set_xlabel(\"Number of APs in range\")"
   ]
  },
  {
   "cell_type": "code",
   "execution_count": 12,
   "metadata": {
    "scrolled": true
   },
   "outputs": [
    {
     "data": {
      "text/plain": [
       "count    19937.000000\n",
       "mean        17.994834\n",
       "std          7.333575\n",
       "min          0.000000\n",
       "25%         13.000000\n",
       "50%         17.000000\n",
       "75%         22.000000\n",
       "max         51.000000\n",
       "dtype: float64"
      ]
     },
     "execution_count": 12,
     "metadata": {},
     "output_type": "execute_result"
    }
   ],
   "source": [
    "waps_in_range.describe()"
   ]
  },
  {
   "cell_type": "markdown",
   "metadata": {},
   "source": [
    "Interestingly, majority of the samples have over 13 APs in range with the maximum of 51 APs. We do observe some of the training samples with 0 APs in range. Let's remove these samples from the training data."
   ]
  },
  {
   "cell_type": "code",
   "execution_count": 13,
   "metadata": {},
   "outputs": [
    {
     "name": "stdout",
     "output_type": "stream",
     "text": [
      "Before sample removal: 19937\n",
      "After sample removal: 19861\n"
     ]
    }
   ],
   "source": [
    "print(\"Before sample removal:\", len(X_train))\n",
    "\n",
    "y_train = (y_train\n",
    "          .loc[X_train\n",
    "              .notnull()\n",
    "              .any(axis=1),:])\n",
    "\n",
    "X_train = (X_train\n",
    "           .loc[X_train\n",
    "                .notnull()\n",
    "                .any(axis=1),:])\n",
    "\n",
    "\n",
    "print(\"After sample removal:\", len(X_train))"
   ]
  },
  {
   "cell_type": "markdown",
   "metadata": {},
   "source": [
    "We cannot delete training samples with just a single AP or few APs in range as that is the best information we have to localize. \n",
    "\n",
    "We can remove the RSSI columns related to APs which are not in range in any of our training samples."
   ]
  },
  {
   "cell_type": "code",
   "execution_count": 14,
   "metadata": {},
   "outputs": [
    {
     "name": "stdout",
     "output_type": "stream",
     "text": [
      "Before removing predictors with no in-range values (19861, 520)\n",
      "After removing predictors with no in-range values (19861, 465)\n"
     ]
    }
   ],
   "source": [
    "# Removing columns with all NaN values\n",
    "all_nan = (X_train\n",
    "           .isnull()\n",
    "           .all(axis=0) == False)\n",
    "filtered_cols = (all_nan[all_nan]\n",
    "                 .index\n",
    "                 .values)\n",
    "\n",
    "print(\"Before removing predictors with no in-range values\", X_train.shape)\n",
    "\n",
    "X_train = X_train.loc[:,filtered_cols]\n",
    "X_test = X_test.loc[:,filtered_cols]\n",
    "\n",
    "print(\"After removing predictors with no in-range values\", X_train.shape)"
   ]
  },
  {
   "cell_type": "code",
   "execution_count": 15,
   "metadata": {},
   "outputs": [
    {
     "data": {
      "text/plain": [
       "((19861, 465), (1111, 465))"
      ]
     },
     "execution_count": 15,
     "metadata": {},
     "output_type": "execute_result"
    }
   ],
   "source": [
    "X_raw_train = X_train\n",
    "X_raw_test = X_test\n",
    "\n",
    "X_raw_train.shape, X_raw_test.shape"
   ]
  },
  {
   "cell_type": "markdown",
   "metadata": {},
   "source": [
    "## Skewness and Kurtosis <a id=\"skew-kurtosis\"></a>"
   ]
  },
  {
   "cell_type": "markdown",
   "metadata": {},
   "source": [
    "Skewness and kurtosis metrics are common measures to find out how close a distribution is to the normal distribution. When the data is far away from normality statistic significantly, Box-Cox transformation is one way to satisfy the normality. This is necessary for standard statistical tests, and also sometimes to satisfy the linear and/or the equal variance assumptions for a standard linear regression model"
   ]
  },
  {
   "cell_type": "code",
   "execution_count": 16,
   "metadata": {},
   "outputs": [
    {
     "data": {
      "text/plain": [
       "<matplotlib.axes._subplots.AxesSubplot at 0x1259da7b8>"
      ]
     },
     "execution_count": 16,
     "metadata": {},
     "output_type": "execute_result"
    },
    {
     "data": {
      "image/png": "[encoded data removed]",
      "text/plain": [
       "<Figure size 432x288 with 1 Axes>"
      ]
     },
     "metadata": {
      "needs_background": "light"
     },
     "output_type": "display_data"
    }
   ],
   "source": [
    "# Finding skewness ignoring out-of-range values\n",
    "X_skew = X_train.skew()\n",
    "\n",
    "sns.distplot(X_skew.dropna(),kde=False)"
   ]
  },
  {
   "cell_type": "markdown",
   "metadata": {},
   "source": [
    "We can observe majority of the WAP columns have a low to medium positive skewness in the region (0,1). There are still a few columns outside the (1,-1) range typically considered an acceptable range of skewness.\n",
    "\n",
    "Next, before we apply the Normality tests, we need to fill in the out-of-range values which are currently NaN. Box-Cox transformation requires all values to be positive. For this purpose, let's transform our predictors to normal scale from the dBm scale.\n",
    "\n",
    "Also, the out-of-range values are transformed to 1/hundreth of the absolute minimum among all in-range values. Therefore, the transformed out-of-range value represents the minimum RSSI value in the dataset."
   ]
  },
  {
   "cell_type": "code",
   "execution_count": 17,
   "metadata": {},
   "outputs": [
    {
     "name": "stdout",
     "output_type": "stream",
     "text": [
      "5.011872336272715e-11\n"
     ]
    }
   ],
   "source": [
    "X_exp_train = np.power(10,X_train/10,)\n",
    "X_exp_test = np.power(10,X_test/10)\n",
    "\n",
    "abs_min = (X_exp_train.apply(min).min())\n",
    "print(abs_min)\n",
    "\n",
    "X_exp_train.fillna(abs_min,inplace=True)\n",
    "X_exp_test.fillna(abs_min,inplace=True)"
   ]
  },
  {
   "cell_type": "code",
   "execution_count": 18,
   "metadata": {},
   "outputs": [
    {
     "data": {
      "text/plain": [
       "[<matplotlib.lines.Line2D at 0x125333e80>]"
      ]
     },
     "execution_count": 18,
     "metadata": {},
     "output_type": "execute_result"
    },
    {
     "data": {
      "image/png": "[encoded data removed]",
      "text/plain": [
       "<Figure size 432x288 with 1 Axes>"
      ]
     },
     "metadata": {
      "needs_background": "light"
     },
     "output_type": "display_data"
    }
   ],
   "source": [
    "plt.plot(X_exp_train.iloc[:,0])"
   ]
  },
  {
   "cell_type": "markdown",
   "metadata": {},
   "source": [
    "### Normality test "
   ]
  },
  {
   "cell_type": "markdown",
   "metadata": {},
   "source": [
    "In this sub-section, I will explore various normality tests and explore the distributions of  RSSI predictors.\n",
    "\n",
    "1. **Skew test**: Z-score of the test in which the null hypothesis states that that the skewness of the population that the sample was drawn from is the same as that of a corresponding normal distribution.\n",
    "\n",
    "2. **Kurtosis test**: Z-score of the test in which the null hypothesis states that the kurtosis of the population from which the sample was drawn is that of the normal distribution: kurtosis = 3(n-1)/(n+1).\n",
    "\n",
    "3. **k2**: $s^2 + k^2$, where $s$ is the z-score returned by skew test and $k$ is the z-score returned by kurtosistest.\n",
    "\n",
    "4. **p_value**: A 2-sided chi squared probability for the hypothesis test that the sample comes from a normal distribution. Same test as k2. "
   ]
  },
  {
   "cell_type": "code",
   "execution_count": 19,
   "metadata": {},
   "outputs": [],
   "source": [
    "from scipy.stats.mstats import normaltest, skewtest, kurtosistest, skew, kurtosis\n",
    "\n",
    "def normal_test(s):\n",
    "    s = s.dropna()\n",
    "    \n",
    "    # Minimum samples required for Kurtosis = 21\n",
    "    # Minimum samples required for Skewness = 8\n",
    "    if len(s) <=20:\n",
    "        return [np.nan, np.nan]\n",
    "    k2, pvalue = normaltest(s)\n",
    "    return list(normaltest(s))\n",
    "\n",
    "def skew_test(s):\n",
    "    s = s.dropna()\n",
    "    \n",
    "    # Minimum samples required for Skewness = 8\n",
    "    if len(s) <=8:\n",
    "        return np.nan\n",
    "    z_score,pval = skewtest(s)\n",
    "    return z_score\n",
    "\n",
    "def kurtosis_test(s):\n",
    "    s = s.dropna()\n",
    "    \n",
    "    # Minimum samples required for Kurtosis = 21\n",
    "    if len(s) <=20:\n",
    "        return np.nan\n",
    "    z_score,pval = kurtosistest(s)\n",
    "    return z_score\n",
    "\n",
    "def skew_score(s):\n",
    "    s = s.dropna()\n",
    "    return float(skew(s).data)\n",
    "\n",
    "def kurtosis_score(s):\n",
    "    s = s.dropna()\n",
    "    return kurtosis(s)\n",
    "\n",
    "def in_range(s):\n",
    "    return (s > abs_min).sum()"
   ]
  },
  {
   "cell_type": "code",
   "execution_count": 23,
   "metadata": {},
   "outputs": [
    {
     "data": {
      "text/html": [
       "<div>\n",
       "<style scoped>\n",
       "    .dataframe tbody tr th:only-of-type {\n",
       "        vertical-align: middle;\n",
       "    }\n",
       "\n",
       "    .dataframe tbody tr th {\n",
       "        vertical-align: top;\n",
       "    }\n",
       "\n",
       "    .dataframe thead th {\n",
       "        text-align: right;\n",
       "    }\n",
       "</style>\n",
       "<table border=\"1\" class=\"dataframe\">\n",
       "  <thead>\n",
       "    <tr style=\"text-align: right;\">\n",
       "      <th></th>\n",
       "      <th>Sample_Size</th>\n",
       "      <th>Skewness</th>\n",
       "      <th>Kurtosis</th>\n",
       "    </tr>\n",
       "  </thead>\n",
       "  <tbody>\n",
       "    <tr>\n",
       "      <th>WAP001</th>\n",
       "      <td>18</td>\n",
       "      <td>38.296999</td>\n",
       "      <td>1589.911556</td>\n",
       "    </tr>\n",
       "    <tr>\n",
       "      <th>WAP002</th>\n",
       "      <td>19</td>\n",
       "      <td>38.774718</td>\n",
       "      <td>1570.412878</td>\n",
       "    </tr>\n",
       "    <tr>\n",
       "      <th>WAP005</th>\n",
       "      <td>40</td>\n",
       "      <td>29.692772</td>\n",
       "      <td>988.020774</td>\n",
       "    </tr>\n",
       "    <tr>\n",
       "      <th>WAP006</th>\n",
       "      <td>308</td>\n",
       "      <td>49.203758</td>\n",
       "      <td>2649.644164</td>\n",
       "    </tr>\n",
       "    <tr>\n",
       "      <th>WAP007</th>\n",
       "      <td>578</td>\n",
       "      <td>48.199343</td>\n",
       "      <td>2544.345308</td>\n",
       "    </tr>\n",
       "    <tr>\n",
       "      <th>WAP008</th>\n",
       "      <td>677</td>\n",
       "      <td>15.905379</td>\n",
       "      <td>271.572833</td>\n",
       "    </tr>\n",
       "    <tr>\n",
       "      <th>WAP009</th>\n",
       "      <td>595</td>\n",
       "      <td>36.943490</td>\n",
       "      <td>1607.562517</td>\n",
       "    </tr>\n",
       "    <tr>\n",
       "      <th>WAP010</th>\n",
       "      <td>87</td>\n",
       "      <td>33.682378</td>\n",
       "      <td>1314.161272</td>\n",
       "    </tr>\n",
       "    <tr>\n",
       "      <th>WAP011</th>\n",
       "      <td>2956</td>\n",
       "      <td>91.377383</td>\n",
       "      <td>8749.417194</td>\n",
       "    </tr>\n",
       "    <tr>\n",
       "      <th>WAP012</th>\n",
       "      <td>2983</td>\n",
       "      <td>46.709112</td>\n",
       "      <td>2186.418420</td>\n",
       "    </tr>\n",
       "    <tr>\n",
       "      <th>WAP013</th>\n",
       "      <td>1975</td>\n",
       "      <td>41.630716</td>\n",
       "      <td>2224.512227</td>\n",
       "    </tr>\n",
       "    <tr>\n",
       "      <th>WAP014</th>\n",
       "      <td>1955</td>\n",
       "      <td>41.864942</td>\n",
       "      <td>2208.568286</td>\n",
       "    </tr>\n",
       "    <tr>\n",
       "      <th>WAP015</th>\n",
       "      <td>1007</td>\n",
       "      <td>14.216486</td>\n",
       "      <td>254.567147</td>\n",
       "    </tr>\n",
       "    <tr>\n",
       "      <th>WAP016</th>\n",
       "      <td>999</td>\n",
       "      <td>20.185881</td>\n",
       "      <td>501.190217</td>\n",
       "    </tr>\n",
       "    <tr>\n",
       "      <th>WAP017</th>\n",
       "      <td>84</td>\n",
       "      <td>24.103059</td>\n",
       "      <td>662.356727</td>\n",
       "    </tr>\n",
       "  </tbody>\n",
       "</table>\n",
       "</div>"
      ],
      "text/plain": [
       "        Sample_Size   Skewness     Kurtosis\n",
       "WAP001           18  38.296999  1589.911556\n",
       "WAP002           19  38.774718  1570.412878\n",
       "WAP005           40  29.692772   988.020774\n",
       "WAP006          308  49.203758  2649.644164\n",
       "WAP007          578  48.199343  2544.345308\n",
       "WAP008          677  15.905379   271.572833\n",
       "WAP009          595  36.943490  1607.562517\n",
       "WAP010           87  33.682378  1314.161272\n",
       "WAP011         2956  91.377383  8749.417194\n",
       "WAP012         2983  46.709112  2186.418420\n",
       "WAP013         1975  41.630716  2224.512227\n",
       "WAP014         1955  41.864942  2208.568286\n",
       "WAP015         1007  14.216486   254.567147\n",
       "WAP016          999  20.185881   501.190217\n",
       "WAP017           84  24.103059   662.356727"
      ]
     },
     "execution_count": 23,
     "metadata": {},
     "output_type": "execute_result"
    }
   ],
   "source": [
    "X_norm = pd.DataFrame({'Sample_Size': X_exp_train.apply(in_range),\n",
    "                         #'Normality': X_train.apply(normal_test),\n",
    "                         'Skewness': X_exp_train.apply(skew_score),\n",
    "                         'Kurtosis': X_exp_train.apply(kurtosis_score),\n",
    "                         #'Skew_Test': X_exp_train.apply(skew_test),\n",
    "                         #'Kurtosis_Test': X_exp_train.apply(kurtosis_test)\n",
    "                        })\n",
    "\n",
    "'''\n",
    "X_norm['k2'] = (X_norm['Normality']\n",
    "                 .apply(lambda x: x[0]))\n",
    "\n",
    "X_norm['p_value'] = (X_norm['Normality']\n",
    "                 .apply(lambda x: x[1]))\n",
    "\n",
    "X_norm.drop('Normality', axis = 1,inplace = True)\n",
    "'''\n",
    "\n",
    "X_norm.head(15)"
   ]
  },
  {
   "cell_type": "code",
   "execution_count": 24,
   "metadata": {},
   "outputs": [
    {
     "data": {
      "text/plain": [
       "19861"
      ]
     },
     "execution_count": 24,
     "metadata": {},
     "output_type": "execute_result"
    }
   ],
   "source": [
    "(X_exp_train.iloc[:,0] > 0.0).sum()"
   ]
  },
  {
   "cell_type": "markdown",
   "metadata": {},
   "source": [
    "Let's explore the relationship between Kurtosis scores and Skew scores."
   ]
  },
  {
   "cell_type": "code",
   "execution_count": 25,
   "metadata": {},
   "outputs": [
    {
     "data": {
      "text/plain": [
       "<seaborn.axisgrid.JointGrid at 0x125669f60>"
      ]
     },
     "execution_count": 25,
     "metadata": {},
     "output_type": "execute_result"
    },
    {
     "data": {
      "image/png": "[encoded data removed]",
      "text/plain": [
       "<Figure size 432x432 with 3 Axes>"
      ]
     },
     "metadata": {
      "needs_background": "light"
     },
     "output_type": "display_data"
    }
   ],
   "source": [
    "sns.jointplot(y=\"Kurtosis\", x=\"Skewness\", stat_func= None, data=X_norm)"
   ]
  },
  {
   "cell_type": "markdown",
   "metadata": {},
   "source": [
    "**Skewness:** For normally distributed data, the skewness should be about 0. A skewness value > 0 means that there is more weight in the left tail of the distribution. Similarly, a negative value indicates a left-skewed distribution with more weight on the right tail.\n",
    "\n",
    "Clearly, many of the predictors have a skewness outside the expected range of 0,0\n",
    "\n",
    "**Kurtosis:** Kurtosis is the fourth central moment divided by the square of the variance. If a distribution has  positive kurtosis, that means it has more in the tails than the normal distribution. Similarly, if a distribution has a negative kurtosis, it has less in the tails than the normal distribution. \n",
    "\n",
    "In the above figure, for the columns with a higher skewness score, the kurtosis is also more extreme.\n",
    "\n",
    "The statistical significance of the Skewness and Kurtosis scores can be checked plotting the z-scores of the Skew test and Kurtosis tests."
   ]
  },
  {
   "cell_type": "code",
   "execution_count": 26,
   "metadata": {},
   "outputs": [],
   "source": [
    "#sns.jointplot(y=\"Kurtosis_Test\", x=\"Skew_Test\", data=X_norm)"
   ]
  },
  {
   "cell_type": "markdown",
   "metadata": {},
   "source": [
    "## Box-Cox Transformation <a id=\"box-cox\"></a>"
   ]
  },
  {
   "cell_type": "markdown",
   "metadata": {},
   "source": [
    "To apply the Box-Cox transform we have to first make all our data positive. As we performed the exponential transformation, our data is already positive."
   ]
  },
  {
   "cell_type": "markdown",
   "metadata": {},
   "source": [
    "For example, let's observe the how the Box-Cox transformation parameter $\\lambda$ is fit for the first WAP RSSI predictor column in our current filtered training set. The figure below shows the Probability Plot Correlelation Coefficient, as obtained from probplot when fitting the Box-Cox transformed input predictor against a normal distribution."
   ]
  },
  {
   "cell_type": "code",
   "execution_count": 27,
   "metadata": {},
   "outputs": [
    {
     "data": {
      "text/plain": [
       "Text(-8, 0.1, '$\\\\lambda_{opt} = $-15.017136312668299')"
      ]
     },
     "execution_count": 27,
     "metadata": {},
     "output_type": "execute_result"
    },
    {
     "data": {
      "image/png": "[encoded data removed]",
      "text/plain": [
       "<Figure size 432x288 with 1 Axes>"
      ]
     },
     "metadata": {
      "needs_background": "light"
     },
     "output_type": "display_data"
    }
   ],
   "source": [
    "lmbdas, pppc = stats.boxcox_normplot(X_exp_train.iloc[:,100], -100, 100)\n",
    "\n",
    "fig,ax = plt.subplots(1,1)\n",
    "ax.plot(lmbdas,pppc,'bo')\n",
    "\n",
    "_, maxlog = stats.boxcox(X_exp_train.iloc[:,0])\n",
    "ax.axvline(maxlog, color='r')\n",
    "\n",
    "ax.set_xlabel(\"$\\lambda$\")\n",
    "ax.set_ylabel(\"Prob Plot Corr Coeff\")\n",
    "ax.text(x = -8, y = 0.1, s=\"$\\lambda_{opt} = $\" + str(maxlog))"
   ]
  },
  {
   "cell_type": "markdown",
   "metadata": {},
   "source": [
    "The maximum log likelihood function peaks at $\\lambda = 1.1437$. Next, let's find out the $\\lambda$s for different columns in our dataset."
   ]
  },
  {
   "cell_type": "code",
   "execution_count": 30,
   "metadata": {},
   "outputs": [],
   "source": [
    "def box_cox_lambda(s):\n",
    "    _, maxlog = stats.boxcox(s)\n",
    "    return maxlog"
   ]
  },
  {
   "cell_type": "code",
   "execution_count": 31,
   "metadata": {},
   "outputs": [
    {
     "ename": "ValueError",
     "evalue": "('Data must be positive.', 'occurred at index WAP001')",
     "output_type": "error",
     "traceback": [
      "\u001b[0;31m---------------------------------------------------------------------------\u001b[0m",
      "\u001b[0;31mValueError\u001b[0m                                Traceback (most recent call last)",
      "\u001b[0;32m<ipython-input-31-bcbee6a181d3>\u001b[0m in \u001b[0;36m<module>\u001b[0;34m\u001b[0m\n\u001b[0;32m----> 1\u001b[0;31m \u001b[0mlambda_bc\u001b[0m \u001b[0;34m=\u001b[0m \u001b[0mX_exp_train\u001b[0m\u001b[0;34m.\u001b[0m\u001b[0mapply\u001b[0m\u001b[0;34m(\u001b[0m\u001b[0mbox_cox_lambda\u001b[0m\u001b[0;34m)\u001b[0m\u001b[0;34m\u001b[0m\u001b[0;34m\u001b[0m\u001b[0m\n\u001b[0m\u001b[1;32m      2\u001b[0m \u001b[0;34m\u001b[0m\u001b[0m\n\u001b[1;32m      3\u001b[0m \u001b[0mX_boxcox_train\u001b[0m \u001b[0;34m=\u001b[0m \u001b[0mX_exp_train\u001b[0m\u001b[0;34m\u001b[0m\u001b[0;34m\u001b[0m\u001b[0m\n\u001b[1;32m      4\u001b[0m \u001b[0mX_boxcox_test\u001b[0m \u001b[0;34m=\u001b[0m \u001b[0mX_exp_test\u001b[0m\u001b[0;34m\u001b[0m\u001b[0;34m\u001b[0m\u001b[0m\n\u001b[1;32m      5\u001b[0m \u001b[0;34m\u001b[0m\u001b[0m\n",
      "\u001b[0;32m~/venv-python3.6/lib/python3.6/site-packages/pandas/core/frame.py\u001b[0m in \u001b[0;36mapply\u001b[0;34m(self, func, axis, broadcast, raw, reduce, result_type, args, **kwds)\u001b[0m\n\u001b[1;32m   6485\u001b[0m                          \u001b[0margs\u001b[0m\u001b[0;34m=\u001b[0m\u001b[0margs\u001b[0m\u001b[0;34m,\u001b[0m\u001b[0;34m\u001b[0m\u001b[0;34m\u001b[0m\u001b[0m\n\u001b[1;32m   6486\u001b[0m                          kwds=kwds)\n\u001b[0;32m-> 6487\u001b[0;31m         \u001b[0;32mreturn\u001b[0m \u001b[0mop\u001b[0m\u001b[0;34m.\u001b[0m\u001b[0mget_result\u001b[0m\u001b[0;34m(\u001b[0m\u001b[0;34m)\u001b[0m\u001b[0;34m\u001b[0m\u001b[0;34m\u001b[0m\u001b[0m\n\u001b[0m\u001b[1;32m   6488\u001b[0m \u001b[0;34m\u001b[0m\u001b[0m\n\u001b[1;32m   6489\u001b[0m     \u001b[0;32mdef\u001b[0m \u001b[0mapplymap\u001b[0m\u001b[0;34m(\u001b[0m\u001b[0mself\u001b[0m\u001b[0;34m,\u001b[0m \u001b[0mfunc\u001b[0m\u001b[0;34m)\u001b[0m\u001b[0;34m:\u001b[0m\u001b[0;34m\u001b[0m\u001b[0;34m\u001b[0m\u001b[0m\n",
      "\u001b[0;32m~/venv-python3.6/lib/python3.6/site-packages/pandas/core/apply.py\u001b[0m in \u001b[0;36mget_result\u001b[0;34m(self)\u001b[0m\n\u001b[1;32m    149\u001b[0m             \u001b[0;32mreturn\u001b[0m \u001b[0mself\u001b[0m\u001b[0;34m.\u001b[0m\u001b[0mapply_raw\u001b[0m\u001b[0;34m(\u001b[0m\u001b[0;34m)\u001b[0m\u001b[0;34m\u001b[0m\u001b[0;34m\u001b[0m\u001b[0m\n\u001b[1;32m    150\u001b[0m \u001b[0;34m\u001b[0m\u001b[0m\n\u001b[0;32m--> 151\u001b[0;31m         \u001b[0;32mreturn\u001b[0m \u001b[0mself\u001b[0m\u001b[0;34m.\u001b[0m\u001b[0mapply_standard\u001b[0m\u001b[0;34m(\u001b[0m\u001b[0;34m)\u001b[0m\u001b[0;34m\u001b[0m\u001b[0;34m\u001b[0m\u001b[0m\n\u001b[0m\u001b[1;32m    152\u001b[0m \u001b[0;34m\u001b[0m\u001b[0m\n\u001b[1;32m    153\u001b[0m     \u001b[0;32mdef\u001b[0m \u001b[0mapply_empty_result\u001b[0m\u001b[0;34m(\u001b[0m\u001b[0mself\u001b[0m\u001b[0;34m)\u001b[0m\u001b[0;34m:\u001b[0m\u001b[0;34m\u001b[0m\u001b[0;34m\u001b[0m\u001b[0m\n",
      "\u001b[0;32m~/venv-python3.6/lib/python3.6/site-packages/pandas/core/apply.py\u001b[0m in \u001b[0;36mapply_standard\u001b[0;34m(self)\u001b[0m\n\u001b[1;32m    255\u001b[0m \u001b[0;34m\u001b[0m\u001b[0m\n\u001b[1;32m    256\u001b[0m         \u001b[0;31m# compute the result using the series generator\u001b[0m\u001b[0;34m\u001b[0m\u001b[0;34m\u001b[0m\u001b[0;34m\u001b[0m\u001b[0m\n\u001b[0;32m--> 257\u001b[0;31m         \u001b[0mself\u001b[0m\u001b[0;34m.\u001b[0m\u001b[0mapply_series_generator\u001b[0m\u001b[0;34m(\u001b[0m\u001b[0;34m)\u001b[0m\u001b[0;34m\u001b[0m\u001b[0;34m\u001b[0m\u001b[0m\n\u001b[0m\u001b[1;32m    258\u001b[0m \u001b[0;34m\u001b[0m\u001b[0m\n\u001b[1;32m    259\u001b[0m         \u001b[0;31m# wrap results\u001b[0m\u001b[0;34m\u001b[0m\u001b[0;34m\u001b[0m\u001b[0;34m\u001b[0m\u001b[0m\n",
      "\u001b[0;32m~/venv-python3.6/lib/python3.6/site-packages/pandas/core/apply.py\u001b[0m in \u001b[0;36mapply_series_generator\u001b[0;34m(self)\u001b[0m\n\u001b[1;32m    284\u001b[0m             \u001b[0;32mtry\u001b[0m\u001b[0;34m:\u001b[0m\u001b[0;34m\u001b[0m\u001b[0;34m\u001b[0m\u001b[0m\n\u001b[1;32m    285\u001b[0m                 \u001b[0;32mfor\u001b[0m \u001b[0mi\u001b[0m\u001b[0;34m,\u001b[0m \u001b[0mv\u001b[0m \u001b[0;32min\u001b[0m \u001b[0menumerate\u001b[0m\u001b[0;34m(\u001b[0m\u001b[0mseries_gen\u001b[0m\u001b[0;34m)\u001b[0m\u001b[0;34m:\u001b[0m\u001b[0;34m\u001b[0m\u001b[0;34m\u001b[0m\u001b[0m\n\u001b[0;32m--> 286\u001b[0;31m                     \u001b[0mresults\u001b[0m\u001b[0;34m[\u001b[0m\u001b[0mi\u001b[0m\u001b[0;34m]\u001b[0m \u001b[0;34m=\u001b[0m \u001b[0mself\u001b[0m\u001b[0;34m.\u001b[0m\u001b[0mf\u001b[0m\u001b[0;34m(\u001b[0m\u001b[0mv\u001b[0m\u001b[0;34m)\u001b[0m\u001b[0;34m\u001b[0m\u001b[0;34m\u001b[0m\u001b[0m\n\u001b[0m\u001b[1;32m    287\u001b[0m                     \u001b[0mkeys\u001b[0m\u001b[0;34m.\u001b[0m\u001b[0mappend\u001b[0m\u001b[0;34m(\u001b[0m\u001b[0mv\u001b[0m\u001b[0;34m.\u001b[0m\u001b[0mname\u001b[0m\u001b[0;34m)\u001b[0m\u001b[0;34m\u001b[0m\u001b[0;34m\u001b[0m\u001b[0m\n\u001b[1;32m    288\u001b[0m             \u001b[0;32mexcept\u001b[0m \u001b[0mException\u001b[0m \u001b[0;32mas\u001b[0m \u001b[0me\u001b[0m\u001b[0;34m:\u001b[0m\u001b[0;34m\u001b[0m\u001b[0;34m\u001b[0m\u001b[0m\n",
      "\u001b[0;32m<ipython-input-30-c8eb54fb1ed1>\u001b[0m in \u001b[0;36mbox_cox_lambda\u001b[0;34m(s)\u001b[0m\n\u001b[1;32m      1\u001b[0m \u001b[0;32mdef\u001b[0m \u001b[0mbox_cox_lambda\u001b[0m\u001b[0;34m(\u001b[0m\u001b[0ms\u001b[0m\u001b[0;34m)\u001b[0m\u001b[0;34m:\u001b[0m\u001b[0;34m\u001b[0m\u001b[0;34m\u001b[0m\u001b[0m\n\u001b[0;32m----> 2\u001b[0;31m     \u001b[0m_\u001b[0m\u001b[0;34m,\u001b[0m \u001b[0mmaxlog\u001b[0m \u001b[0;34m=\u001b[0m \u001b[0mstats\u001b[0m\u001b[0;34m.\u001b[0m\u001b[0mboxcox\u001b[0m\u001b[0;34m(\u001b[0m\u001b[0ms\u001b[0m\u001b[0;34m)\u001b[0m\u001b[0;34m\u001b[0m\u001b[0;34m\u001b[0m\u001b[0m\n\u001b[0m\u001b[1;32m      3\u001b[0m     \u001b[0;32mreturn\u001b[0m \u001b[0mmaxlog\u001b[0m\u001b[0;34m\u001b[0m\u001b[0;34m\u001b[0m\u001b[0m\n",
      "\u001b[0;32m~/venv-python3.6/lib/python3.6/site-packages/scipy/stats/morestats.py\u001b[0m in \u001b[0;36mboxcox\u001b[0;34m(x, lmbda, alpha)\u001b[0m\n\u001b[1;32m   1043\u001b[0m \u001b[0;34m\u001b[0m\u001b[0m\n\u001b[1;32m   1044\u001b[0m     \u001b[0;32mif\u001b[0m \u001b[0many\u001b[0m\u001b[0;34m(\u001b[0m\u001b[0mx\u001b[0m \u001b[0;34m<=\u001b[0m \u001b[0;36m0\u001b[0m\u001b[0;34m)\u001b[0m\u001b[0;34m:\u001b[0m\u001b[0;34m\u001b[0m\u001b[0;34m\u001b[0m\u001b[0m\n\u001b[0;32m-> 1045\u001b[0;31m         \u001b[0;32mraise\u001b[0m \u001b[0mValueError\u001b[0m\u001b[0;34m(\u001b[0m\u001b[0;34m\"Data must be positive.\"\u001b[0m\u001b[0;34m)\u001b[0m\u001b[0;34m\u001b[0m\u001b[0;34m\u001b[0m\u001b[0m\n\u001b[0m\u001b[1;32m   1046\u001b[0m \u001b[0;34m\u001b[0m\u001b[0m\n\u001b[1;32m   1047\u001b[0m     \u001b[0;32mif\u001b[0m \u001b[0mlmbda\u001b[0m \u001b[0;32mis\u001b[0m \u001b[0;32mnot\u001b[0m \u001b[0;32mNone\u001b[0m\u001b[0;34m:\u001b[0m  \u001b[0;31m# single transformation\u001b[0m\u001b[0;34m\u001b[0m\u001b[0;34m\u001b[0m\u001b[0m\n",
      "\u001b[0;31mValueError\u001b[0m: ('Data must be positive.', 'occurred at index WAP001')"
     ]
    }
   ],
   "source": [
    "lambda_bc = X_exp_train.apply(box_cox_lambda)\n",
    "\n",
    "X_boxcox_train = X_exp_train\n",
    "X_boxcox_test = X_exp_test\n",
    "\n",
    "for wap in X_boxcox_train:\n",
    "    # Training data transform\n",
    "    X_boxcox_train.loc[:,wap] = stats.boxcox(X_exp_train.loc[:,wap],lmbda = lambda_bc.loc[wap])\n",
    "    # Test data transform\n",
    "    X_boxcox_test.loc[:,wap] = stats.boxcox(X_exp_test.loc[:,wap],lmbda = lambda_bc.loc[wap])"
   ]
  },
  {
   "cell_type": "code",
   "execution_count": 32,
   "metadata": {},
   "outputs": [
    {
     "data": {
      "image/png": "[encoded data removed]",
      "text/plain": [
       "<Figure size 432x288 with 1 Axes>"
      ]
     },
     "metadata": {
      "needs_background": "light"
     },
     "output_type": "display_data"
    }
   ],
   "source": [
    "sns.distplot(lambda_bc, kde = False)\n",
    "plt.title(\"Distribution of Box-Cox $\\lambda$ across predictors\")\n",
    "plt.tight_layout()"
   ]
  },
  {
   "cell_type": "markdown",
   "metadata": {},
   "source": [
    "The above figure shows the distribution of $\\lambda$s that maximize log-likelihood function for each predictor. We can observe the two biggestbars are located at +5 and -2.5."
   ]
  },
  {
   "cell_type": "code",
   "execution_count": 33,
   "metadata": {},
   "outputs": [
    {
     "data": {
      "text/html": [
       "<div>\n",
       "<style scoped>\n",
       "    .dataframe tbody tr th:only-of-type {\n",
       "        vertical-align: middle;\n",
       "    }\n",
       "\n",
       "    .dataframe tbody tr th {\n",
       "        vertical-align: top;\n",
       "    }\n",
       "\n",
       "    .dataframe thead th {\n",
       "        text-align: right;\n",
       "    }\n",
       "</style>\n",
       "<table border=\"1\" class=\"dataframe\">\n",
       "  <thead>\n",
       "    <tr style=\"text-align: right;\">\n",
       "      <th></th>\n",
       "      <th>Skewness</th>\n",
       "      <th>Kurtosis</th>\n",
       "      <th>BoxCox_Lambda</th>\n",
       "    </tr>\n",
       "  </thead>\n",
       "  <tbody>\n",
       "    <tr>\n",
       "      <th>WAP001</th>\n",
       "      <td>NaN</td>\n",
       "      <td>--</td>\n",
       "      <td>-15.017136</td>\n",
       "    </tr>\n",
       "    <tr>\n",
       "      <th>WAP002</th>\n",
       "      <td>NaN</td>\n",
       "      <td>--</td>\n",
       "      <td>-15.015994</td>\n",
       "    </tr>\n",
       "    <tr>\n",
       "      <th>WAP005</th>\n",
       "      <td>29.692772</td>\n",
       "      <td>988.021</td>\n",
       "      <td>-15.000278</td>\n",
       "    </tr>\n",
       "    <tr>\n",
       "      <th>WAP006</th>\n",
       "      <td>49.203758</td>\n",
       "      <td>2649.64</td>\n",
       "      <td>-14.957411</td>\n",
       "    </tr>\n",
       "    <tr>\n",
       "      <th>WAP007</th>\n",
       "      <td>48.199343</td>\n",
       "      <td>2544.35</td>\n",
       "      <td>-6.989975</td>\n",
       "    </tr>\n",
       "    <tr>\n",
       "      <th>WAP008</th>\n",
       "      <td>15.905379</td>\n",
       "      <td>271.573</td>\n",
       "      <td>-6.063101</td>\n",
       "    </tr>\n",
       "    <tr>\n",
       "      <th>WAP009</th>\n",
       "      <td>36.943490</td>\n",
       "      <td>1607.56</td>\n",
       "      <td>-5.750808</td>\n",
       "    </tr>\n",
       "    <tr>\n",
       "      <th>WAP010</th>\n",
       "      <td>33.682378</td>\n",
       "      <td>1314.16</td>\n",
       "      <td>-14.983900</td>\n",
       "    </tr>\n",
       "    <tr>\n",
       "      <th>WAP011</th>\n",
       "      <td>91.377383</td>\n",
       "      <td>8749.42</td>\n",
       "      <td>-0.975030</td>\n",
       "    </tr>\n",
       "    <tr>\n",
       "      <th>WAP012</th>\n",
       "      <td>46.709112</td>\n",
       "      <td>2186.42</td>\n",
       "      <td>-0.968725</td>\n",
       "    </tr>\n",
       "  </tbody>\n",
       "</table>\n",
       "</div>"
      ],
      "text/plain": [
       "         Skewness Kurtosis  BoxCox_Lambda\n",
       "WAP001        NaN       --     -15.017136\n",
       "WAP002        NaN       --     -15.015994\n",
       "WAP005  29.692772  988.021     -15.000278\n",
       "WAP006  49.203758  2649.64     -14.957411\n",
       "WAP007  48.199343  2544.35      -6.989975\n",
       "WAP008  15.905379  271.573      -6.063101\n",
       "WAP009  36.943490  1607.56      -5.750808\n",
       "WAP010  33.682378  1314.16     -14.983900\n",
       "WAP011  91.377383  8749.42      -0.975030\n",
       "WAP012  46.709112  2186.42      -0.968725"
      ]
     },
     "execution_count": 33,
     "metadata": {},
     "output_type": "execute_result"
    }
   ],
   "source": [
    "# After Box-Cox\n",
    "X_norm_post_boxcox = pd.DataFrame({'Skewness': X_boxcox_train.apply(skew_score),\n",
    "                         'Kurtosis': X_boxcox_train.apply(kurtosis_score),\n",
    "                         'BoxCox_Lambda': lambda_bc})\n",
    "\n",
    "X_norm_post_boxcox.head(10)"
   ]
  },
  {
   "cell_type": "markdown",
   "metadata": {},
   "source": [
    "The kurtosis and skewness seems to have greatly reduced compared to before the Box-Cox transformation. Let's compare!"
   ]
  },
  {
   "cell_type": "code",
   "execution_count": 34,
   "metadata": {},
   "outputs": [
    {
     "data": {
      "text/plain": [
       "Text(0.5, 1.0, 'Post- Box-Cox')"
      ]
     },
     "execution_count": 34,
     "metadata": {},
     "output_type": "execute_result"
    },
    {
     "data": {
      "image/png": "[encoded data removed]",
      "text/plain": [
       "<Figure size 432x288 with 2 Axes>"
      ]
     },
     "metadata": {
      "needs_background": "light"
     },
     "output_type": "display_data"
    }
   ],
   "source": [
    "fig, (ax1,ax2) = plt.subplots(1,2)\n",
    "\n",
    "ax1.scatter(y=\"Kurtosis\", x=\"Skewness\", data=X_norm)\n",
    "ax1.set_xlabel(\"Skewness\")\n",
    "ax1.set_ylabel(\"Kurtosis\")\n",
    "ax1.set_title(\"Pre- Box-Cox\")\n",
    "\n",
    "ax2.scatter(y=\"Kurtosis\", x=\"Skewness\", data=X_norm_post_boxcox)\n",
    "ax2.set_xlabel(\"Skewness\")\n",
    "ax2.set_ylabel(\"Kurtosis\")\n",
    "ax2.set_title(\"Post- Box-Cox\")"
   ]
  },
  {
   "cell_type": "markdown",
   "metadata": {},
   "source": [
    "Note that the scales for the two figures above are two orders of magnitude lower for Kurtosis and one order of mangnitude lower for Skewness after the Box-Cox transformation.\n",
    "\n",
    "I am interested in observing the univariate distribution of skewness and kurtosis to find out if majority of our predictors are now close to normal or not."
   ]
  },
  {
   "cell_type": "code",
   "execution_count": 35,
   "metadata": {},
   "outputs": [
    {
     "ename": "ValueError",
     "evalue": "color kwarg must have one color per data set. 463 data sets and 1 colors were provided",
     "output_type": "error",
     "traceback": [
      "\u001b[0;31m---------------------------------------------------------------------------\u001b[0m",
      "\u001b[0;31mValueError\u001b[0m                                Traceback (most recent call last)",
      "\u001b[0;32m<ipython-input-35-66b76da71396>\u001b[0m in \u001b[0;36m<module>\u001b[0;34m\u001b[0m\n\u001b[0;32m----> 1\u001b[0;31m \u001b[0msns\u001b[0m\u001b[0;34m.\u001b[0m\u001b[0mjointplot\u001b[0m\u001b[0;34m(\u001b[0m\u001b[0my\u001b[0m\u001b[0;34m=\u001b[0m\u001b[0;34m\"Kurtosis\"\u001b[0m\u001b[0;34m,\u001b[0m \u001b[0mx\u001b[0m\u001b[0;34m=\u001b[0m\u001b[0;34m\"Skewness\"\u001b[0m\u001b[0;34m,\u001b[0m \u001b[0mstat_func\u001b[0m \u001b[0;34m=\u001b[0m \u001b[0;32mNone\u001b[0m\u001b[0;34m,\u001b[0m\u001b[0mdata\u001b[0m\u001b[0;34m=\u001b[0m\u001b[0mX_norm_post_boxcox\u001b[0m\u001b[0;34m)\u001b[0m\u001b[0;34m\u001b[0m\u001b[0;34m\u001b[0m\u001b[0m\n\u001b[0m",
      "\u001b[0;32m~/venv-python3.6/lib/python3.6/site-packages/seaborn/axisgrid.py\u001b[0m in \u001b[0;36mjointplot\u001b[0;34m(x, y, data, kind, stat_func, color, height, ratio, space, dropna, xlim, ylim, joint_kws, marginal_kws, annot_kws, **kwargs)\u001b[0m\n\u001b[1;32m   2292\u001b[0m         \u001b[0mmarginal_kws\u001b[0m\u001b[0;34m.\u001b[0m\u001b[0msetdefault\u001b[0m\u001b[0;34m(\u001b[0m\u001b[0;34m\"kde\"\u001b[0m\u001b[0;34m,\u001b[0m \u001b[0;32mFalse\u001b[0m\u001b[0;34m)\u001b[0m\u001b[0;34m\u001b[0m\u001b[0;34m\u001b[0m\u001b[0m\n\u001b[1;32m   2293\u001b[0m         \u001b[0mmarginal_kws\u001b[0m\u001b[0;34m.\u001b[0m\u001b[0msetdefault\u001b[0m\u001b[0;34m(\u001b[0m\u001b[0;34m\"color\"\u001b[0m\u001b[0;34m,\u001b[0m \u001b[0mcolor\u001b[0m\u001b[0;34m)\u001b[0m\u001b[0;34m\u001b[0m\u001b[0;34m\u001b[0m\u001b[0m\n\u001b[0;32m-> 2294\u001b[0;31m         \u001b[0mgrid\u001b[0m\u001b[0;34m.\u001b[0m\u001b[0mplot_marginals\u001b[0m\u001b[0;34m(\u001b[0m\u001b[0mdistplot\u001b[0m\u001b[0;34m,\u001b[0m \u001b[0;34m**\u001b[0m\u001b[0mmarginal_kws\u001b[0m\u001b[0;34m)\u001b[0m\u001b[0;34m\u001b[0m\u001b[0;34m\u001b[0m\u001b[0m\n\u001b[0m\u001b[1;32m   2295\u001b[0m \u001b[0;34m\u001b[0m\u001b[0m\n\u001b[1;32m   2296\u001b[0m     \u001b[0;32melif\u001b[0m \u001b[0mkind\u001b[0m\u001b[0;34m.\u001b[0m\u001b[0mstartswith\u001b[0m\u001b[0;34m(\u001b[0m\u001b[0;34m\"hex\"\u001b[0m\u001b[0;34m)\u001b[0m\u001b[0;34m:\u001b[0m\u001b[0;34m\u001b[0m\u001b[0;34m\u001b[0m\u001b[0m\n",
      "\u001b[0;32m~/venv-python3.6/lib/python3.6/site-packages/seaborn/axisgrid.py\u001b[0m in \u001b[0;36mplot_marginals\u001b[0;34m(self, func, **kwargs)\u001b[0m\n\u001b[1;32m   1811\u001b[0m         \u001b[0mkwargs\u001b[0m\u001b[0;34m[\u001b[0m\u001b[0;34m\"vertical\"\u001b[0m\u001b[0;34m]\u001b[0m \u001b[0;34m=\u001b[0m \u001b[0;32mTrue\u001b[0m\u001b[0;34m\u001b[0m\u001b[0;34m\u001b[0m\u001b[0m\n\u001b[1;32m   1812\u001b[0m         \u001b[0mplt\u001b[0m\u001b[0;34m.\u001b[0m\u001b[0msca\u001b[0m\u001b[0;34m(\u001b[0m\u001b[0mself\u001b[0m\u001b[0;34m.\u001b[0m\u001b[0max_marg_y\u001b[0m\u001b[0;34m)\u001b[0m\u001b[0;34m\u001b[0m\u001b[0;34m\u001b[0m\u001b[0m\n\u001b[0;32m-> 1813\u001b[0;31m         \u001b[0mfunc\u001b[0m\u001b[0;34m(\u001b[0m\u001b[0mself\u001b[0m\u001b[0;34m.\u001b[0m\u001b[0my\u001b[0m\u001b[0;34m,\u001b[0m \u001b[0;34m**\u001b[0m\u001b[0mkwargs\u001b[0m\u001b[0;34m)\u001b[0m\u001b[0;34m\u001b[0m\u001b[0;34m\u001b[0m\u001b[0m\n\u001b[0m\u001b[1;32m   1814\u001b[0m \u001b[0;34m\u001b[0m\u001b[0m\n\u001b[1;32m   1815\u001b[0m         \u001b[0;32mreturn\u001b[0m \u001b[0mself\u001b[0m\u001b[0;34m\u001b[0m\u001b[0;34m\u001b[0m\u001b[0m\n",
      "\u001b[0;32m~/venv-python3.6/lib/python3.6/site-packages/seaborn/distributions.py\u001b[0m in \u001b[0;36mdistplot\u001b[0;34m(a, bins, hist, kde, rug, fit, hist_kws, kde_kws, rug_kws, fit_kws, color, vertical, norm_hist, axlabel, label, ax)\u001b[0m\n\u001b[1;32m    223\u001b[0m         \u001b[0mhist_color\u001b[0m \u001b[0;34m=\u001b[0m \u001b[0mhist_kws\u001b[0m\u001b[0;34m.\u001b[0m\u001b[0mpop\u001b[0m\u001b[0;34m(\u001b[0m\u001b[0;34m\"color\"\u001b[0m\u001b[0;34m,\u001b[0m \u001b[0mcolor\u001b[0m\u001b[0;34m)\u001b[0m\u001b[0;34m\u001b[0m\u001b[0;34m\u001b[0m\u001b[0m\n\u001b[1;32m    224\u001b[0m         ax.hist(a, bins, orientation=orientation,\n\u001b[0;32m--> 225\u001b[0;31m                 color=hist_color, **hist_kws)\n\u001b[0m\u001b[1;32m    226\u001b[0m         \u001b[0;32mif\u001b[0m \u001b[0mhist_color\u001b[0m \u001b[0;34m!=\u001b[0m \u001b[0mcolor\u001b[0m\u001b[0;34m:\u001b[0m\u001b[0;34m\u001b[0m\u001b[0;34m\u001b[0m\u001b[0m\n\u001b[1;32m    227\u001b[0m             \u001b[0mhist_kws\u001b[0m\u001b[0;34m[\u001b[0m\u001b[0;34m\"color\"\u001b[0m\u001b[0;34m]\u001b[0m \u001b[0;34m=\u001b[0m \u001b[0mhist_color\u001b[0m\u001b[0;34m\u001b[0m\u001b[0;34m\u001b[0m\u001b[0m\n",
      "\u001b[0;32m~/venv-python3.6/lib/python3.6/site-packages/matplotlib/__init__.py\u001b[0m in \u001b[0;36minner\u001b[0;34m(ax, data, *args, **kwargs)\u001b[0m\n\u001b[1;32m   1808\u001b[0m                         \u001b[0;34m\"the Matplotlib list!)\"\u001b[0m \u001b[0;34m%\u001b[0m \u001b[0;34m(\u001b[0m\u001b[0mlabel_namer\u001b[0m\u001b[0;34m,\u001b[0m \u001b[0mfunc\u001b[0m\u001b[0;34m.\u001b[0m\u001b[0m__name__\u001b[0m\u001b[0;34m)\u001b[0m\u001b[0;34m,\u001b[0m\u001b[0;34m\u001b[0m\u001b[0;34m\u001b[0m\u001b[0m\n\u001b[1;32m   1809\u001b[0m                         RuntimeWarning, stacklevel=2)\n\u001b[0;32m-> 1810\u001b[0;31m             \u001b[0;32mreturn\u001b[0m \u001b[0mfunc\u001b[0m\u001b[0;34m(\u001b[0m\u001b[0max\u001b[0m\u001b[0;34m,\u001b[0m \u001b[0;34m*\u001b[0m\u001b[0margs\u001b[0m\u001b[0;34m,\u001b[0m \u001b[0;34m**\u001b[0m\u001b[0mkwargs\u001b[0m\u001b[0;34m)\u001b[0m\u001b[0;34m\u001b[0m\u001b[0;34m\u001b[0m\u001b[0m\n\u001b[0m\u001b[1;32m   1811\u001b[0m \u001b[0;34m\u001b[0m\u001b[0m\n\u001b[1;32m   1812\u001b[0m         inner.__doc__ = _add_data_doc(inner.__doc__,\n",
      "\u001b[0;32m~/venv-python3.6/lib/python3.6/site-packages/matplotlib/axes/_axes.py\u001b[0m in \u001b[0;36mhist\u001b[0;34m(self, x, bins, range, density, weights, cumulative, bottom, histtype, align, orientation, rwidth, log, color, label, stacked, normed, **kwargs)\u001b[0m\n\u001b[1;32m   6563\u001b[0m                     \u001b[0;34m\"color kwarg must have one color per data set. %d data \"\u001b[0m\u001b[0;34m\u001b[0m\u001b[0;34m\u001b[0m\u001b[0m\n\u001b[1;32m   6564\u001b[0m                     \"sets and %d colors were provided\" % (nx, len(color)))\n\u001b[0;32m-> 6565\u001b[0;31m                 \u001b[0;32mraise\u001b[0m \u001b[0mValueError\u001b[0m\u001b[0;34m(\u001b[0m\u001b[0merror_message\u001b[0m\u001b[0;34m)\u001b[0m\u001b[0;34m\u001b[0m\u001b[0;34m\u001b[0m\u001b[0m\n\u001b[0m\u001b[1;32m   6566\u001b[0m \u001b[0;34m\u001b[0m\u001b[0m\n\u001b[1;32m   6567\u001b[0m         \u001b[0;31m# If bins are not specified either explicitly or via range,\u001b[0m\u001b[0;34m\u001b[0m\u001b[0;34m\u001b[0m\u001b[0;34m\u001b[0m\u001b[0m\n",
      "\u001b[0;31mValueError\u001b[0m: color kwarg must have one color per data set. 463 data sets and 1 colors were provided"
     ]
    },
    {
     "data": {
      "image/png": "[encoded data removed]",
      "text/plain": [
       "<Figure size 432x432 with 3 Axes>"
      ]
     },
     "metadata": {
      "needs_background": "light"
     },
     "output_type": "display_data"
    }
   ],
   "source": [
    "sns.jointplot(y=\"Kurtosis\", x=\"Skewness\", stat_func = None,data=X_norm_post_boxcox)"
   ]
  },
  {
   "cell_type": "markdown",
   "metadata": {},
   "source": [
    "We can observe the biggest bars are located in the region [0,1) for skewness and [0,-3) for kurtosis. \n",
    "\n",
    "At this point, we can remove the predictors that have high skewness (> 3) or high kurtosis (> 1). However, as predictor corresponds to RSSI distribution of a single WAP, there might be samples for which one or more of these WAPs might be the closest and correspondingly have the highest measure. For this purpose, I do not perform any predictor selection at this stage.\n",
    "\n",
    "Instead, we can explore how much of the variance in the dataset is explained by the predictors using Principal Component Analysis (PCA)."
   ]
  },
  {
   "cell_type": "markdown",
   "metadata": {},
   "source": [
    "# Dimensionality Reduction <a id = \"dimension-reduction\"></a>"
   ]
  },
  {
   "cell_type": "markdown",
   "metadata": {},
   "source": [
    "Dimensionality reduction is one of the key techniques to reduce the complexity. \n",
    "\n",
    "PCA is a simple dimensionality reduction technique that applies linear transformations on the original space. Among all the orthogonal linear projections, PCA minimizes the **reconstruction error**, which is the distance between the instance and its reconstruction from the lower-dimensional space. That is sum of the distances between points in original space and the corresponding points in lower-dimensional space.\n",
    "\n",
    "Before we can perform the PCA analysis, we need to bring the predictors to the same scale. Then, we analyze the correlations between the predictors and remove highly correlated predictors. This is because adjoining nearly correlated variables increases the contribution of their common underlying factor to the PCA. We can remove highly correlated predictors algorithmically or removing the correlations by whitening the data (conversion to Identity Covariance Matrix)."
   ]
  },
  {
   "cell_type": "markdown",
   "metadata": {},
   "source": [
    "## Feature Scaling"
   ]
  },
  {
   "cell_type": "markdown",
   "metadata": {},
   "source": [
    "Most models require the predictors to be on the same scale for better performancee. The main exceptions are decision-tree based models which are not dependent on scaling as the splits are univariate."
   ]
  },
  {
   "cell_type": "code",
   "execution_count": 36,
   "metadata": {},
   "outputs": [],
   "source": [
    "from sklearn.preprocessing import StandardScaler\n",
    "\n",
    "sc = StandardScaler()\n",
    "X_std_train = sc.fit_transform(X_boxcox_train)\n",
    "X_std_test = sc.transform(X_boxcox_test)\n",
    "\n",
    "X_std_train = pd.DataFrame(X_std_train)\n",
    "X_std_test = pd.DataFrame(X_std_test)"
   ]
  },
  {
   "cell_type": "code",
   "execution_count": 32,
   "metadata": {},
   "outputs": [
    {
     "data": {
      "text/plain": [
       "((19861, 465), (1111, 465))"
      ]
     },
     "execution_count": 32,
     "metadata": {},
     "output_type": "execute_result"
    }
   ],
   "source": [
    "X_std_train.shape, X_std_test.shape"
   ]
  },
  {
   "cell_type": "code",
   "execution_count": 33,
   "metadata": {},
   "outputs": [
    {
     "data": {
      "text/plain": [
       "array([  4,   5,   6,   8,   9,  10,  11,  12,  13,  16,  17,  20,  21,\n",
       "        22,  23,  24,  25,  26,  27,  28,  29,  30,  31,  32,  33,  34,\n",
       "        35,  36,  37,  38,  39,  40,  41,  42,  43,  44,  45,  46,  47,\n",
       "        48,  49,  50,  51,  54,  55,  56,  57,  58,  59,  60,  61,  62,\n",
       "        63,  64,  65,  66,  67,  70,  71,  72,  73,  74,  75,  77,  78,\n",
       "        79,  80,  81,  82,  84,  85,  86,  87,  88,  89,  90,  91,  92,\n",
       "        94,  95,  96,  97,  98,  99, 100, 101, 102, 103, 104, 105, 106,\n",
       "       107, 108, 109, 110, 111, 112, 113, 114, 115, 116, 117, 118, 119,\n",
       "       120, 121, 122, 123, 124, 125, 127, 128, 129, 130, 131, 132, 133,\n",
       "       134, 135, 136, 137, 138, 139, 140, 141, 142, 143, 144, 146, 147,\n",
       "       148, 150, 151, 153, 154, 155, 156, 157, 158, 159, 160, 161, 162,\n",
       "       163, 164, 165, 166, 167, 168, 169, 170, 171, 172, 173, 174, 175,\n",
       "       176, 177, 178, 180, 181, 192, 193, 209, 210, 211, 212, 223, 224,\n",
       "       228, 229, 230, 231, 232, 233, 234, 235, 236, 237, 242, 248, 251,\n",
       "       252, 253, 256, 258, 260, 262, 263, 267, 268, 278, 279, 280, 281,\n",
       "       282, 283, 284, 285, 286, 291, 297, 300, 301, 302, 303, 305, 307,\n",
       "       309, 311, 312, 313, 316, 317, 329, 330, 331, 332, 333, 334, 335,\n",
       "       337, 338, 343, 349, 352, 353, 354, 357, 359, 361, 363, 364, 367,\n",
       "       368, 388, 392, 404, 408, 429, 430, 432, 433, 434, 435, 436, 441,\n",
       "       442, 446, 447, 448, 456, 461, 462])"
      ]
     },
     "execution_count": 33,
     "metadata": {},
     "output_type": "execute_result"
    }
   ],
   "source": [
    "all_zero= ((X_std_train == 0) \n",
    "           .all()==False)\n",
    "\n",
    "all_zero[all_zero].index.values"
   ]
  },
  {
   "cell_type": "code",
   "execution_count": 34,
   "metadata": {},
   "outputs": [
    {
     "name": "stdout",
     "output_type": "stream",
     "text": [
      "Before removing predictors with only zeros (19861, 465)\n",
      "After removing predictors with only zeros (19861, 254)\n"
     ]
    }
   ],
   "source": [
    "#After the Box-Cox transformation and scaling, few of the predictors are reduced to a constant value of 0\n",
    "# Let's remove these predictors from the training and test data\n",
    "all_zero= ((X_std_train == 0) \n",
    "           .all()==False)\n",
    "filtered_cols = (all_zero[all_zero]\n",
    "                 .index\n",
    "                 .values)\n",
    "\n",
    "print(\"Before removing predictors with only zeros\", X_std_train.shape)\n",
    "\n",
    "X_rm_train = X_std_train.loc[:,filtered_cols]\n",
    "X_rm_test = X_std_test.loc[:,filtered_cols]\n",
    "\n",
    "print(\"After removing predictors with only zeros\", X_rm_train.shape)\n"
   ]
  },
  {
   "cell_type": "markdown",
   "metadata": {},
   "source": [
    "## Predictor Correlations <a id=\"predictor-correlations\"></a>"
   ]
  },
  {
   "cell_type": "markdown",
   "metadata": {},
   "source": [
    "[Read this explanation](http://stats.stackexchange.com/questions/50537/should-one-remove-highly-correlated-variables-before-doing-pca) about how PCA tends to over-emphasize the contributions of correlated predictors."
   ]
  },
  {
   "cell_type": "code",
   "execution_count": 35,
   "metadata": {},
   "outputs": [
    {
     "data": {
      "text/plain": [
       "<matplotlib.axes._subplots.AxesSubplot at 0x1186d8208>"
      ]
     },
     "execution_count": 35,
     "metadata": {},
     "output_type": "execute_result"
    },
    {
     "data": {
      "image/png": "[encoded data removed]",
      "text/plain": [
       "<matplotlib.figure.Figure at 0x103c37588>"
      ]
     },
     "metadata": {},
     "output_type": "display_data"
    }
   ],
   "source": [
    "X_train_corr = X_rm_train.corr()\n",
    "\n",
    "fig = plt.figure(figsize=(15,15))\n",
    "sns.heatmap(X_train_corr,xticklabels=False, yticklabels=False)"
   ]
  },
  {
   "cell_type": "markdown",
   "metadata": {},
   "source": [
    "Clearly, we observe clusters of predictors that are highly correlated. Let's assign a threshold of 0.8 and see how many predictor pairs have correlation above this threshold."
   ]
  },
  {
   "cell_type": "code",
   "execution_count": 36,
   "metadata": {},
   "outputs": [
    {
     "data": {
      "text/plain": [
       "16.0"
      ]
     },
     "execution_count": 36,
     "metadata": {},
     "output_type": "execute_result"
    }
   ],
   "source": [
    "corr_stack = X_train_corr.stack()\n",
    "corr_thresh = 0.9\n",
    "\n",
    "# Total entries in correlation matrix above threshold\n",
    "Nthresh = (abs(corr_stack) >= corr_thresh).sum()\n",
    "\n",
    "# Subtracting the correlation of predictor with themselves which is equal to 1\n",
    "Nthresh -= 254\n",
    "\n",
    "# Pairwise correlations appear twice in the matrix\n",
    "Nthresh *= 0.5\n",
    "\n",
    "Nthresh"
   ]
  },
  {
   "cell_type": "code",
   "execution_count": 37,
   "metadata": {},
   "outputs": [
    {
     "data": {
      "text/html": [
       "<div>\n",
       "<table border=\"1\" class=\"dataframe\">\n",
       "  <thead>\n",
       "    <tr style=\"text-align: right;\">\n",
       "      <th></th>\n",
       "      <th>4</th>\n",
       "      <th>5</th>\n",
       "      <th>6</th>\n",
       "      <th>8</th>\n",
       "      <th>9</th>\n",
       "      <th>10</th>\n",
       "      <th>11</th>\n",
       "      <th>12</th>\n",
       "      <th>13</th>\n",
       "      <th>16</th>\n",
       "      <th>...</th>\n",
       "      <th>435</th>\n",
       "      <th>436</th>\n",
       "      <th>441</th>\n",
       "      <th>442</th>\n",
       "      <th>446</th>\n",
       "      <th>447</th>\n",
       "      <th>448</th>\n",
       "      <th>456</th>\n",
       "      <th>461</th>\n",
       "      <th>462</th>\n",
       "    </tr>\n",
       "  </thead>\n",
       "  <tbody>\n",
       "    <tr>\n",
       "      <th>4</th>\n",
       "      <td>1.000000</td>\n",
       "      <td>-0.032524</td>\n",
       "      <td>0.092562</td>\n",
       "      <td>-0.072297</td>\n",
       "      <td>-0.072705</td>\n",
       "      <td>0.306424</td>\n",
       "      <td>0.326105</td>\n",
       "      <td>-0.040012</td>\n",
       "      <td>-0.039844</td>\n",
       "      <td>-0.017040</td>\n",
       "      <td>...</td>\n",
       "      <td>-0.041436</td>\n",
       "      <td>-0.064387</td>\n",
       "      <td>-0.074897</td>\n",
       "      <td>-0.096718</td>\n",
       "      <td>-0.077951</td>\n",
       "      <td>-0.095217</td>\n",
       "      <td>-0.054997</td>\n",
       "      <td>-0.052137</td>\n",
       "      <td>-0.073452</td>\n",
       "      <td>-0.093966</td>\n",
       "    </tr>\n",
       "    <tr>\n",
       "      <th>5</th>\n",
       "      <td>-0.032524</td>\n",
       "      <td>1.000000</td>\n",
       "      <td>-0.033013</td>\n",
       "      <td>-0.078445</td>\n",
       "      <td>-0.078888</td>\n",
       "      <td>-0.061610</td>\n",
       "      <td>-0.060374</td>\n",
       "      <td>-0.043415</td>\n",
       "      <td>-0.043233</td>\n",
       "      <td>-0.027544</td>\n",
       "      <td>...</td>\n",
       "      <td>-0.044960</td>\n",
       "      <td>-0.069863</td>\n",
       "      <td>-0.081267</td>\n",
       "      <td>-0.104944</td>\n",
       "      <td>-0.084581</td>\n",
       "      <td>-0.103315</td>\n",
       "      <td>-0.059674</td>\n",
       "      <td>-0.056571</td>\n",
       "      <td>-0.079698</td>\n",
       "      <td>-0.101957</td>\n",
       "    </tr>\n",
       "    <tr>\n",
       "      <th>6</th>\n",
       "      <td>0.092562</td>\n",
       "      <td>-0.033013</td>\n",
       "      <td>1.000000</td>\n",
       "      <td>-0.073385</td>\n",
       "      <td>-0.073799</td>\n",
       "      <td>0.424395</td>\n",
       "      <td>0.410362</td>\n",
       "      <td>-0.040614</td>\n",
       "      <td>-0.040444</td>\n",
       "      <td>0.367253</td>\n",
       "      <td>...</td>\n",
       "      <td>-0.042059</td>\n",
       "      <td>-0.065356</td>\n",
       "      <td>-0.076024</td>\n",
       "      <td>-0.098174</td>\n",
       "      <td>-0.079124</td>\n",
       "      <td>-0.096650</td>\n",
       "      <td>-0.055824</td>\n",
       "      <td>-0.052921</td>\n",
       "      <td>-0.074557</td>\n",
       "      <td>-0.095380</td>\n",
       "    </tr>\n",
       "    <tr>\n",
       "      <th>8</th>\n",
       "      <td>-0.072297</td>\n",
       "      <td>-0.078445</td>\n",
       "      <td>-0.073385</td>\n",
       "      <td>1.000000</td>\n",
       "      <td>0.860429</td>\n",
       "      <td>-0.138749</td>\n",
       "      <td>-0.137963</td>\n",
       "      <td>-0.096506</td>\n",
       "      <td>-0.096102</td>\n",
       "      <td>-0.061228</td>\n",
       "      <td>...</td>\n",
       "      <td>0.059106</td>\n",
       "      <td>0.013579</td>\n",
       "      <td>-0.078226</td>\n",
       "      <td>0.372824</td>\n",
       "      <td>-0.069382</td>\n",
       "      <td>0.302851</td>\n",
       "      <td>0.244019</td>\n",
       "      <td>0.085967</td>\n",
       "      <td>-0.064203</td>\n",
       "      <td>0.345796</td>\n",
       "    </tr>\n",
       "    <tr>\n",
       "      <th>9</th>\n",
       "      <td>-0.072705</td>\n",
       "      <td>-0.078888</td>\n",
       "      <td>-0.073799</td>\n",
       "      <td>0.860429</td>\n",
       "      <td>1.000000</td>\n",
       "      <td>-0.139531</td>\n",
       "      <td>-0.138741</td>\n",
       "      <td>-0.097050</td>\n",
       "      <td>-0.096644</td>\n",
       "      <td>-0.061573</td>\n",
       "      <td>...</td>\n",
       "      <td>0.059162</td>\n",
       "      <td>0.020887</td>\n",
       "      <td>-0.064465</td>\n",
       "      <td>0.370518</td>\n",
       "      <td>-0.066609</td>\n",
       "      <td>0.301852</td>\n",
       "      <td>0.255517</td>\n",
       "      <td>0.080549</td>\n",
       "      <td>-0.056104</td>\n",
       "      <td>0.339997</td>\n",
       "    </tr>\n",
       "  </tbody>\n",
       "</table>\n",
       "<p>5 rows × 254 columns</p>\n",
       "</div>"
      ],
      "text/plain": [
       "        4         5         6         8         9         10        11   \\\n",
       "4  1.000000 -0.032524  0.092562 -0.072297 -0.072705  0.306424  0.326105   \n",
       "5 -0.032524  1.000000 -0.033013 -0.078445 -0.078888 -0.061610 -0.060374   \n",
       "6  0.092562 -0.033013  1.000000 -0.073385 -0.073799  0.424395  0.410362   \n",
       "8 -0.072297 -0.078445 -0.073385  1.000000  0.860429 -0.138749 -0.137963   \n",
       "9 -0.072705 -0.078888 -0.073799  0.860429  1.000000 -0.139531 -0.138741   \n",
       "\n",
       "        12        13        16     ...          435       436       441  \\\n",
       "4 -0.040012 -0.039844 -0.017040    ...    -0.041436 -0.064387 -0.074897   \n",
       "5 -0.043415 -0.043233 -0.027544    ...    -0.044960 -0.069863 -0.081267   \n",
       "6 -0.040614 -0.040444  0.367253    ...    -0.042059 -0.065356 -0.076024   \n",
       "8 -0.096506 -0.096102 -0.061228    ...     0.059106  0.013579 -0.078226   \n",
       "9 -0.097050 -0.096644 -0.061573    ...     0.059162  0.020887 -0.064465   \n",
       "\n",
       "        442       446       447       448       456       461       462  \n",
       "4 -0.096718 -0.077951 -0.095217 -0.054997 -0.052137 -0.073452 -0.093966  \n",
       "5 -0.104944 -0.084581 -0.103315 -0.059674 -0.056571 -0.079698 -0.101957  \n",
       "6 -0.098174 -0.079124 -0.096650 -0.055824 -0.052921 -0.074557 -0.095380  \n",
       "8  0.372824 -0.069382  0.302851  0.244019  0.085967 -0.064203  0.345796  \n",
       "9  0.370518 -0.066609  0.301852  0.255517  0.080549 -0.056104  0.339997  \n",
       "\n",
       "[5 rows x 254 columns]"
      ]
     },
     "execution_count": 37,
     "metadata": {},
     "output_type": "execute_result"
    }
   ],
   "source": [
    "X_train_corr.head()"
   ]
  },
  {
   "cell_type": "markdown",
   "metadata": {},
   "source": [
    "Only 10 predictor correlation pairs have correlation above our defined threshold. As they are a small number compared to the total number of predictors, I do not remove any at this stage. In general, we can remove half of these predictors in the following manner:\n",
    "\n",
    "1. Determine the two predictors A and B with largest absolute pairwise correlation.\n",
    "\n",
    "2. Determine average correlation between A and other predictors. Repeat this for B.\n",
    "\n",
    "3. If A has a larger average correlation, remove it. Otherwise, remove B.\n",
    "\n",
    "4. Repeat 1-3 until no absolute correlation is above threshold.\n",
    "\n",
    "I found this technique in the Chapter 3 of **Applied Predictive Modeling** book. I've written a few personal notes on the most important information I learnt reading this chapter. You can [find it here](https://github.com/sharan-naribole/applied-predictive-modeling/blob/master/Chapter-3.md)."
   ]
  },
  {
   "cell_type": "markdown",
   "metadata": {
    "collapsed": true
   },
   "source": [
    "## Principal Component Analysis (PCA) <a id = \"pca\"></a>"
   ]
  },
  {
   "cell_type": "markdown",
   "metadata": {},
   "source": [
    "Dimensionality reduction is one of the key techniques to reduce the complexity. \n",
    "\n",
    "PCA is a simple dimensionality reduction technique that applies linear transformations on the original space. Among all the orthogonal linear projections, PCA minimizes the **reconstruction error**, which is the distance between the instance and its reconstruction from the lower-dimensional space. That is sum of the distances between points in original space and the corresponding points in lower-dimensional space.\n",
    "\n",
    "An important point to remember about PCA is that it is an **unsupervised** form of dimensionality reduction. This means the response variables are not taken into consideration at any point of the transformation. sci-kit learn provides convenient methods to perform PCA which I'll be using directly."
   ]
  },
  {
   "cell_type": "code",
   "execution_count": 38,
   "metadata": {},
   "outputs": [
    {
     "data": {
      "text/plain": [
       "PCA(copy=True, iterated_power='auto', n_components=None, random_state=None,\n",
       "  svd_solver='auto', tol=0.0, whiten=False)"
      ]
     },
     "execution_count": 38,
     "metadata": {},
     "output_type": "execute_result"
    }
   ],
   "source": [
    "from sklearn.decomposition import PCA\n",
    "\n",
    "pca = PCA()\n",
    "pca.fit(X_rm_train)"
   ]
  },
  {
   "cell_type": "code",
   "execution_count": 39,
   "metadata": {
    "scrolled": true
   },
   "outputs": [
    {
     "data": {
      "text/plain": [
       "[<matplotlib.axis.YTick at 0x118412710>,\n",
       " <matplotlib.axis.YTick at 0x1184126a0>,\n",
       " <matplotlib.axis.YTick at 0x118412160>,\n",
       " <matplotlib.axis.YTick at 0x1163a0470>,\n",
       " <matplotlib.axis.YTick at 0x1163a0f60>,\n",
       " <matplotlib.axis.YTick at 0x1163a4a90>,\n",
       " <matplotlib.axis.YTick at 0x1163a85c0>,\n",
       " <matplotlib.axis.YTick at 0x1163ab0f0>,\n",
       " <matplotlib.axis.YTick at 0x1163abbe0>,\n",
       " <matplotlib.axis.YTick at 0x1163af710>,\n",
       " <matplotlib.axis.YTick at 0x1163b3240>]"
      ]
     },
     "execution_count": 39,
     "metadata": {},
     "output_type": "execute_result"
    },
    {
     "data": {
      "image/png": "[encoded data removed]",
      "text/plain": [
       "<matplotlib.figure.Figure at 0x10f7b51d0>"
      ]
     },
     "metadata": {},
     "output_type": "display_data"
    }
   ],
   "source": [
    "# Borrowed from Sebastian Raschka's Python Machine Learning Book - Chapter 5\n",
    "\n",
    "fig, ax = plt.subplots(1,1)\n",
    "\n",
    "ax.bar(range(1, 255), pca.explained_variance_ratio_, alpha=0.5, align='center')\n",
    "ax.step(range(1, 255), np.cumsum(pca.explained_variance_ratio_), where='mid')\n",
    "ax.set_ylabel('Explained variance ratio')\n",
    "ax.set_xlabel('Principal components')\n",
    "ax.set_yticks(np.arange(0,1.1,0.1))"
   ]
  },
  {
   "cell_type": "markdown",
   "metadata": {},
   "source": [
    "Roughly 95% of the variance is explained by first 150 eigen vectors. Before, we perform the dimensionality reduction on our data, let's analyze the reconstruction error as a function of the dimensions."
   ]
  },
  {
   "cell_type": "code",
   "execution_count": 40,
   "metadata": {},
   "outputs": [],
   "source": [
    "X_rm_train = np.array(X_rm_train)\n",
    "mu = np.mean(X_rm_train,axis = 0)\n",
    "\n",
    "recon_error = []\n",
    "for nComp in range(1,X_rm_train.shape[1]):\n",
    "    #pca.components_ is already sorted by explained variance\n",
    "    Xrecon = np.dot(pca.transform(X_rm_train)[:,:nComp], pca.components_[:nComp,:])\n",
    "    Xrecon += mu\n",
    "    recon_error.append(sum(np.ravel(np.abs(Xrecon- X_rm_train)**2)))"
   ]
  },
  {
   "cell_type": "code",
   "execution_count": 41,
   "metadata": {},
   "outputs": [
    {
     "data": {
      "text/plain": [
       "<matplotlib.text.Text at 0x11ddae198>"
      ]
     },
     "execution_count": 41,
     "metadata": {},
     "output_type": "execute_result"
    },
    {
     "data": {
      "image/png": "[encoded data removed]",
      "text/plain": [
       "<matplotlib.figure.Figure at 0x11ded6470>"
      ]
     },
     "metadata": {},
     "output_type": "display_data"
    }
   ],
   "source": [
    "pd.Series(recon_error).plot()\n",
    "plt.xlabel(\"Number of Eigen Vectors\")\n",
    "plt.ylabel(\"Reconstruction Error\")"
   ]
  },
  {
   "cell_type": "markdown",
   "metadata": {},
   "source": [
    "As the number of principal components used for the reconstruction increases, the reconstruction error expectedly decreases. This figure is a mirror image of the previous explained variance ratio figure. \n",
    "\n",
    "As 95% of the explained variance is explained by top 150 components, I will reduce my training and test data to 150 dimensions."
   ]
  },
  {
   "cell_type": "code",
   "execution_count": 42,
   "metadata": {},
   "outputs": [
    {
     "data": {
      "text/plain": [
       "((19861, 150), (1111, 150))"
      ]
     },
     "execution_count": 42,
     "metadata": {},
     "output_type": "execute_result"
    }
   ],
   "source": [
    "Ndim_reduce = 150\n",
    "X_train_pca = pca.transform(X_rm_train)[:,:Ndim_reduce]\n",
    "X_test_pca = pca.transform(X_rm_test)[:,:Ndim_reduce]\n",
    "\n",
    "X_train_pca.shape,X_test_pca.shape"
   ]
  },
  {
   "cell_type": "code",
   "execution_count": null,
   "metadata": {
    "collapsed": true
   },
   "outputs": [],
   "source": [
    "# First, let's save our data into a file\n",
    "f = open(\"data_after_PCA.pckl\", \"wb\")\n",
    "pickle.dump(X_train_pca,f)\n",
    "pickle.dump(y_train,f)\n",
    "pickle.dump(X_test_pca,f)\n",
    "pickle.dump(y_test,f)"
   ]
  },
  {
   "cell_type": "code",
   "execution_count": null,
   "metadata": {},
   "outputs": [],
   "source": [
    "crossval_raw_df, holdout_raw_df = train_test_split(X_raw_train, test_size = 0.1,random_state = 1)\n",
    "\n",
    "crossval_raw_df.shape, holdout_raw_df.shape"
   ]
  },
  {
   "cell_type": "code",
   "execution_count": null,
   "metadata": {
    "collapsed": true
   },
   "outputs": [],
   "source": [
    "crossval_raw_df.to_csv(\"X_raw_crossval.csv\",na_rep = 'NaN')\n",
    "holdout_raw_df.to_csv(\"X_raw_holdout.csv\",na_rep = 'NaN')"
   ]
  },
  {
   "cell_type": "code",
   "execution_count": null,
   "metadata": {},
   "outputs": [],
   "source": [
    "crossval_pca_df, holdout_pca_df = train_test_split(X_train_pca, test_size = 0.1,random_state = 1)\n",
    "\n",
    "crossval_pca_df.shape,holdout_pca_df.shape"
   ]
  },
  {
   "cell_type": "code",
   "execution_count": null,
   "metadata": {},
   "outputs": [],
   "source": [
    "crossval_pca_df = pd.DataFrame(crossval_pca_df,index=crossval_raw_df.index)\n",
    "holdout_pca_df = pd.DataFrame(holdout_pca_df,index=holdout_raw_df.index)\n",
    "\n",
    "pd.DataFrame(crossval_pca_df).to_csv(\"X_pca_crossval.csv\",na_rep = 'NaN')\n",
    "pd.DataFrame(holdout_pca_df).to_csv(\"X_pca_holdout.csv\",na_rep = 'NaN')"
   ]
  },
  {
   "cell_type": "code",
   "execution_count": null,
   "metadata": {},
   "outputs": [],
   "source": [
    "y_crossval, y_holdout = train_test_split(y_train, test_size = 0.1,random_state = 1)\n",
    "\n",
    "y_crossval.shape, y_holdout.shape"
   ]
  },
  {
   "cell_type": "code",
   "execution_count": null,
   "metadata": {
    "collapsed": true
   },
   "outputs": [],
   "source": [
    "y_crossval.to_csv(\"y_crossval.csv\",na_rep = 'NaN')\n",
    "y_holdout.to_csv(\"y_holdout.csv\",na_rep = 'NaN')"
   ]
  },
  {
   "cell_type": "code",
   "execution_count": 43,
   "metadata": {},
   "outputs": [],
   "source": [
    "X_raw_test.to_csv(\"X_raw_test.csv\", na_rep= 'NaN')\n",
    "pd.DataFrame(X_test_pca).to_csv(\"X_pca_test.csv\",na_rep = 'NaN')"
   ]
  },
  {
   "cell_type": "code",
   "execution_count": null,
   "metadata": {
    "collapsed": true
   },
   "outputs": [],
   "source": []
  }
 ],
 "metadata": {
  "kernelspec": {
   "display_name": "Python 3",
   "language": "python",
   "name": "python3"
  },
  "language_info": {
   "codemirror_mode": {
    "name": "ipython",
    "version": 3
   },
   "file_extension": ".py",
   "mimetype": "text/x-python",
   "name": "python",
   "nbconvert_exporter": "python",
   "pygments_lexer": "ipython3",
   "version": "3.6.7"
  }
 },
 "nbformat": 4,
 "nbformat_minor": 2
}
