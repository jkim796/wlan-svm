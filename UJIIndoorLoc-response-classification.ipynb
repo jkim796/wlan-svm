{
 "cells": [
  {
   "cell_type": "markdown",
   "metadata": {},
   "source": [
    "# UJIIndoorLoc Response EDA and Classification - Part 2"
   ]
  },
  {
   "cell_type": "markdown",
   "metadata": {},
   "source": [
    "In the [previous notebook](#UJIIndoorLoc-preprocess.ipynb), we performed various transformations on the independent variables of the raw UJIIndoorLoc dataset to prepare it for the machine learning. \n",
    "\n",
    "In this notebook, first, I focus on our response variables including building ID, floor ID, latitiude and longitude. Understanding the class imbalance in classification responses buildingID and floorID is important for training our machine learning models. Similarly, I analyze the distributions of our regression response variables latitude and longitude and their relationship with the building ID and floor ID. Second, I formulate the localization problem for the machine learning. Finally, I begin constructing machine learning framework first by focusing on regression without Floor and Building information. In future notebooks, I will model and evaluate cascade machine learning frameworks that perform building and floor classification before applying building and floor-optimized regression models."
   ]
  },
  {
   "cell_type": "markdown",
   "metadata": {},
   "source": [
    "## Table of Contents\n",
    "\n",
    "1. [Setup](#setup)\n",
    "\n",
    "2. [Response EDA](#response-eda)\n",
    "\n",
    "3. [Problem Formulation](#problem-formulation)\n",
    "\n",
    "4. [Multi-Variable Multivariate Regression](#regression)\n",
    "                \n",
    "6. [Conclusion](#conclusion)"
   ]
  },
  {
   "cell_type": "markdown",
   "metadata": {},
   "source": [
    "<p><a name=\"setup\"></a></p>"
   ]
  },
  {
   "cell_type": "markdown",
   "metadata": {},
   "source": [
    "## 1. Setup"
   ]
  },
  {
   "cell_type": "code",
   "execution_count": 1,
   "metadata": {
    "collapsed": true
   },
   "outputs": [],
   "source": [
    "# Data Collection and Transformations\n",
    "import numpy as np\n",
    "import pandas as pd\n",
    "import datetime as dt\n",
    "import time\n",
    "import pickle\n",
    "from sklearn.preprocessing import Imputer, StandardScaler\n",
    "\n",
    "# Statistical Testing\n",
    "import statsmodels.api as sm\n",
    "from statsmodels.formula.api import ols\n",
    "import scipy\n",
    "\n",
    "# Machine Learning\n",
    "from sklearn.model_selection import train_test_split, cross_val_score\n",
    "from sklearn.preprocessing import PolynomialFeatures\n",
    "from sklearn.decomposition import PCA\n",
    "from sklearn.model_selection import learning_curve, validation_curve\n",
    "\n",
    "from sklearn.linear_model import LinearRegression, Lasso, Ridge\n",
    "from sklearn.kernel_ridge import KernelRidge\n",
    "from sklearn.neighbors import KNeighborsRegressor\n",
    "from sklearn.tree import ExtraTreeRegressor\n",
    "from sklearn.ensemble import RandomForestRegressor, ExtraTreesRegressor\n",
    "from sklearn.multioutput import MultiOutputRegressor\n",
    "from sklearn.svm import SVR\n",
    "from sklearn.model_selection import GridSearchCV\n",
    "from sklearn.neural_network import MLPRegressor\n",
    "\n",
    "\n",
    "import xgboost as xgb\n",
    "from xgboost.sklearn import XGBRegressor\n",
    "\n",
    "from sklearn.pipeline import Pipeline\n",
    "\n",
    "# Class imbalance \n",
    "from imblearn.over_sampling import SMOTE\n",
    "from imblearn.pipeline import make_pipeline\n",
    "\n",
    "# Plotting \n",
    "import matplotlib\n",
    "import matplotlib.pyplot as plt\n",
    "from matplotlib.colors import ListedColormap\n",
    "plt.rcParams['figure.figsize'] = [10,8]\n",
    "import seaborn as sns\n",
    "%matplotlib inline\n",
    "\n",
    "import warnings"
   ]
  },
  {
   "cell_type": "markdown",
   "metadata": {},
   "source": [
    "Loading the transformed data from our previous notebook."
   ]
  },
  {
   "cell_type": "code",
   "execution_count": 2,
   "metadata": {
    "collapsed": false
   },
   "outputs": [
    {
     "data": {
      "text/plain": [
       "((17874, 150), (17874, 6), (1987, 150), (1987, 6))"
      ]
     },
     "execution_count": 2,
     "metadata": {},
     "output_type": "execute_result"
    }
   ],
   "source": [
    "X_pca_crossval = pd.read_csv(\"data/X_pca_crossval.csv\",index_col=0)\n",
    "y_crossval = pd.read_csv(\"data/y_crossval.csv\",index_col=0)\n",
    "\n",
    "X_pca_holdout = pd.read_csv(\"data/X_pca_holdout.csv\",index_col=0)\n",
    "y_holdout = pd.read_csv(\"data/y_holdout.csv\",index_col=0)\n",
    "\n",
    "X_raw_crossval = pd.read_csv(\"data/X_raw_crossval.csv\",index_col=0)\n",
    "X_raw_holdout = pd.read_csv(\"data/X_raw_holdout.csv\",index_col=0)\n",
    "\n",
    "X_pca_crossval.shape,y_crossval.shape,X_pca_holdout.shape,y_holdout.shape"
   ]
  },
  {
   "cell_type": "code",
   "execution_count": 3,
   "metadata": {
    "collapsed": true
   },
   "outputs": [],
   "source": [
    "X_raw_crossval.fillna(value=100,inplace=True)\n",
    "X_raw_holdout.fillna(value=100,inplace=True)"
   ]
  },
  {
   "cell_type": "markdown",
   "metadata": {},
   "source": [
    "<p><a name=\"building-eda\"></a></p>"
   ]
  },
  {
   "cell_type": "code",
   "execution_count": 5,
   "metadata": {
    "collapsed": false
   },
   "outputs": [
    {
     "data": {
      "text/html": [
       "<div>\n",
       "<table border=\"1\" class=\"dataframe\">\n",
       "  <thead>\n",
       "    <tr style=\"text-align: right;\">\n",
       "      <th></th>\n",
       "      <th>LONGITUDE</th>\n",
       "      <th>LATITUDE</th>\n",
       "      <th>FLOOR</th>\n",
       "      <th>BUILDINGID</th>\n",
       "      <th>SPACEID</th>\n",
       "      <th>RELATIVEPOSITION</th>\n",
       "    </tr>\n",
       "  </thead>\n",
       "  <tbody>\n",
       "    <tr>\n",
       "      <th>14651</th>\n",
       "      <td>-7367.4588</td>\n",
       "      <td>4.864842e+06</td>\n",
       "      <td>1</td>\n",
       "      <td>2</td>\n",
       "      <td>117</td>\n",
       "      <td>2</td>\n",
       "    </tr>\n",
       "    <tr>\n",
       "      <th>16771</th>\n",
       "      <td>-7594.2641</td>\n",
       "      <td>4.864982e+06</td>\n",
       "      <td>3</td>\n",
       "      <td>0</td>\n",
       "      <td>108</td>\n",
       "      <td>2</td>\n",
       "    </tr>\n",
       "    <tr>\n",
       "      <th>17601</th>\n",
       "      <td>-7596.2032</td>\n",
       "      <td>4.864982e+06</td>\n",
       "      <td>3</td>\n",
       "      <td>0</td>\n",
       "      <td>107</td>\n",
       "      <td>2</td>\n",
       "    </tr>\n",
       "    <tr>\n",
       "      <th>6651</th>\n",
       "      <td>-7322.5876</td>\n",
       "      <td>4.864821e+06</td>\n",
       "      <td>0</td>\n",
       "      <td>2</td>\n",
       "      <td>103</td>\n",
       "      <td>2</td>\n",
       "    </tr>\n",
       "    <tr>\n",
       "      <th>86</th>\n",
       "      <td>-7384.2113</td>\n",
       "      <td>4.864776e+06</td>\n",
       "      <td>3</td>\n",
       "      <td>2</td>\n",
       "      <td>222</td>\n",
       "      <td>2</td>\n",
       "    </tr>\n",
       "  </tbody>\n",
       "</table>\n",
       "</div>"
      ],
      "text/plain": [
       "       LONGITUDE      LATITUDE  FLOOR  BUILDINGID  SPACEID  RELATIVEPOSITION\n",
       "14651 -7367.4588  4.864842e+06      1           2      117                 2\n",
       "16771 -7594.2641  4.864982e+06      3           0      108                 2\n",
       "17601 -7596.2032  4.864982e+06      3           0      107                 2\n",
       "6651  -7322.5876  4.864821e+06      0           2      103                 2\n",
       "86    -7384.2113  4.864776e+06      3           2      222                 2"
      ]
     },
     "execution_count": 5,
     "metadata": {},
     "output_type": "execute_result"
    }
   ],
   "source": [
    "y_crossval.head()"
   ]
  },
  {
   "cell_type": "markdown",
   "metadata": {},
   "source": [
    "In the next few sections, we explore the characteristics of the different response variables."
   ]
  },
  {
   "cell_type": "markdown",
   "metadata": {},
   "source": [
    "<p><a name=\"response-eda\"></a></p>"
   ]
  },
  {
   "cell_type": "markdown",
   "metadata": {},
   "source": [
    "## 2. Response EDA"
   ]
  },
  {
   "cell_type": "markdown",
   "metadata": {},
   "source": [
    "### 2.1 Building EDA"
   ]
  },
  {
   "cell_type": "code",
   "execution_count": 6,
   "metadata": {
    "collapsed": false
   },
   "outputs": [
    {
     "data": {
      "text/plain": [
       "<matplotlib.axes._subplots.AxesSubplot at 0x108053d68>"
      ]
     },
     "execution_count": 6,
     "metadata": {},
     "output_type": "execute_result"
    },
    {
     "data": {
      "image/png": "[encoded data removed]",
      "text/plain": [
       "<matplotlib.figure.Figure at 0x108053198>"
      ]
     },
     "metadata": {},
     "output_type": "display_data"
    }
   ],
   "source": [
    "sns.distplot(y_crossval[['BUILDINGID']],kde=False)"
   ]
  },
  {
   "cell_type": "markdown",
   "metadata": {},
   "source": [
    "*Observations*:\n",
    "\n",
    "1. In our training samples, building 2 has the clear majority with it's count being slightly lower than the sum of building 0 and building 1.\n",
    "\n",
    "2. Building 0 and building 1 have roughly the same representation in the training data.\n",
    "\n",
    "Clearly, there is an imbalance among the groups."
   ]
  },
  {
   "cell_type": "code",
   "execution_count": 7,
   "metadata": {
    "collapsed": false
   },
   "outputs": [
    {
     "data": {
      "image/png": "[encoded data removed]",
      "text/plain": [
       "<matplotlib.figure.Figure at 0x10e2de7f0>"
      ]
     },
     "metadata": {},
     "output_type": "display_data"
    }
   ],
   "source": [
    "markers = ('s', 'x', 'o', '^', 'v')\n",
    "colors = ('red', 'blue', 'lightgreen', 'gray', 'cyan')\n",
    "cmap = ListedColormap(colors[:len(np.unique(y_crossval['BUILDINGID']))])\n",
    "\n",
    "for idx, cl in enumerate(np.unique(y_crossval['BUILDINGID'])):\n",
    "        plt.scatter(x=y_crossval.loc[y_crossval.BUILDINGID== cl]['LATITUDE'], \n",
    "                    y=y_crossval.loc[y_crossval.BUILDINGID== cl]['LONGITUDE'],\n",
    "                    alpha=0.6, \n",
    "                    c=cmap(idx),\n",
    "                    edgecolor='black',\n",
    "                    marker=markers[idx], \n",
    "                    label=cl)\n",
    "\n",
    "plt.xlabel('Latitude')\n",
    "plt.ylabel('Longitude')\n",
    "plt.legend(loc='upper right')\n",
    "plt.tight_layout()"
   ]
  },
  {
   "cell_type": "markdown",
   "metadata": {},
   "source": [
    "The above plot illustrates the locations of the buildings in the campus."
   ]
  },
  {
   "cell_type": "code",
   "execution_count": 8,
   "metadata": {
    "collapsed": false
   },
   "outputs": [
    {
     "data": {
      "image/png": "[encoded data removed]",
      "text/plain": [
       "<matplotlib.figure.Figure at 0x10e437898>"
      ]
     },
     "metadata": {},
     "output_type": "display_data"
    }
   ],
   "source": [
    "markers = ('s', 'x', 'o', '^', 'v')\n",
    "colors = ('red', 'blue', 'lightgreen', 'gray', 'cyan')\n",
    "cmap = ListedColormap(colors[:len(np.unique(y_crossval['BUILDINGID']))])\n",
    "\n",
    "for idx, cl in enumerate(np.unique(y_crossval['BUILDINGID'])):\n",
    "        plt.scatter(x=X_pca_crossval.loc[y_crossval.BUILDINGID== cl].iloc[:,0], \n",
    "                    y=X_pca_crossval.loc[y_crossval.BUILDINGID== cl].iloc[:,1],\n",
    "                    alpha=0.6, \n",
    "                    c=cmap(idx),\n",
    "                    edgecolor='black',\n",
    "                    marker=markers[idx], \n",
    "                    label=cl)\n",
    "\n",
    "plt.xlabel('PCA Component 1')\n",
    "plt.ylabel('PCA Component 2')\n",
    "plt.legend(loc='lower right')\n",
    "plt.tight_layout()"
   ]
  },
  {
   "cell_type": "markdown",
   "metadata": {},
   "source": [
    "The above plot illustrates how the buildingID are distributed across the top two PCA dimensions. Later, I explore the machine learning approaches for the building classification.\n",
    "\n",
    "Remember PCA is an *unsupervised learning* technique for dimensionality reduction. So, it is quite possible the two top PCA components might not have explained our response variable well."
   ]
  },
  {
   "cell_type": "markdown",
   "metadata": {},
   "source": [
    "<p><a name = \"floor-eda\"></a></p>"
   ]
  },
  {
   "cell_type": "markdown",
   "metadata": {},
   "source": [
    "### 2.2 Floor EDA"
   ]
  },
  {
   "cell_type": "code",
   "execution_count": 9,
   "metadata": {
    "collapsed": false
   },
   "outputs": [
    {
     "data": {
      "text/plain": [
       "<matplotlib.axes._subplots.AxesSubplot at 0x10e135ac8>"
      ]
     },
     "execution_count": 9,
     "metadata": {},
     "output_type": "execute_result"
    },
    {
     "data": {
      "image/png": "[encoded data removed]",
      "text/plain": [
       "<matplotlib.figure.Figure at 0x10568f080>"
      ]
     },
     "metadata": {},
     "output_type": "display_data"
    }
   ],
   "source": [
    "sns.countplot(x=\"FLOOR\", hue=\"BUILDINGID\", data=y_crossval,orient=\"v\")"
   ]
  },
  {
   "cell_type": "markdown",
   "metadata": {},
   "source": [
    "*Observations*:\n",
    "    \n",
    "1. Buildings 0 and 1 have 4 floors whereas Building 2 has 5 floors.\n",
    "\n",
    "2. Expectedly, the samples from Building 2 are consistently the highest across all the floors."
   ]
  },
  {
   "cell_type": "markdown",
   "metadata": {},
   "source": [
    "<p><a name=\"Problem Formulation\"></p>"
   ]
  },
  {
   "cell_type": "markdown",
   "metadata": {},
   "source": [
    "<p><a name=\"problem-formulation\"></a></p>"
   ]
  },
  {
   "cell_type": "markdown",
   "metadata": {},
   "source": [
    "## 3. Problem Formulation"
   ]
  },
  {
   "cell_type": "markdown",
   "metadata": {},
   "source": [
    "### 3.1 Error Metric\n",
    "\n",
    "The overall goal of this project is to build models for accurate indoor localization. The mean positioning error expressed as the mean Euclidean distance between the real and estimated locations. **However, in multi-building, multi-floor environments as in our problem, just the positioning error due to Euclidean distance is not enough.** Wrong floor and wrong building classification are not desirable as the actual movement from the predicted location to the actual location might involve great displacement.\n",
    "\n",
    "Therefore, we include penalty terms to the mean error equation to penalize failures in floor and building classification. This was introduced in the [2015 EvAAL-ETRI competition](http://content.iospress.com/articles/journal-of-ambient-intelligence-and-smart-environments/ais421). The cost function can be expressed as follows:\n",
    "\n",
    "$positioning\\_error(actual,predicted)= euclidean\\_distance(actual,predicted) + penalty_{floor}*fail_{floor} + penalty_{building}*fail_{building}$\n",
    "\n",
    "where $fail_{floor}$ and $fail_{building}$ indicate if the floor and building are incorrectly identified, $penalty_{floor}$ and $penalty_{building}$ are the penalty values applied for wrongful classification of floor and building respectively. The penalty values were set to 4 and 50 respectively in the third track of the competition ([Source](http://ieeexplore.ieee.org/document/7743679/)). Expectedly, the penalty for building classification failure is higher than that of floor classification failure. In this project, I utilize the same penalty term values for the error metric.\n",
    "\n",
    "### 3.2 Machine Learning Methodology\n",
    "\n",
    "Because of the added penalty terms, we cannot simply perform regression for the Latitude and Longitude. Separate models might have to be trained per-floor and per-building. Hence, the building and floor need to be classified first.\n",
    "\n",
    "However, I first analyze the regression variables in isolation without incorporating the buildingID and FloorID. The framework built will be used for comparison against the Cascade framework that incorporates the building and floor information."
   ]
  },
  {
   "cell_type": "markdown",
   "metadata": {},
   "source": [
    "<p> <a name = \"regression\"></a></p>"
   ]
  },
  {
   "cell_type": "markdown",
   "metadata": {},
   "source": [
    "## 4. Multi-Variable Multivariate Regression"
   ]
  },
  {
   "cell_type": "markdown",
   "metadata": {
    "collapsed": true
   },
   "source": [
    "**The key concepts of building the regression framework include:**\n",
    "\n",
    "1. *MultiOutputRegressor*: We have the response as a vector of 2-dimensions (Latitude and Longitude). Not every regression method in scikit-learn can handle this sort of problem. Most linear models provide this capability but for those that don't, a new class MultiOutputRegressor is available for parallelization of regressors for multivariate output.\n",
    "\n",
    "2. *Linear Regression Models*: First, I will focus on Linear regression and its variants including Lasso, Kernel Ridge.\n",
    "\n",
    "3. *Polynomial Features*: Consider Polynomial Features including quadratic and cubic for addressing non-linearities.\n",
    "\n",
    "4. *Other Regression Models*: ExtraTreesRegressor, RandomForestRegressor, XGBoostRegressor\n",
    "\n",
    "5. *Stacking*: Simple Average, XGBoost stacking as shown in this [Kaggle kernel](https://www.kaggle.com/eliotbarr/house-prices-advanced-regression-techniques/stacking-starter/run/598752)."
   ]
  },
  {
   "cell_type": "code",
   "execution_count": 20,
   "metadata": {
    "collapsed": false
   },
   "outputs": [
    {
     "data": {
      "text/plain": [
       "((17874, 150), (17874, 2), (1987, 150), (1987, 2))"
      ]
     },
     "execution_count": 20,
     "metadata": {},
     "output_type": "execute_result"
    }
   ],
   "source": [
    "X_train = np.array(X_pca_crossval)\n",
    "y_train = y_crossval[['LATITUDE','LONGITUDE']]\n",
    "\n",
    "X_test = np.array(X_pca_holdout)\n",
    "y_test = y_holdout[['LATITUDE','LONGITUDE']]\n",
    "\n",
    "X_train.shape,y_train.shape,X_test.shape,y_test.shape"
   ]
  },
  {
   "cell_type": "code",
   "execution_count": 5,
   "metadata": {
    "collapsed": true
   },
   "outputs": [],
   "source": [
    "# Dictionary to store nested cross-validation scores\n",
    "model_scores = {}\n",
    "\n",
    "# Dictionary to store model and param grid mapping\n",
    "model_param_grid = {}"
   ]
  },
  {
   "cell_type": "markdown",
   "metadata": {},
   "source": [
    "In the next few sub-sections, we perform nested cross-validation on the different model families. In nested cross-validation, the inner fold performs the parameter tuning and the outer fold is used for the validation performance.\n",
    "\n",
    "Before we begin the model assessment, let's write a function to simplify the nested cross-validation operation."
   ]
  },
  {
   "cell_type": "markdown",
   "metadata": {},
   "source": [
    "### 4.1 Nested Cross-Validation"
   ]
  },
  {
   "cell_type": "code",
   "execution_count": 6,
   "metadata": {
    "collapsed": false
   },
   "outputs": [],
   "source": [
    "def nested_crossval(reg_list,reg_labels, model_param_grid=model_param_grid, model_scores = model_scores,\n",
    "                    X = X_train, y= y_train, label_extension = None):\n",
    "    '''\n",
    "    Inputs:\n",
    "    reg_model        : List of Regression model instances\n",
    "    reg_label        : List of Regression model labels\n",
    "    model_param_grid : List of parameter grids\n",
    "    X                : explanatory variables \n",
    "    y                : response variable array\n",
    "    model_scores     : Dictionary to store nested cross-validation scores\n",
    "    label_extension  : Extension to regression label in model_scores key\n",
    "    \n",
    "    Outputs:\n",
    "    model_scores     : Updated dictionary of nested cross-validation scores\n",
    "    '''\n",
    "\n",
    "    \n",
    "    for reg_model, reg_label in zip(reg_list, reg_labels):\n",
    "    \n",
    "        #print(param_grid)\n",
    "    \n",
    "        gs = (GridSearchCV(estimator=reg_model, \n",
    "                            param_grid=model_param_grid[reg_label], \n",
    "                            cv=2,\n",
    "                            scoring = 'neg_mean_squared_error',\n",
    "                            n_jobs = 1))\n",
    "    \n",
    "        scores = cross_val_score(estimator=gs,\n",
    "                                 X=X,\n",
    "                                 y=y,\n",
    "                                 cv=5,\n",
    "                                 scoring='neg_mean_squared_error')\n",
    "        scores = np.sqrt(np.abs(scores))\n",
    "        \n",
    "        if label_extension:\n",
    "            reg_label += '_' + label_extension\n",
    "        \n",
    "        print(\"RMSE: %0.2f (+/- %0.2f) [%s]\"\n",
    "              % (scores.mean(), scores.std(), reg_label))\n",
    "        \n",
    "        model_scores[reg_label] = scores\n",
    "        \n",
    "    \n",
    "    return model_scores"
   ]
  },
  {
   "cell_type": "markdown",
   "metadata": {},
   "source": [
    "### 4.2 Linear Models and Variants\n",
    "\n",
    "In this sub-section, I analyze the performance of Linear Regression models and its regularization variants."
   ]
  },
  {
   "cell_type": "code",
   "execution_count": 10,
   "metadata": {
    "collapsed": false
   },
   "outputs": [
    {
     "name": "stdout",
     "output_type": "stream",
     "text": [
      "RMSE: 25.25 (+/- 0.41) [Ridge]\n",
      "RMSE: 25.26 (+/- 0.43) [Lasso]\n"
     ]
    }
   ],
   "source": [
    "## Linear Models\n",
    "\n",
    "# Ridge Regression\n",
    "pipe_ridge = Pipeline([('scl', StandardScaler()),\n",
    "            ('reg', Ridge(random_state=1))])\n",
    "\n",
    "# Lasso\n",
    "pipe_lasso = Pipeline([('scl', StandardScaler()),\n",
    "            ('reg', Lasso(random_state=1))])\n",
    "\n",
    "param_grid_lm= {\n",
    "    'reg__alpha':[0.01,0.1,1,10],\n",
    "}\n",
    "\n",
    "reg_lm = [pipe_ridge,pipe_lasso]\n",
    "reg_labels_lm = ['Ridge','Lasso']\n",
    "model_param_grid['Ridge'] = param_grid_lm\n",
    "model_param_grid['Lasso'] = param_grid_lm\n",
    "\n",
    "model_scores = nested_crossval(reg_lm,reg_labels_lm)"
   ]
  },
  {
   "cell_type": "code",
   "execution_count": 11,
   "metadata": {
    "collapsed": false
   },
   "outputs": [
    {
     "data": {
      "text/plain": [
       "{'Lasso': array([ 25.49069375,  24.50169635,  25.78675344,  25.24330896,  25.29979238]),\n",
       " 'Ridge': array([ 25.43926941,  24.53596898,  25.780613  ,  25.20794527,  25.30487622])}"
      ]
     },
     "execution_count": 11,
     "metadata": {},
     "output_type": "execute_result"
    }
   ],
   "source": [
    "model_scores"
   ]
  },
  {
   "cell_type": "markdown",
   "metadata": {},
   "source": [
    "Interestingly, ridge regression and Lasso provide nearly the same performance but still very far from our baseline of 7.5m."
   ]
  },
  {
   "cell_type": "markdown",
   "metadata": {},
   "source": [
    "### 4.2 Polynomial Regression\n",
    "\n",
    "In this sub-section, we analyze the non-linear variations of Regression by incorporating higher-order features into the Regression Analysis."
   ]
  },
  {
   "cell_type": "code",
   "execution_count": 6,
   "metadata": {
    "collapsed": false
   },
   "outputs": [],
   "source": [
    "quadratic = PolynomialFeatures(degree=2)\n",
    "X_quad = quadratic.fit_transform(X_train)\n",
    "\n",
    "pipe_ridge_poly = Pipeline([('scl', StandardScaler()),\n",
    "                            ('pca', PCA(n_components=100)),\n",
    "                            ('reg', Ridge(random_state=1))])\n",
    "\n",
    "# Lasso\n",
    "pipe_lasso_poly = Pipeline([('scl', StandardScaler()),\n",
    "                            ('pca', PCA(n_components=100)),\n",
    "                            ('reg', Lasso(random_state=1))])\n",
    "\n",
    "reg_lm_quad = [pipe_ridge_poly,pipe_lasso_poly]\n",
    "reg_labels_lm_quad = ['Ridge_Quadratic','Lasso_Quadratic']\n",
    "model_param_grid['Ridge_Quadratic'] = param_grid_lm\n",
    "model_param_grid['Lasso_Quadratic'] = param_grid_lm\n",
    "\n",
    "model_scores = nested_crossval(reg_lm_quad,reg_labels_lm_quad, X= X_quad)"
   ]
  },
  {
   "cell_type": "code",
   "execution_count": 13,
   "metadata": {
    "collapsed": true
   },
   "outputs": [],
   "source": [
    "# First, let's save our data into a file\n",
    "f = open(\"model_scores_lm.pckl\", \"wb\")\n",
    "pickle.dump(model_scores,f)"
   ]
  },
  {
   "cell_type": "code",
   "execution_count": 15,
   "metadata": {
    "collapsed": false
   },
   "outputs": [],
   "source": [
    "pkl_file = open('model_scores_lm.pckl', 'rb')\n",
    "\n",
    "model_scores = pickle.load(pkl_file)"
   ]
  },
  {
   "cell_type": "code",
   "execution_count": 16,
   "metadata": {
    "collapsed": false
   },
   "outputs": [
    {
     "data": {
      "text/plain": [
       "{'Lasso': array([ 25.49069375,  24.50169635,  25.78675344,  25.24330896,  25.29979238]),\n",
       " 'Ridge': array([ 25.43926941,  24.53596898,  25.780613  ,  25.20794527,  25.30487622])}"
      ]
     },
     "execution_count": 16,
     "metadata": {},
     "output_type": "execute_result"
    }
   ],
   "source": [
    "model_scores"
   ]
  },
  {
   "cell_type": "code",
   "execution_count": null,
   "metadata": {
    "collapsed": true
   },
   "outputs": [],
   "source": [
    "cubic = PolynomialFeatures(degree=3)\n",
    "X_cubic = cubic.fit_transform(X_train)\n",
    "\n",
    "reg_lm_cube = [pipe_ridge_poly,pipe_lasso_poly]\n",
    "reg_labels_lm_cube = ['Ridge_Cubic','Lasso_Cubic']\n",
    "model_param_grid['Ridge_Cubic'] = param_grid_lm\n",
    "model_param_grid['Lasso_Cubic'] = param_grid_lm\n",
    "\n",
    "model_scores = nested_crossval(reg_lm_cube,reg_labels_lm_cube, X= X_cubic)"
   ]
  },
  {
   "cell_type": "markdown",
   "metadata": {},
   "source": [
    "### 4.3 K Nearest Neighbors Regression"
   ]
  },
  {
   "cell_type": "code",
   "execution_count": 16,
   "metadata": {
    "collapsed": false
   },
   "outputs": [],
   "source": [
    "pipe_knn = Pipeline([('scl', StandardScaler()),\n",
    "            ('reg', KNeighborsRegressor())])\n",
    "\n",
    "grid_param_knn = {\n",
    "    'reg__n_neighbors': [2,3,5,7],\n",
    "    'reg__weights': ['uniform','distance'],\n",
    "    'reg__metric': ['euclidean','minkowski','manhattan'],\n",
    "    'reg__n_jobs': [-1]\n",
    "}\n",
    "\n",
    "model_param_grid['KNN'] = grid_param_knn\n",
    "\n",
    "model_scores = nested_crossval([pipe_knn],['KNN'])"
   ]
  },
  {
   "cell_type": "code",
   "execution_count": 9,
   "metadata": {
    "collapsed": true
   },
   "outputs": [],
   "source": [
    "# First, let's save our data into a file\n",
    "f = open(\"model_scores_knn.pckl\", \"wb\")\n",
    "pickle.dump(model_scores,f)"
   ]
  },
  {
   "cell_type": "code",
   "execution_count": 10,
   "metadata": {
    "collapsed": false
   },
   "outputs": [
    {
     "data": {
      "text/plain": [
       "{}"
      ]
     },
     "execution_count": 10,
     "metadata": {},
     "output_type": "execute_result"
    }
   ],
   "source": [
    "model_scores"
   ]
  },
  {
   "cell_type": "markdown",
   "metadata": {},
   "source": [
    "### 4.4 Tree-Based Models"
   ]
  },
  {
   "cell_type": "code",
   "execution_count": 12,
   "metadata": {
    "collapsed": false
   },
   "outputs": [
    {
     "name": "stdout",
     "output_type": "stream",
     "text": [
      "RMSE: 6.78 (+/- 0.16) [Random Forests]\n",
      "RMSE: 8.89 (+/- 0.15) [Extra Trees]\n"
     ]
    }
   ],
   "source": [
    "# Random Forests\n",
    "reg_rf = RandomForestRegressor(random_state=1)\n",
    "\n",
    "# Extra Trees\n",
    "reg_et = ExtraTreesRegressor(random_state=1)\n",
    "\n",
    "param_grid_tree = {\n",
    "    'n_jobs': [-1],\n",
    "    'n_estimators': [10,30,50,70,100],\n",
    "    'max_features': [0.25,0.5,0.75],\n",
    "    'max_depth': [3,6,9,12],\n",
    "    'min_samples_leaf': [5,10,20,30]\n",
    "}\n",
    "\n",
    "reg_tree = [reg_rf,reg_et]\n",
    "reg_labels_tree = ['Random Forests','Extra Trees']\n",
    "model_param_grid['Random Forests'] = param_grid_tree\n",
    "model_param_grid['Extra Trees'] = param_grid_tree\n",
    "\n",
    "model_scores = nested_crossval(reg_tree,reg_labels_tree)"
   ]
  },
  {
   "cell_type": "code",
   "execution_count": 13,
   "metadata": {
    "collapsed": true
   },
   "outputs": [],
   "source": [
    "# First, let's save our data into a file\n",
    "f = open(\"model_scores_tree.pckl\", \"wb\")\n",
    "pickle.dump(model_scores,f)"
   ]
  },
  {
   "cell_type": "code",
   "execution_count": 11,
   "metadata": {
    "collapsed": false
   },
   "outputs": [
    {
     "ename": "EOFError",
     "evalue": "Ran out of input",
     "output_type": "error",
     "traceback": [
      "\u001b[0;31m---------------------------------------------------------------------------\u001b[0m",
      "\u001b[0;31mEOFError\u001b[0m                                  Traceback (most recent call last)",
      "\u001b[0;32m<ipython-input-11-bc6c0b40899f>\u001b[0m in \u001b[0;36m<module>\u001b[0;34m()\u001b[0m\n\u001b[1;32m      1\u001b[0m \u001b[0mpkl_file\u001b[0m \u001b[0;34m=\u001b[0m \u001b[0mopen\u001b[0m\u001b[0;34m(\u001b[0m\u001b[0;34m'model_scores_knn.pckl'\u001b[0m\u001b[0;34m,\u001b[0m \u001b[0;34m'rb'\u001b[0m\u001b[0;34m)\u001b[0m\u001b[0;34m\u001b[0m\u001b[0m\n\u001b[1;32m      2\u001b[0m \u001b[0;34m\u001b[0m\u001b[0m\n\u001b[0;32m----> 3\u001b[0;31m \u001b[0mmodel_scores\u001b[0m \u001b[0;34m=\u001b[0m \u001b[0mpickle\u001b[0m\u001b[0;34m.\u001b[0m\u001b[0mload\u001b[0m\u001b[0;34m(\u001b[0m\u001b[0mpkl_file\u001b[0m\u001b[0;34m)\u001b[0m\u001b[0;34m\u001b[0m\u001b[0m\n\u001b[0m",
      "\u001b[0;31mEOFError\u001b[0m: Ran out of input"
     ]
    }
   ],
   "source": [
    "pkl_file = open('model_scores_knn.pckl', 'rb')\n",
    "\n",
    "model_scores = pickle.load(pkl_file)"
   ]
  },
  {
   "cell_type": "markdown",
   "metadata": {},
   "source": [
    "### 4.5 Other Models"
   ]
  },
  {
   "cell_type": "code",
   "execution_count": null,
   "metadata": {
    "collapsed": true
   },
   "outputs": [],
   "source": [
    "\n",
    "'''\n",
    "# Support Vector Regression\n",
    "pipe_svr = Pipeline([('scl', StandardScaler()),\n",
    "            ('reg', MultiOutputRegressor(SVR()))])\n",
    "\n",
    "grid_param_svr = {\n",
    "    'reg__estimator__C': [0.01,0.1,1,10],\n",
    "    'reg__estimator__epsilon': [0.1,0.2,0.3],\n",
    "    'reg__estimator__degree': [2,3,4]\n",
    "}\n",
    "\n",
    "model_param_map[pipe_svr] = grid_param_svr\n",
    "\n",
    "# Multi-Layer Perceptron\n",
    "pipe_mlp = Pipeline([('scl', StandardScaler()),\n",
    "            ('reg', MLPRegressor(random_state=1))])\n",
    "\n",
    "grid_param_mlp = {\n",
    "    'alpha': [0.0001,0.001,0.01,0.1],\n",
    "    'learning_rate': ['constant','invscaling','adaptive']\n",
    "}\n",
    "\n",
    "model_param_map[pipe_mlp] = grid_param_mlp\n",
    "'''"
   ]
  },
  {
   "cell_type": "markdown",
   "metadata": {},
   "source": [
    "Based on the above nested cross-validation results, K Nearest Neighbors Regressor has the the lowest root mean square error for predicting latitude and longitude."
   ]
  },
  {
   "cell_type": "markdown",
   "metadata": {},
   "source": [
    "### 4.6 K Nearest Neighbors Hyper-Parameter Tuning "
   ]
  },
  {
   "cell_type": "code",
   "execution_count": 19,
   "metadata": {
    "collapsed": false
   },
   "outputs": [],
   "source": [
    "gs_knn = (GridSearchCV(estimator=pipe_knn, \n",
    "                      param_grid=grid_param_knn, \n",
    "                      cv=10,\n",
    "                      scoring = 'neg_mean_squared_error',\n",
    "                      n_jobs = 1))\n",
    "\n",
    "gs_knn = gs_knn.fit(X_train,y_train)"
   ]
  },
  {
   "cell_type": "code",
   "execution_count": 24,
   "metadata": {
    "collapsed": false
   },
   "outputs": [
    {
     "data": {
      "text/plain": [
       "Pipeline(steps=[('scl', StandardScaler(copy=True, with_mean=True, with_std=True)), ('reg', KNeighborsRegressor(algorithm='auto', leaf_size=30, metric='manhattan',\n",
       "          metric_params=None, n_jobs=-1, n_neighbors=3, p=2,\n",
       "          weights='distance'))])"
      ]
     },
     "execution_count": 24,
     "metadata": {},
     "output_type": "execute_result"
    }
   ],
   "source": [
    "gs_knn.best_estimator_"
   ]
  },
  {
   "cell_type": "code",
   "execution_count": 26,
   "metadata": {
    "collapsed": false
   },
   "outputs": [
    {
     "data": {
      "text/plain": [
       "Pipeline(steps=[('scl', StandardScaler(copy=True, with_mean=True, with_std=True)), ('reg', KNeighborsRegressor(algorithm='auto', leaf_size=30, metric='manhattan',\n",
       "          metric_params=None, n_jobs=-1, n_neighbors=3, p=2,\n",
       "          weights='distance'))])"
      ]
     },
     "execution_count": 26,
     "metadata": {},
     "output_type": "execute_result"
    }
   ],
   "source": [
    "gs_knn_best = gs_knn.best_estimator_\n",
    "\n",
    "gs_knn_best"
   ]
  },
  {
   "cell_type": "code",
   "execution_count": 75,
   "metadata": {
    "collapsed": false
   },
   "outputs": [
    {
     "name": "stdout",
     "output_type": "stream",
     "text": [
      "CV accuracy: 5.693 +/- 0.264\n",
      "Training RMSE: 0.484\n",
      "Holdout RMSE: 5.280\n"
     ]
    }
   ],
   "source": [
    "gs_knn_best = Pipeline(steps=[('scl', StandardScaler(copy=True, with_mean=True, with_std=True)), ('reg', KNeighborsRegressor(algorithm='auto', leaf_size=30, metric='manhattan',\n",
    "          metric_params=None, n_jobs=-1, n_neighbors=3, p=2,\n",
    "          weights='distance'))])\n",
    "\n",
    "knn_global_crossval = np.sqrt(np.abs((cross_val_score(estimator=gs_knn_best,\n",
    "                                            X=X_train,\n",
    "                                            y=y_train,\n",
    "                                            cv=10,\n",
    "                                            n_jobs=1,\n",
    "                                            scoring = 'neg_mean_squared_error'))))\n",
    "\n",
    "print('CV accuracy: %.3f +/- %.3f' % (np.mean(knn_global_crossval), \n",
    "                                              np.std(knn_global_crossval)))\n",
    "\n",
    "gs_knn_best.fit(X_train,y_train)\n",
    "\n",
    "y_predict_train = gs_knn_best.predict(X_train)\n",
    "err = np.sqrt(((y_train - y_predict_train)**2).sum(axis=1))\n",
    "knn_global_train = np.sum(err, 0) / len(err)\n",
    "print('Training RMSE: %.3f' % (knn_global_train))\n",
    "        \n",
    "y_predict_holdout = gs_knn_best.predict(X_test)\n",
    "err = np.sqrt(((y_test - y_predict_holdout)**2).sum(axis=1))\n",
    "knn_global_test = np.sum(err, 0) / len(err)     \n",
    "print('Holdout RMSE: %.3f' % (knn_holdout_bf[key]))        "
   ]
  },
  {
   "cell_type": "markdown",
   "metadata": {},
   "source": [
    "*Observations:*\n"
   ]
  },
  {
   "cell_type": "markdown",
   "metadata": {},
   "source": [
    "#### 4.6.1 Learning Curve"
   ]
  },
  {
   "cell_type": "code",
   "execution_count": 30,
   "metadata": {
    "collapsed": false
   },
   "outputs": [
    {
     "data": {
      "image/png": "[encoded data removed]",
      "text/plain": [
       "<matplotlib.figure.Figure at 0x10f316320>"
      ]
     },
     "metadata": {},
     "output_type": "display_data"
    }
   ],
   "source": [
    "## Credits: Sebastien's Python Machine Learning Book\n",
    "train_sizes, train_scores, test_scores =\\\n",
    "                learning_curve(estimator=gs_knn_best,\n",
    "                               X=X_train,\n",
    "                               y=y_train,\n",
    "                               train_sizes=np.linspace(0.1, 1.0, 10),\n",
    "                               cv=10,\n",
    "                               n_jobs=1,\n",
    "                               scoring = 'neg_mean_squared_error'\n",
    "                              )\n",
    "\n",
    "train_scores = np.sqrt(np.abs(train_scores))\n",
    "test_scores = np.sqrt(np.abs(test_scores))\n",
    "    \n",
    "train_mean = np.mean(train_scores, axis=1)\n",
    "train_std = np.std(train_scores, axis=1)\n",
    "test_mean = np.mean(test_scores, axis=1)\n",
    "test_std = np.std(test_scores, axis=1)\n",
    "\n",
    "plt.plot(train_sizes, train_mean,\n",
    "         color='blue', marker='o',\n",
    "         markersize=5, label='Training RMSE')\n",
    "\n",
    "plt.fill_between(train_sizes,\n",
    "                 train_mean + train_std,\n",
    "                 train_mean - train_std,\n",
    "                 alpha=0.15, color='blue')\n",
    "\n",
    "plt.plot(train_sizes, test_mean,\n",
    "         color='green', linestyle='--',\n",
    "         marker='s', markersize=5,\n",
    "         label='Validation RMSE')\n",
    "\n",
    "plt.fill_between(train_sizes,\n",
    "                 test_mean + test_std,\n",
    "                 test_mean - test_std,\n",
    "                 alpha=0.15, color='green')\n",
    "\n",
    "plt.grid()\n",
    "plt.xlabel('Number of training samples')\n",
    "plt.ylabel('RMSE')\n",
    "plt.legend(loc='upper right')\n",
    "#plt.ylim([0.8, 1.0])\n",
    "plt.tight_layout()\n",
    "# plt.savefig('./figures/learning_curve.png', dpi=300)\n",
    "plt.show()"
   ]
  },
  {
   "cell_type": "markdown",
   "metadata": {},
   "source": [
    "## 5. Per-Building Per-Floor Regression\n",
    "\n",
    "The goal is to tune the KNN model per-building per-floor.  "
   ]
  },
  {
   "cell_type": "markdown",
   "metadata": {},
   "source": [
    "### 5.1 Data Transformation"
   ]
  },
  {
   "cell_type": "code",
   "execution_count": 22,
   "metadata": {
    "collapsed": false
   },
   "outputs": [
    {
     "data": {
      "text/plain": [
       "(array([2, 0, 1]), array([1, 3, 0, 2, 4]))"
      ]
     },
     "execution_count": 22,
     "metadata": {},
     "output_type": "execute_result"
    }
   ],
   "source": [
    "buildings = y_crossval.BUILDINGID.unique()\n",
    "floors = y_crossval.FLOOR.unique()\n",
    "\n",
    "buildings,floors"
   ]
  },
  {
   "cell_type": "code",
   "execution_count": 136,
   "metadata": {
    "collapsed": false
   },
   "outputs": [
    {
     "name": "stdout",
     "output_type": "stream",
     "text": [
      "Building = 2, Floor = 1\n",
      "Crossval shape 1950\n",
      "Holdout shape 211\n",
      "Building = 2, Floor = 3\n",
      "Crossval shape 2420\n",
      "Holdout shape 289\n",
      "Building = 2, Floor = 0\n",
      "Crossval shape 1725\n",
      "Holdout shape 181\n",
      "Building = 2, Floor = 2\n",
      "Crossval shape 1405\n",
      "Holdout shape 171\n",
      "Building = 2, Floor = 4\n",
      "Crossval shape 1011\n",
      "Holdout shape 91\n",
      "Building = 0, Floor = 1\n",
      "Crossval shape 1220\n",
      "Holdout shape 136\n",
      "Building = 0, Floor = 3\n",
      "Crossval shape 1247\n",
      "Holdout shape 144\n",
      "Building = 0, Floor = 0\n",
      "Crossval shape 942\n",
      "Holdout shape 116\n",
      "Building = 0, Floor = 2\n",
      "Crossval shape 1295\n",
      "Holdout shape 148\n",
      "Building = 1, Floor = 1\n",
      "Crossval shape 1341\n",
      "Holdout shape 143\n",
      "Building = 1, Floor = 3\n",
      "Crossval shape 825\n",
      "Holdout shape 86\n",
      "Building = 1, Floor = 0\n",
      "Crossval shape 1239\n",
      "Holdout shape 129\n",
      "Building = 1, Floor = 2\n",
      "Crossval shape 1254\n",
      "Holdout shape 142\n"
     ]
    },
    {
     "data": {
      "text/plain": [
       "(dict_keys([(0, 1), (1, 2), (0, 0), (0, 2), (2, 1), (2, 4), (2, 0), (1, 3), (2, 3), (2, 2), (1, 0), (0, 3), (1, 1)]),\n",
       " dict_keys([(0, 1), (1, 2), (0, 0), (0, 2), (2, 1), (2, 4), (2, 0), (1, 3), (2, 3), (2, 2), (1, 0), (0, 3), (1, 1)]))"
      ]
     },
     "execution_count": 136,
     "metadata": {},
     "output_type": "execute_result"
    }
   ],
   "source": [
    "# bf indicates building-floor\n",
    "\n",
    "X_crossval_bf = {}\n",
    "y_crossval_bf = {}\n",
    "X_holdout_bf = {}\n",
    "y_holdout_bf = {}\n",
    "\n",
    "for building in buildings:\n",
    "    for floor in floors:\n",
    "        \n",
    "        # Finding index of samples with the building and floor\n",
    "        \n",
    "        index_crossval_bf = y_crossval[(y_crossval.BUILDINGID == building) & (y_crossval.FLOOR == floor)].index\n",
    "        index_holdout_bf = y_holdout[(y_holdout.BUILDINGID == building) & (y_holdout.FLOOR == floor)].index\n",
    "        \n",
    "        if len(index_crossval_bf) == 0:\n",
    "            continue\n",
    "            \n",
    "        key = (building,floor)\n",
    "        \n",
    "        X_crossval_bf[key] = X_pca_crossval.loc[index_crossval_bf]\n",
    "        y_crossval_bf[key] = y_crossval.loc[index_crossval_bf,['LATITUDE','LONGITUDE']]\n",
    "        \n",
    "        X_holdout_bf[key] = X_pca_holdout.loc[index_holdout_bf]\n",
    "        y_holdout_bf[key] = y_holdout.loc[index_holdout_bf,['LATITUDE','LONGITUDE']]\n",
    "        \n",
    "        print(\"Building = {}, Floor = {}\".format(building,floor))\n",
    "        print(\"Crossval shape\", len(index_crossval_bf))\n",
    "        print(\"Holdout shape\", len(index_holdout_bf))\n",
    "  \n",
    "X_crossval_bf.keys(), X_holdout_bf.keys(), "
   ]
  },
  {
   "cell_type": "markdown",
   "metadata": {},
   "source": [
    "### 5.2 KNN Local "
   ]
  },
  {
   "cell_type": "code",
   "execution_count": 138,
   "metadata": {
    "collapsed": false
   },
   "outputs": [
    {
     "name": "stdout",
     "output_type": "stream",
     "text": [
      "Building = 0, Floor = 1\n",
      "CV accuracy: 4.522 +/- 0.240\n",
      "Building = 1, Floor = 2\n",
      "CV accuracy: 5.263 +/- 0.362\n",
      "Building = 0, Floor = 0\n",
      "CV accuracy: 5.692 +/- 0.613\n",
      "Building = 0, Floor = 2\n",
      "CV accuracy: 4.465 +/- 0.435\n",
      "Building = 2, Floor = 1\n",
      "CV accuracy: 5.326 +/- 0.369\n",
      "Building = 2, Floor = 4\n",
      "CV accuracy: 8.174 +/- 0.816\n",
      "Building = 2, Floor = 0\n",
      "CV accuracy: 6.042 +/- 0.478\n",
      "Building = 1, Floor = 3\n",
      "CV accuracy: 7.333 +/- 0.625\n",
      "Building = 2, Floor = 3\n",
      "CV accuracy: 3.922 +/- 0.346\n",
      "Building = 2, Floor = 2\n",
      "CV accuracy: 4.969 +/- 0.589\n",
      "Building = 1, Floor = 0\n",
      "CV accuracy: 4.864 +/- 0.282\n",
      "Building = 0, Floor = 3\n",
      "CV accuracy: 4.338 +/- 0.250\n",
      "Building = 1, Floor = 1\n",
      "CV accuracy: 6.775 +/- 0.447\n"
     ]
    }
   ],
   "source": [
    "knn_local_crossval_bf = {}\n",
    "knn_local_train_bf = {}\n",
    "knn_local_holdout_bf = {}\n",
    "knn_global_train_bf = {}\n",
    "knn_global_holdout_bf = {}\n",
    "\n",
    "for key in X_crossval_bf:\n",
    "    print(\"Building = {}, Floor = {}\".format(key[0],key[1]))\n",
    "    \n",
    "    X_train_bf = X_crossval_bf[key]\n",
    "    y_train_bf = y_crossval_bf[key]\n",
    "        \n",
    "    X_test_bf = X_holdout_bf[key]\n",
    "    y_test_bf = y_holdout_bf[key]\n",
    "                \n",
    "    model = Pipeline(steps=[('scl', StandardScaler(copy=True, with_mean=True, with_std=True)), \n",
    "                                ('reg', KNeighborsRegressor(algorithm='auto', leaf_size=30, metric='manhattan',\n",
    "                                                            metric_params=None, n_jobs=-1, n_neighbors=3, p=2,\n",
    "                                                            weights='distance'))])\n",
    "    model.fit(X_train_bf,y_train_bf)\n",
    "    \n",
    "    knn_local_crossval_bf[key] = np.sqrt(np.abs((cross_val_score(estimator=model,\n",
    "                                            X=X_train_bf,\n",
    "                                            y=y_train_bf,\n",
    "                                            cv=5,\n",
    "                                            n_jobs=1,\n",
    "                                            scoring = 'neg_mean_squared_error'))))\n",
    "        \n",
    "    print('CV accuracy: %.3f +/- %.3f' % (np.mean(knn_local_crossval_bf[key]), \n",
    "                                              np.std(knn_local_crossval_bf[key])))\n",
    "    \n",
    "    # Local KNN RMSE\n",
    "    y_predict_train = model.predict(X_train_bf)\n",
    "    err = np.sqrt(((y_train_bf - y_predict_train)**2).sum(axis=1))\n",
    "    knn_local_train_bf[key] = np.sum(err, 0) / len(err)\n",
    "    #print('Local Training RMSE: %.3f' % (knn_local_train_bf[key]))\n",
    "        \n",
    "    y_predict_holdout = model.predict(X_test_bf)\n",
    "    err = np.sqrt(((y_test_bf - y_predict_holdout)**2).sum(axis=1))\n",
    "    knn_local_holdout_bf[key] = np.sum(err, 0) / len(err)     \n",
    "    #print('Local Holdout RMSE: %.3f' % (knn_local_holdout_bf[key]))\n",
    "    \n",
    "    # Global KNN RMSE\n",
    "    y_predict_train = gs_knn_best.predict(X_train_bf)\n",
    "    err = np.sqrt(((y_train_bf - y_predict_train)**2).sum(axis=1))\n",
    "    knn_global_train_bf[key] = np.sum(err, 0) / len(err)\n",
    "    #print('Global Training RMSE: %.3f' % (knn_global_train_bf[key]))\n",
    "        \n",
    "    y_predict_holdout = gs_knn_best.predict(X_test_bf)\n",
    "    err = np.sqrt(((y_test_bf - y_predict_holdout)**2).sum(axis=1))\n",
    "    knn_global_holdout_bf[key] = np.sum(err, 0) / len(err)     \n",
    "    #print('Global Holdout RMSE: %.3f' % (knn_global_holdout_bf[key]))"
   ]
  },
  {
   "cell_type": "code",
   "execution_count": 139,
   "metadata": {
    "collapsed": false
   },
   "outputs": [
    {
     "data": {
      "text/html": [
       "<div>\n",
       "<table border=\"1\" class=\"dataframe\">\n",
       "  <thead>\n",
       "    <tr style=\"text-align: right;\">\n",
       "      <th></th>\n",
       "      <th></th>\n",
       "      <th>LOCAL_CROSSVAL_MEAN</th>\n",
       "      <th>LOCAL_CROSSVAL_STD</th>\n",
       "      <th>LOCAL_TRAINING_RMSE</th>\n",
       "      <th>LOCAL_HOLDOUT_RMSE</th>\n",
       "      <th>GLOBAL_TRAINING_RMSE</th>\n",
       "      <th>GLOBAL_HOLDOUT_RMSE</th>\n",
       "    </tr>\n",
       "    <tr>\n",
       "      <th>BUILDING</th>\n",
       "      <th>FLOOR</th>\n",
       "      <th></th>\n",
       "      <th></th>\n",
       "      <th></th>\n",
       "      <th></th>\n",
       "      <th></th>\n",
       "      <th></th>\n",
       "    </tr>\n",
       "  </thead>\n",
       "  <tbody>\n",
       "    <tr>\n",
       "      <th rowspan=\"4\" valign=\"top\">0</th>\n",
       "      <th>0</th>\n",
       "      <td>5.691794</td>\n",
       "      <td>0.613491</td>\n",
       "      <td>0.000000</td>\n",
       "      <td>3.721516</td>\n",
       "      <td>0.000000</td>\n",
       "      <td>4.104056</td>\n",
       "    </tr>\n",
       "    <tr>\n",
       "      <th>1</th>\n",
       "      <td>4.521504</td>\n",
       "      <td>0.240275</td>\n",
       "      <td>0.000000</td>\n",
       "      <td>3.181676</td>\n",
       "      <td>0.000000</td>\n",
       "      <td>3.344496</td>\n",
       "    </tr>\n",
       "    <tr>\n",
       "      <th>2</th>\n",
       "      <td>4.464538</td>\n",
       "      <td>0.435352</td>\n",
       "      <td>0.000000</td>\n",
       "      <td>3.714566</td>\n",
       "      <td>0.000000</td>\n",
       "      <td>3.903611</td>\n",
       "    </tr>\n",
       "    <tr>\n",
       "      <th>3</th>\n",
       "      <td>4.338431</td>\n",
       "      <td>0.250252</td>\n",
       "      <td>0.000000</td>\n",
       "      <td>3.318346</td>\n",
       "      <td>0.000000</td>\n",
       "      <td>3.487934</td>\n",
       "    </tr>\n",
       "    <tr>\n",
       "      <th rowspan=\"4\" valign=\"top\">1</th>\n",
       "      <th>0</th>\n",
       "      <td>4.864209</td>\n",
       "      <td>0.282106</td>\n",
       "      <td>0.034580</td>\n",
       "      <td>4.068500</td>\n",
       "      <td>0.034580</td>\n",
       "      <td>4.368735</td>\n",
       "    </tr>\n",
       "    <tr>\n",
       "      <th>1</th>\n",
       "      <td>6.774995</td>\n",
       "      <td>0.447157</td>\n",
       "      <td>1.574920</td>\n",
       "      <td>5.280390</td>\n",
       "      <td>1.655120</td>\n",
       "      <td>5.772645</td>\n",
       "    </tr>\n",
       "    <tr>\n",
       "      <th>2</th>\n",
       "      <td>5.262697</td>\n",
       "      <td>0.361693</td>\n",
       "      <td>0.000000</td>\n",
       "      <td>2.649491</td>\n",
       "      <td>0.000000</td>\n",
       "      <td>3.509122</td>\n",
       "    </tr>\n",
       "    <tr>\n",
       "      <th>3</th>\n",
       "      <td>7.332723</td>\n",
       "      <td>0.624791</td>\n",
       "      <td>0.175444</td>\n",
       "      <td>4.790580</td>\n",
       "      <td>0.175444</td>\n",
       "      <td>5.603787</td>\n",
       "    </tr>\n",
       "    <tr>\n",
       "      <th rowspan=\"5\" valign=\"top\">2</th>\n",
       "      <th>0</th>\n",
       "      <td>6.042158</td>\n",
       "      <td>0.477696</td>\n",
       "      <td>0.000000</td>\n",
       "      <td>4.063582</td>\n",
       "      <td>0.000000</td>\n",
       "      <td>4.421867</td>\n",
       "    </tr>\n",
       "    <tr>\n",
       "      <th>1</th>\n",
       "      <td>5.325626</td>\n",
       "      <td>0.368800</td>\n",
       "      <td>0.000000</td>\n",
       "      <td>4.062683</td>\n",
       "      <td>0.000000</td>\n",
       "      <td>4.745174</td>\n",
       "    </tr>\n",
       "    <tr>\n",
       "      <th>2</th>\n",
       "      <td>4.968733</td>\n",
       "      <td>0.589341</td>\n",
       "      <td>0.000000</td>\n",
       "      <td>3.756872</td>\n",
       "      <td>0.000000</td>\n",
       "      <td>4.717787</td>\n",
       "    </tr>\n",
       "    <tr>\n",
       "      <th>3</th>\n",
       "      <td>3.921544</td>\n",
       "      <td>0.346219</td>\n",
       "      <td>0.000000</td>\n",
       "      <td>2.768463</td>\n",
       "      <td>0.000000</td>\n",
       "      <td>3.151703</td>\n",
       "    </tr>\n",
       "    <tr>\n",
       "      <th>4</th>\n",
       "      <td>8.173584</td>\n",
       "      <td>0.815517</td>\n",
       "      <td>5.961735</td>\n",
       "      <td>6.761393</td>\n",
       "      <td>6.180908</td>\n",
       "      <td>6.861010</td>\n",
       "    </tr>\n",
       "  </tbody>\n",
       "</table>\n",
       "</div>"
      ],
      "text/plain": [
       "                LOCAL_CROSSVAL_MEAN  LOCAL_CROSSVAL_STD  LOCAL_TRAINING_RMSE  \\\n",
       "BUILDING FLOOR                                                                 \n",
       "0        0                 5.691794            0.613491             0.000000   \n",
       "         1                 4.521504            0.240275             0.000000   \n",
       "         2                 4.464538            0.435352             0.000000   \n",
       "         3                 4.338431            0.250252             0.000000   \n",
       "1        0                 4.864209            0.282106             0.034580   \n",
       "         1                 6.774995            0.447157             1.574920   \n",
       "         2                 5.262697            0.361693             0.000000   \n",
       "         3                 7.332723            0.624791             0.175444   \n",
       "2        0                 6.042158            0.477696             0.000000   \n",
       "         1                 5.325626            0.368800             0.000000   \n",
       "         2                 4.968733            0.589341             0.000000   \n",
       "         3                 3.921544            0.346219             0.000000   \n",
       "         4                 8.173584            0.815517             5.961735   \n",
       "\n",
       "                LOCAL_HOLDOUT_RMSE  GLOBAL_TRAINING_RMSE  GLOBAL_HOLDOUT_RMSE  \n",
       "BUILDING FLOOR                                                                 \n",
       "0        0                3.721516              0.000000             4.104056  \n",
       "         1                3.181676              0.000000             3.344496  \n",
       "         2                3.714566              0.000000             3.903611  \n",
       "         3                3.318346              0.000000             3.487934  \n",
       "1        0                4.068500              0.034580             4.368735  \n",
       "         1                5.280390              1.655120             5.772645  \n",
       "         2                2.649491              0.000000             3.509122  \n",
       "         3                4.790580              0.175444             5.603787  \n",
       "2        0                4.063582              0.000000             4.421867  \n",
       "         1                4.062683              0.000000             4.745174  \n",
       "         2                3.756872              0.000000             4.717787  \n",
       "         3                2.768463              0.000000             3.151703  \n",
       "         4                6.761393              6.180908             6.861010  "
      ]
     },
     "execution_count": 139,
     "metadata": {},
     "output_type": "execute_result"
    }
   ],
   "source": [
    "knn_local_crossval_bf = pd.Series(knn_local_crossval_bf)\n",
    "knn_metric_df = (pd.concat([knn_local_crossval_bf.apply(np.mean), \n",
    "                            knn_local_crossval_bf.apply(np.std),\n",
    "                            pd.Series(knn_local_train_bf),\n",
    "                            pd.Series(knn_local_holdout_bf),\n",
    "                            pd.Series(knn_global_train_bf),\n",
    "                            pd.Series(knn_global_holdout_bf)],axis=1))\n",
    "\n",
    "knn_metric_df.columns = ['LOCAL_CROSSVAL_MEAN','LOCAL_CROSSVAL_STD',\n",
    "                         'LOCAL_TRAINING_RMSE','LOCAL_HOLDOUT_RMSE',\n",
    "                         'GLOBAL_TRAINING_RMSE','GLOBAL_HOLDOUT_RMSE']\n",
    "knn_metric_df = knn_metric_df.rename_axis(['BUILDING','FLOOR'])\n",
    "\n",
    "knn_metric_df"
   ]
  },
  {
   "cell_type": "markdown",
   "metadata": {},
   "source": [
    "### 5.3 KNN Global"
   ]
  },
  {
   "cell_type": "code",
   "execution_count": 135,
   "metadata": {
    "collapsed": false
   },
   "outputs": [
    {
     "data": {
      "text/plain": [
       "(         LONGITUDE      LATITUDE\n",
       " 4552  -7466.963700  4.864820e+06\n",
       " 9242  -7535.209515  4.864948e+06\n",
       " 13159 -7541.168800  4.864921e+06\n",
       " 11541 -7571.093200  4.864872e+06\n",
       " 9699  -7536.565800  4.864934e+06,\n",
       " array([[ 4864820.4132    ,    -7466.9637    ],\n",
       "        [ 4864948.0904118 ,    -7535.2095154 ],\n",
       "        [ 4864920.7268    ,    -7541.1688    ],\n",
       "        ..., \n",
       "        [ 4864952.69314757,    -7516.34349343],\n",
       "        [ 4864828.667     ,    -7453.1704    ],\n",
       "        [ 4864919.34785118,    -7526.39145561]]))"
      ]
     },
     "execution_count": 135,
     "metadata": {},
     "output_type": "execute_result"
    }
   ],
   "source": [
    "y_train_bf.head(),y_predict_train"
   ]
  },
  {
   "cell_type": "code",
   "execution_count": null,
   "metadata": {
    "collapsed": true
   },
   "outputs": [],
   "source": []
  }
 ],
 "metadata": {
  "kernelspec": {
   "display_name": "Python 3",
   "language": "python",
   "name": "python3"
  },
  "language_info": {
   "codemirror_mode": {
    "name": "ipython",
    "version": 3
   },
   "file_extension": ".py",
   "mimetype": "text/x-python",
   "name": "python",
   "nbconvert_exporter": "python",
   "pygments_lexer": "ipython3",
   "version": "3.5.2"
  }
 },
 "nbformat": 4,
 "nbformat_minor": 2
}
