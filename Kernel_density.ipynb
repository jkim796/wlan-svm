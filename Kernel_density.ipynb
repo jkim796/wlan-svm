{
 "cells": [
  {
   "cell_type": "markdown",
   "metadata": {},
   "source": [
    "# WLAN Fingerprint-based Indoor Localization"
   ]
  },
  {
   "cell_type": "markdown",
   "metadata": {},
   "source": [
    "In this notebook, I begin from the raw UJIIndoorLoc dataset and perform an initial exploratory data analysis on the distributions of the predictors and response variables. This is followed by dimensionality reduction analysis. Once the data is prepared, I focus on the model selection and finally ensemble learning."
   ]
  },
  {
   "cell_type": "markdown",
   "metadata": {},
   "source": [
    "## Table of Contents\n",
    "\n",
    "* [Dataset Description](#dataset-description)\n",
    "\n",
    "* [Predictor Data Exploration](#eda)\n",
    "\n",
    "* [Missing Value Imputation](#missing-value-imputation)\n",
    "\n",
    "* [Box-Cox Transformation](#box-cox)\n",
    "\n",
    "* [Predictor Correlations](#predictor-correlations)\n",
    "\n",
    "* [Principal Component Analysis (PCA)](#pca)"
   ]
  },
  {
   "cell_type": "code",
   "execution_count": 44,
   "metadata": {
    "collapsed": true
   },
   "outputs": [],
   "source": [
    "import numpy as np\n",
    "import pandas as pd\n",
    "from scipy import stats\n",
    "import statsmodels\n",
    "import matplotlib.pyplot as plt\n",
    "import matplotlib\n",
    "\n",
    "%matplotlib inline\n",
    "\n",
    "import warnings\n",
    "warnings.filterwarnings('ignore')\n",
    "\n",
    "import seaborn as sns"
   ]
  },
  {
   "cell_type": "code",
   "execution_count": 45,
   "metadata": {
    "collapsed": true
   },
   "outputs": [],
   "source": [
    "train_data = pd.read_csv(\"data/trainingData.csv\")\n",
    "test_data = pd.read_csv(\"data/validationData.csv\")"
   ]
  },
  {
   "cell_type": "markdown",
   "metadata": {},
   "source": [
    "# Dataset Description <a id='dataset-description'></a>\n",
    "\n",
    "Source: https://www.kaggle.com/giantuji/UjiIndoorLoc\n",
    "\n",
    "- **WAP001-WAP520**: Intensity value for **Wireless Access Point** (AP). AP will be the acronym used for rest of this notebook. Negative integer values from -104 to 0 and +100. **Censored data:** Positive value 100 used if WAP was not detected.\n",
    "\n",
    "- **Longitude**: Longitude. Negative real values from -7695.9387549299299000 to -7299.786516730871000\n",
    "\n",
    "- **Latitude**: Latitude. Positive real values from 4864745.7450159714 to 4865017.3646842018.\n",
    "\n",
    "- **Floor**: Altitude in floors inside the building. Integer values from 0 to 4.\n",
    "\n",
    "- **BuildingID**: ID to identify the building. Measures were taken in three different buildings. Categorical integer values from 0 to 2.\n",
    "\n",
    "- **SpaceID**: Internal ID number to identify the Space (office, corridor, classroom) where the capture was taken. Categorical integer values.\n",
    "\n",
    "- **RelativePosition**: Relative position with respect to the Space (1 - Inside, 2 - Outside in Front of the door). Categorical integer values.\n",
    "\n",
    "- **UserID**: User identifier (see below). Categorical integer values.\n",
    "\n",
    "- **PhoneID**: Android device identifier (see below). Categorical integer values.\n",
    "\n",
    "- **Timestamp**: UNIX Time when the capture was taken. Integer value."
   ]
  },
  {
   "cell_type": "code",
   "execution_count": 46,
   "metadata": {
    "collapsed": false
   },
   "outputs": [
    {
     "data": {
      "text/html": [
       "<div>\n",
       "<table border=\"1\" class=\"dataframe\">\n",
       "  <thead>\n",
       "    <tr style=\"text-align: right;\">\n",
       "      <th></th>\n",
       "      <th>WAP001</th>\n",
       "      <th>WAP002</th>\n",
       "      <th>WAP003</th>\n",
       "      <th>WAP004</th>\n",
       "      <th>WAP005</th>\n",
       "      <th>WAP006</th>\n",
       "      <th>WAP007</th>\n",
       "      <th>WAP008</th>\n",
       "      <th>WAP009</th>\n",
       "      <th>WAP010</th>\n",
       "      <th>...</th>\n",
       "      <th>WAP520</th>\n",
       "      <th>LONGITUDE</th>\n",
       "      <th>LATITUDE</th>\n",
       "      <th>FLOOR</th>\n",
       "      <th>BUILDINGID</th>\n",
       "      <th>SPACEID</th>\n",
       "      <th>RELATIVEPOSITION</th>\n",
       "      <th>USERID</th>\n",
       "      <th>PHONEID</th>\n",
       "      <th>TIMESTAMP</th>\n",
       "    </tr>\n",
       "  </thead>\n",
       "  <tbody>\n",
       "    <tr>\n",
       "      <th>0</th>\n",
       "      <td>100</td>\n",
       "      <td>100</td>\n",
       "      <td>100</td>\n",
       "      <td>100</td>\n",
       "      <td>100</td>\n",
       "      <td>100</td>\n",
       "      <td>100</td>\n",
       "      <td>100</td>\n",
       "      <td>100</td>\n",
       "      <td>100</td>\n",
       "      <td>...</td>\n",
       "      <td>100</td>\n",
       "      <td>-7541.2643</td>\n",
       "      <td>4.864921e+06</td>\n",
       "      <td>2</td>\n",
       "      <td>1</td>\n",
       "      <td>106</td>\n",
       "      <td>2</td>\n",
       "      <td>2</td>\n",
       "      <td>23</td>\n",
       "      <td>1371713733</td>\n",
       "    </tr>\n",
       "    <tr>\n",
       "      <th>1</th>\n",
       "      <td>100</td>\n",
       "      <td>100</td>\n",
       "      <td>100</td>\n",
       "      <td>100</td>\n",
       "      <td>100</td>\n",
       "      <td>100</td>\n",
       "      <td>100</td>\n",
       "      <td>100</td>\n",
       "      <td>100</td>\n",
       "      <td>100</td>\n",
       "      <td>...</td>\n",
       "      <td>100</td>\n",
       "      <td>-7536.6212</td>\n",
       "      <td>4.864934e+06</td>\n",
       "      <td>2</td>\n",
       "      <td>1</td>\n",
       "      <td>106</td>\n",
       "      <td>2</td>\n",
       "      <td>2</td>\n",
       "      <td>23</td>\n",
       "      <td>1371713691</td>\n",
       "    </tr>\n",
       "    <tr>\n",
       "      <th>2</th>\n",
       "      <td>100</td>\n",
       "      <td>100</td>\n",
       "      <td>100</td>\n",
       "      <td>100</td>\n",
       "      <td>100</td>\n",
       "      <td>100</td>\n",
       "      <td>100</td>\n",
       "      <td>-97</td>\n",
       "      <td>100</td>\n",
       "      <td>100</td>\n",
       "      <td>...</td>\n",
       "      <td>100</td>\n",
       "      <td>-7519.1524</td>\n",
       "      <td>4.864950e+06</td>\n",
       "      <td>2</td>\n",
       "      <td>1</td>\n",
       "      <td>103</td>\n",
       "      <td>2</td>\n",
       "      <td>2</td>\n",
       "      <td>23</td>\n",
       "      <td>1371714095</td>\n",
       "    </tr>\n",
       "    <tr>\n",
       "      <th>3</th>\n",
       "      <td>100</td>\n",
       "      <td>100</td>\n",
       "      <td>100</td>\n",
       "      <td>100</td>\n",
       "      <td>100</td>\n",
       "      <td>100</td>\n",
       "      <td>100</td>\n",
       "      <td>100</td>\n",
       "      <td>100</td>\n",
       "      <td>100</td>\n",
       "      <td>...</td>\n",
       "      <td>100</td>\n",
       "      <td>-7524.5704</td>\n",
       "      <td>4.864934e+06</td>\n",
       "      <td>2</td>\n",
       "      <td>1</td>\n",
       "      <td>102</td>\n",
       "      <td>2</td>\n",
       "      <td>2</td>\n",
       "      <td>23</td>\n",
       "      <td>1371713807</td>\n",
       "    </tr>\n",
       "    <tr>\n",
       "      <th>4</th>\n",
       "      <td>100</td>\n",
       "      <td>100</td>\n",
       "      <td>100</td>\n",
       "      <td>100</td>\n",
       "      <td>100</td>\n",
       "      <td>100</td>\n",
       "      <td>100</td>\n",
       "      <td>100</td>\n",
       "      <td>100</td>\n",
       "      <td>100</td>\n",
       "      <td>...</td>\n",
       "      <td>100</td>\n",
       "      <td>-7632.1436</td>\n",
       "      <td>4.864982e+06</td>\n",
       "      <td>0</td>\n",
       "      <td>0</td>\n",
       "      <td>122</td>\n",
       "      <td>2</td>\n",
       "      <td>11</td>\n",
       "      <td>13</td>\n",
       "      <td>1369909710</td>\n",
       "    </tr>\n",
       "  </tbody>\n",
       "</table>\n",
       "<p>5 rows × 529 columns</p>\n",
       "</div>"
      ],
      "text/plain": [
       "   WAP001  WAP002  WAP003  WAP004  WAP005  WAP006  WAP007  WAP008  WAP009  \\\n",
       "0     100     100     100     100     100     100     100     100     100   \n",
       "1     100     100     100     100     100     100     100     100     100   \n",
       "2     100     100     100     100     100     100     100     -97     100   \n",
       "3     100     100     100     100     100     100     100     100     100   \n",
       "4     100     100     100     100     100     100     100     100     100   \n",
       "\n",
       "   WAP010     ...      WAP520  LONGITUDE      LATITUDE  FLOOR  BUILDINGID  \\\n",
       "0     100     ...         100 -7541.2643  4.864921e+06      2           1   \n",
       "1     100     ...         100 -7536.6212  4.864934e+06      2           1   \n",
       "2     100     ...         100 -7519.1524  4.864950e+06      2           1   \n",
       "3     100     ...         100 -7524.5704  4.864934e+06      2           1   \n",
       "4     100     ...         100 -7632.1436  4.864982e+06      0           0   \n",
       "\n",
       "   SPACEID  RELATIVEPOSITION  USERID  PHONEID   TIMESTAMP  \n",
       "0      106                 2       2       23  1371713733  \n",
       "1      106                 2       2       23  1371713691  \n",
       "2      103                 2       2       23  1371714095  \n",
       "3      102                 2       2       23  1371713807  \n",
       "4      122                 2      11       13  1369909710  \n",
       "\n",
       "[5 rows x 529 columns]"
      ]
     },
     "execution_count": 46,
     "metadata": {},
     "output_type": "execute_result"
    }
   ],
   "source": [
    "train_data.head()"
   ]
  },
  {
   "cell_type": "code",
   "execution_count": 47,
   "metadata": {
    "collapsed": false
   },
   "outputs": [
    {
     "data": {
      "text/html": [
       "<div>\n",
       "<table border=\"1\" class=\"dataframe\">\n",
       "  <thead>\n",
       "    <tr style=\"text-align: right;\">\n",
       "      <th></th>\n",
       "      <th>WAP001</th>\n",
       "      <th>WAP002</th>\n",
       "      <th>WAP003</th>\n",
       "      <th>WAP004</th>\n",
       "      <th>WAP005</th>\n",
       "      <th>WAP006</th>\n",
       "      <th>WAP007</th>\n",
       "      <th>WAP008</th>\n",
       "      <th>WAP009</th>\n",
       "      <th>WAP010</th>\n",
       "      <th>...</th>\n",
       "      <th>WAP520</th>\n",
       "      <th>LONGITUDE</th>\n",
       "      <th>LATITUDE</th>\n",
       "      <th>FLOOR</th>\n",
       "      <th>BUILDINGID</th>\n",
       "      <th>SPACEID</th>\n",
       "      <th>RELATIVEPOSITION</th>\n",
       "      <th>USERID</th>\n",
       "      <th>PHONEID</th>\n",
       "      <th>TIMESTAMP</th>\n",
       "    </tr>\n",
       "  </thead>\n",
       "  <tbody>\n",
       "    <tr>\n",
       "      <th>count</th>\n",
       "      <td>19937.000000</td>\n",
       "      <td>19937.000000</td>\n",
       "      <td>19937.0</td>\n",
       "      <td>19937.0</td>\n",
       "      <td>19937.000000</td>\n",
       "      <td>19937.000000</td>\n",
       "      <td>19937.000000</td>\n",
       "      <td>19937.000000</td>\n",
       "      <td>19937.000000</td>\n",
       "      <td>19937.000000</td>\n",
       "      <td>...</td>\n",
       "      <td>19937.0</td>\n",
       "      <td>19937.000000</td>\n",
       "      <td>1.993700e+04</td>\n",
       "      <td>19937.000000</td>\n",
       "      <td>19937.000000</td>\n",
       "      <td>19937.000000</td>\n",
       "      <td>19937.000000</td>\n",
       "      <td>19937.000000</td>\n",
       "      <td>19937.000000</td>\n",
       "      <td>1.993700e+04</td>\n",
       "    </tr>\n",
       "    <tr>\n",
       "      <th>mean</th>\n",
       "      <td>99.823644</td>\n",
       "      <td>99.820936</td>\n",
       "      <td>100.0</td>\n",
       "      <td>100.0</td>\n",
       "      <td>99.613733</td>\n",
       "      <td>97.130461</td>\n",
       "      <td>94.733661</td>\n",
       "      <td>93.820234</td>\n",
       "      <td>94.693936</td>\n",
       "      <td>99.163766</td>\n",
       "      <td>...</td>\n",
       "      <td>100.0</td>\n",
       "      <td>-7464.275947</td>\n",
       "      <td>4.864871e+06</td>\n",
       "      <td>1.674575</td>\n",
       "      <td>1.212820</td>\n",
       "      <td>148.429954</td>\n",
       "      <td>1.833024</td>\n",
       "      <td>9.068014</td>\n",
       "      <td>13.021869</td>\n",
       "      <td>1.371421e+09</td>\n",
       "    </tr>\n",
       "    <tr>\n",
       "      <th>std</th>\n",
       "      <td>5.866842</td>\n",
       "      <td>5.798156</td>\n",
       "      <td>0.0</td>\n",
       "      <td>0.0</td>\n",
       "      <td>8.615657</td>\n",
       "      <td>22.931890</td>\n",
       "      <td>30.541335</td>\n",
       "      <td>33.010404</td>\n",
       "      <td>30.305084</td>\n",
       "      <td>12.634045</td>\n",
       "      <td>...</td>\n",
       "      <td>0.0</td>\n",
       "      <td>123.402010</td>\n",
       "      <td>6.693318e+01</td>\n",
       "      <td>1.223078</td>\n",
       "      <td>0.833139</td>\n",
       "      <td>58.342106</td>\n",
       "      <td>0.372964</td>\n",
       "      <td>4.988720</td>\n",
       "      <td>5.362410</td>\n",
       "      <td>5.572054e+05</td>\n",
       "    </tr>\n",
       "    <tr>\n",
       "      <th>min</th>\n",
       "      <td>-97.000000</td>\n",
       "      <td>-90.000000</td>\n",
       "      <td>100.0</td>\n",
       "      <td>100.0</td>\n",
       "      <td>-97.000000</td>\n",
       "      <td>-98.000000</td>\n",
       "      <td>-99.000000</td>\n",
       "      <td>-98.000000</td>\n",
       "      <td>-98.000000</td>\n",
       "      <td>-99.000000</td>\n",
       "      <td>...</td>\n",
       "      <td>100.0</td>\n",
       "      <td>-7691.338400</td>\n",
       "      <td>4.864746e+06</td>\n",
       "      <td>0.000000</td>\n",
       "      <td>0.000000</td>\n",
       "      <td>1.000000</td>\n",
       "      <td>1.000000</td>\n",
       "      <td>1.000000</td>\n",
       "      <td>1.000000</td>\n",
       "      <td>1.369909e+09</td>\n",
       "    </tr>\n",
       "    <tr>\n",
       "      <th>25%</th>\n",
       "      <td>100.000000</td>\n",
       "      <td>100.000000</td>\n",
       "      <td>100.0</td>\n",
       "      <td>100.0</td>\n",
       "      <td>100.000000</td>\n",
       "      <td>100.000000</td>\n",
       "      <td>100.000000</td>\n",
       "      <td>100.000000</td>\n",
       "      <td>100.000000</td>\n",
       "      <td>100.000000</td>\n",
       "      <td>...</td>\n",
       "      <td>100.0</td>\n",
       "      <td>-7594.737000</td>\n",
       "      <td>4.864821e+06</td>\n",
       "      <td>1.000000</td>\n",
       "      <td>0.000000</td>\n",
       "      <td>110.000000</td>\n",
       "      <td>2.000000</td>\n",
       "      <td>5.000000</td>\n",
       "      <td>8.000000</td>\n",
       "      <td>1.371056e+09</td>\n",
       "    </tr>\n",
       "    <tr>\n",
       "      <th>50%</th>\n",
       "      <td>100.000000</td>\n",
       "      <td>100.000000</td>\n",
       "      <td>100.0</td>\n",
       "      <td>100.0</td>\n",
       "      <td>100.000000</td>\n",
       "      <td>100.000000</td>\n",
       "      <td>100.000000</td>\n",
       "      <td>100.000000</td>\n",
       "      <td>100.000000</td>\n",
       "      <td>100.000000</td>\n",
       "      <td>...</td>\n",
       "      <td>100.0</td>\n",
       "      <td>-7423.060900</td>\n",
       "      <td>4.864852e+06</td>\n",
       "      <td>2.000000</td>\n",
       "      <td>1.000000</td>\n",
       "      <td>129.000000</td>\n",
       "      <td>2.000000</td>\n",
       "      <td>11.000000</td>\n",
       "      <td>13.000000</td>\n",
       "      <td>1.371716e+09</td>\n",
       "    </tr>\n",
       "    <tr>\n",
       "      <th>75%</th>\n",
       "      <td>100.000000</td>\n",
       "      <td>100.000000</td>\n",
       "      <td>100.0</td>\n",
       "      <td>100.0</td>\n",
       "      <td>100.000000</td>\n",
       "      <td>100.000000</td>\n",
       "      <td>100.000000</td>\n",
       "      <td>100.000000</td>\n",
       "      <td>100.000000</td>\n",
       "      <td>100.000000</td>\n",
       "      <td>...</td>\n",
       "      <td>100.0</td>\n",
       "      <td>-7359.193000</td>\n",
       "      <td>4.864930e+06</td>\n",
       "      <td>3.000000</td>\n",
       "      <td>2.000000</td>\n",
       "      <td>207.000000</td>\n",
       "      <td>2.000000</td>\n",
       "      <td>13.000000</td>\n",
       "      <td>14.000000</td>\n",
       "      <td>1.371721e+09</td>\n",
       "    </tr>\n",
       "    <tr>\n",
       "      <th>max</th>\n",
       "      <td>100.000000</td>\n",
       "      <td>100.000000</td>\n",
       "      <td>100.0</td>\n",
       "      <td>100.0</td>\n",
       "      <td>100.000000</td>\n",
       "      <td>100.000000</td>\n",
       "      <td>100.000000</td>\n",
       "      <td>100.000000</td>\n",
       "      <td>100.000000</td>\n",
       "      <td>100.000000</td>\n",
       "      <td>...</td>\n",
       "      <td>100.0</td>\n",
       "      <td>-7300.818990</td>\n",
       "      <td>4.865017e+06</td>\n",
       "      <td>4.000000</td>\n",
       "      <td>2.000000</td>\n",
       "      <td>254.000000</td>\n",
       "      <td>2.000000</td>\n",
       "      <td>18.000000</td>\n",
       "      <td>24.000000</td>\n",
       "      <td>1.371738e+09</td>\n",
       "    </tr>\n",
       "  </tbody>\n",
       "</table>\n",
       "<p>8 rows × 529 columns</p>\n",
       "</div>"
      ],
      "text/plain": [
       "             WAP001        WAP002   WAP003   WAP004        WAP005  \\\n",
       "count  19937.000000  19937.000000  19937.0  19937.0  19937.000000   \n",
       "mean      99.823644     99.820936    100.0    100.0     99.613733   \n",
       "std        5.866842      5.798156      0.0      0.0      8.615657   \n",
       "min      -97.000000    -90.000000    100.0    100.0    -97.000000   \n",
       "25%      100.000000    100.000000    100.0    100.0    100.000000   \n",
       "50%      100.000000    100.000000    100.0    100.0    100.000000   \n",
       "75%      100.000000    100.000000    100.0    100.0    100.000000   \n",
       "max      100.000000    100.000000    100.0    100.0    100.000000   \n",
       "\n",
       "             WAP006        WAP007        WAP008        WAP009        WAP010  \\\n",
       "count  19937.000000  19937.000000  19937.000000  19937.000000  19937.000000   \n",
       "mean      97.130461     94.733661     93.820234     94.693936     99.163766   \n",
       "std       22.931890     30.541335     33.010404     30.305084     12.634045   \n",
       "min      -98.000000    -99.000000    -98.000000    -98.000000    -99.000000   \n",
       "25%      100.000000    100.000000    100.000000    100.000000    100.000000   \n",
       "50%      100.000000    100.000000    100.000000    100.000000    100.000000   \n",
       "75%      100.000000    100.000000    100.000000    100.000000    100.000000   \n",
       "max      100.000000    100.000000    100.000000    100.000000    100.000000   \n",
       "\n",
       "           ...        WAP520     LONGITUDE      LATITUDE         FLOOR  \\\n",
       "count      ...       19937.0  19937.000000  1.993700e+04  19937.000000   \n",
       "mean       ...         100.0  -7464.275947  4.864871e+06      1.674575   \n",
       "std        ...           0.0    123.402010  6.693318e+01      1.223078   \n",
       "min        ...         100.0  -7691.338400  4.864746e+06      0.000000   \n",
       "25%        ...         100.0  -7594.737000  4.864821e+06      1.000000   \n",
       "50%        ...         100.0  -7423.060900  4.864852e+06      2.000000   \n",
       "75%        ...         100.0  -7359.193000  4.864930e+06      3.000000   \n",
       "max        ...         100.0  -7300.818990  4.865017e+06      4.000000   \n",
       "\n",
       "         BUILDINGID       SPACEID  RELATIVEPOSITION        USERID  \\\n",
       "count  19937.000000  19937.000000      19937.000000  19937.000000   \n",
       "mean       1.212820    148.429954          1.833024      9.068014   \n",
       "std        0.833139     58.342106          0.372964      4.988720   \n",
       "min        0.000000      1.000000          1.000000      1.000000   \n",
       "25%        0.000000    110.000000          2.000000      5.000000   \n",
       "50%        1.000000    129.000000          2.000000     11.000000   \n",
       "75%        2.000000    207.000000          2.000000     13.000000   \n",
       "max        2.000000    254.000000          2.000000     18.000000   \n",
       "\n",
       "            PHONEID     TIMESTAMP  \n",
       "count  19937.000000  1.993700e+04  \n",
       "mean      13.021869  1.371421e+09  \n",
       "std        5.362410  5.572054e+05  \n",
       "min        1.000000  1.369909e+09  \n",
       "25%        8.000000  1.371056e+09  \n",
       "50%       13.000000  1.371716e+09  \n",
       "75%       14.000000  1.371721e+09  \n",
       "max       24.000000  1.371738e+09  \n",
       "\n",
       "[8 rows x 529 columns]"
      ]
     },
     "execution_count": 47,
     "metadata": {},
     "output_type": "execute_result"
    }
   ],
   "source": [
    "train_data.describe()"
   ]
  },
  {
   "cell_type": "code",
   "execution_count": 48,
   "metadata": {
    "collapsed": false
   },
   "outputs": [
    {
     "data": {
      "text/html": [
       "<div>\n",
       "<table border=\"1\" class=\"dataframe\">\n",
       "  <thead>\n",
       "    <tr style=\"text-align: right;\">\n",
       "      <th></th>\n",
       "      <th>FLOOR</th>\n",
       "      <th>BUILDINGID</th>\n",
       "      <th>SPACEID</th>\n",
       "      <th>RELATIVEPOSITION</th>\n",
       "      <th>USERID</th>\n",
       "      <th>PHONEID</th>\n",
       "    </tr>\n",
       "  </thead>\n",
       "  <tbody>\n",
       "    <tr>\n",
       "      <th>count</th>\n",
       "      <td>19937</td>\n",
       "      <td>19937</td>\n",
       "      <td>19937</td>\n",
       "      <td>19937</td>\n",
       "      <td>19937</td>\n",
       "      <td>19937</td>\n",
       "    </tr>\n",
       "    <tr>\n",
       "      <th>unique</th>\n",
       "      <td>5</td>\n",
       "      <td>3</td>\n",
       "      <td>123</td>\n",
       "      <td>2</td>\n",
       "      <td>18</td>\n",
       "      <td>16</td>\n",
       "    </tr>\n",
       "    <tr>\n",
       "      <th>top</th>\n",
       "      <td>3</td>\n",
       "      <td>2</td>\n",
       "      <td>202</td>\n",
       "      <td>2</td>\n",
       "      <td>11</td>\n",
       "      <td>14</td>\n",
       "    </tr>\n",
       "    <tr>\n",
       "      <th>freq</th>\n",
       "      <td>5048</td>\n",
       "      <td>9492</td>\n",
       "      <td>484</td>\n",
       "      <td>16608</td>\n",
       "      <td>4516</td>\n",
       "      <td>4835</td>\n",
       "    </tr>\n",
       "  </tbody>\n",
       "</table>\n",
       "</div>"
      ],
      "text/plain": [
       "        FLOOR BUILDINGID SPACEID RELATIVEPOSITION USERID PHONEID\n",
       "count   19937      19937   19937            19937  19937   19937\n",
       "unique      5          3     123                2     18      16\n",
       "top         3          2     202                2     11      14\n",
       "freq     5048       9492     484            16608   4516    4835"
      ]
     },
     "execution_count": 48,
     "metadata": {},
     "output_type": "execute_result"
    }
   ],
   "source": [
    "# Response variables in our problem are Building, Floor, Latitude, Longitude and Relative Position\n",
    "(train_data[['FLOOR','BUILDINGID', 'SPACEID','RELATIVEPOSITION','USERID','PHONEID']]\n",
    ".astype(str)\n",
    ".describe(include=['object']))"
   ]
  },
  {
   "cell_type": "markdown",
   "metadata": {},
   "source": [
    "From the [paper](http://ieeexplore.ieee.org/document/7275492/) on this dataset:\n",
    "\"Although both the training subset and the validation subset contain the same information, the latter includes the value 0 in some fields. These fields are: SpaceID, Relative Position with respect to SpaceID and UserID. As it has been commented before, this information was not recorded because the validation captures were taken at arbitrary points and the users were not tracked in this phase. **This fact tries to simulate a real localization system.**\"\n",
    "\n",
    "Hence, Space ID, Relative Position, User ID won't be used to model the Localization algorithm. Also, Phone iD won't be used as in a real system, new phones should be localized without being used in the training.\n",
    "\n",
    "Next, I focus on the pre-processing of the WAP RSSI columns."
   ]
  },
  {
   "cell_type": "markdown",
   "metadata": {},
   "source": [
    "# Predictor Data Exploration <a id='eda'></a>"
   ]
  },
  {
   "cell_type": "code",
   "execution_count": 49,
   "metadata": {
    "collapsed": true
   },
   "outputs": [],
   "source": [
    "X_train = train_data.iloc[:,:520]\n",
    "X_test = test_data.iloc[:,:520]\n",
    "\n",
    "y_train = train_data.iloc[:,520:526]\n",
    "y_test = test_data.iloc[:,520:526]"
   ]
  },
  {
   "cell_type": "code",
   "execution_count": 50,
   "metadata": {
    "collapsed": false
   },
   "outputs": [
    {
     "data": {
      "text/plain": [
       "(19937, 520)"
      ]
     },
     "execution_count": 50,
     "metadata": {},
     "output_type": "execute_result"
    }
   ],
   "source": [
    "X_train.shape"
   ]
  },
  {
   "cell_type": "code",
   "execution_count": 51,
   "metadata": {
    "collapsed": false
   },
   "outputs": [],
   "source": [
    "X_train = (X_train\n",
    "             .replace(to_replace=100,value=np.nan))\n",
    "\n",
    "# Perform the same transform on Test data\n",
    "X_test = (X_test\n",
    "             .replace(to_replace=100,value=np.nan))"
   ]
  },
  {
   "cell_type": "markdown",
   "metadata": {},
   "source": [
    "We are replacing the out-of-range values with NaN to avoid disturbance to our analysis on in-range RSSI distribution."
   ]
  },
  {
   "cell_type": "code",
   "execution_count": 52,
   "metadata": {
    "collapsed": false
   },
   "outputs": [
    {
     "data": {
      "text/plain": [
       "<matplotlib.axes._subplots.AxesSubplot at 0x10e903080>"
      ]
     },
     "execution_count": 52,
     "metadata": {},
     "output_type": "execute_result"
    },
    {
     "data": {
      "image/png": "[encoded data removed]",
      "text/plain": [
       "<matplotlib.figure.Figure at 0x10e903940>"
      ]
     },
     "metadata": {},
     "output_type": "display_data"
    }
   ],
   "source": [
    "X_stack = X_train.stack(dropna=False)\n",
    "sns.distplot(X_stack.dropna(),kde = False)"
   ]
  },
  {
   "cell_type": "markdown",
   "metadata": {},
   "source": [
    "In the above figure, majority of the RSSI values are present in the (-95dBm,-80dBm) range. Clearly, the distribution is right-skewed with majority of the values in the left side of the distribution.\n",
    "\n",
    "Interestingly, the highest RSSI value is 0 dBm which is clearly an outlier. Usually, when a device receives from multiple APs, it associates with the AP that provides the highest RSSI. Therefore, I next analyze the distribution of the highest RSSI per sample."
   ]
  },
  {
   "cell_type": "code",
   "execution_count": 53,
   "metadata": {
    "collapsed": false
   },
   "outputs": [
    {
     "data": {
      "text/plain": [
       "<matplotlib.text.Text at 0x10e903c88>"
      ]
     },
     "execution_count": 53,
     "metadata": {},
     "output_type": "execute_result"
    },
    {
     "data": {
      "image/png": "[encoded data removed]",
      "text/plain": [
       "<matplotlib.figure.Figure at 0x105d64470>"
      ]
     },
     "metadata": {},
     "output_type": "display_data"
    }
   ],
   "source": [
    "X_ap_max = (X_train\n",
    "           .max(axis = 1,skipna=True)\n",
    "           .dropna())\n",
    "\n",
    "fig, ax = plt.subplots(1,1)\n",
    "\n",
    "sns.distplot(X_ap_max.dropna(), ax = ax,kde=False)\n",
    "ax.set_xlabel(\"Highest RSSI per measurement\")"
   ]
  },
  {
   "cell_type": "markdown",
   "metadata": {},
   "source": [
    "**Skewness:** For normally distributed data, the skewness should be about 0. A skewness value > 0 means that there is more weight in the left tail of the distribution. Similarly, a negative value indicates a left-skewed distribution with more weight on the right tail."
   ]
  },
  {
   "cell_type": "code",
   "execution_count": 54,
   "metadata": {
    "collapsed": false
   },
   "outputs": [
    {
     "name": "stdout",
     "output_type": "stream",
     "text": [
      "Skewness of entire RSSI distribution 1.15555277437\n",
      "Skewness of max RSSI distribution 0.896459494047\n"
     ]
    }
   ],
   "source": [
    "print(\"Skewness of entire RSSI distribution\", X_stack.skew())\n",
    "print(\"Skewness of max RSSI distribution\", X_ap_max.skew())"
   ]
  },
  {
   "cell_type": "markdown",
   "metadata": {},
   "source": [
    "Expectedly, the center of the distribution of the max RSSI per sample is higher than the entire distribution. Also, it looks more normal which is validated by the reduction in Skewness value from 1.155 to 0.896.\n",
    "\n",
    "I expect just a few APs (2-3) in range for any measurement. What does the data say?"
   ]
  },
  {
   "cell_type": "code",
   "execution_count": 55,
   "metadata": {
    "collapsed": false
   },
   "outputs": [
    {
     "data": {
      "text/plain": [
       "<matplotlib.text.Text at 0x10e0ba2b0>"
      ]
     },
     "execution_count": 55,
     "metadata": {},
     "output_type": "execute_result"
    },
    {
     "data": {
      "image/png": "[encoded data removed]",
      "text/plain": [
       "<matplotlib.figure.Figure at 0x10e1d62b0>"
      ]
     },
     "metadata": {},
     "output_type": "display_data"
    }
   ],
   "source": [
    "aps_in_range = (X_train\n",
    "                 .notnull()\n",
    "                 .sum(axis = 1))\n",
    "\n",
    "fig, ax = plt.subplots(1,1)\n",
    "\n",
    "sns.violinplot(aps_in_range, ax = ax)\n",
    "ax.set_xlabel(\"Number of APs in range\")"
   ]
  },
  {
   "cell_type": "markdown",
   "metadata": {},
   "source": [
    "1. Interestingly, majority of the samples have over 13 APs in range with the maximum of 51 APs. Although 51 is the maximum, it is clearly an outlier based on the density displayed in the violin plot. \n",
    "\n",
    "2. 13 APs corresponds to less than 3% of all the APs in our dataset.\n",
    "\n",
    "\n",
    "3. We do observe some of the training samples with 0 APs in range. Let's remove these samples from the training data."
   ]
  },
  {
   "cell_type": "code",
   "execution_count": 56,
   "metadata": {
    "collapsed": false
   },
   "outputs": [
    {
     "name": "stdout",
     "output_type": "stream",
     "text": [
      "Before sample removal: 19937\n",
      "After sample removal: 19861\n"
     ]
    }
   ],
   "source": [
    "print(\"Before sample removal:\", len(X_train))\n",
    "\n",
    "y_train = (y_train\n",
    "          .loc[X_train\n",
    "              .notnull()\n",
    "              .any(axis=1),:])\n",
    "\n",
    "X_train = (X_train\n",
    "           .loc[X_train\n",
    "                .notnull()\n",
    "                .any(axis=1),:])\n",
    "\n",
    "print(\"After sample removal:\", len(X_train))"
   ]
  },
  {
   "cell_type": "code",
   "execution_count": 57,
   "metadata": {
    "collapsed": false
   },
   "outputs": [
    {
     "data": {
      "text/plain": [
       "2.5"
      ]
     },
     "execution_count": 57,
     "metadata": {},
     "output_type": "execute_result"
    }
   ],
   "source": [
    "1300/520"
   ]
  },
  {
   "cell_type": "markdown",
   "metadata": {},
   "source": [
    "We can remove the RSSI columns related to APs which are not in range in any of our training samples as there is no useful information contained in this data."
   ]
  },
  {
   "cell_type": "code",
   "execution_count": 58,
   "metadata": {
    "collapsed": false
   },
   "outputs": [
    {
     "name": "stdout",
     "output_type": "stream",
     "text": [
      "Before removing predictors with no in-range values (19861, 520)\n",
      "After removing predictors with no in-range values (19861, 465)\n"
     ]
    }
   ],
   "source": [
    "# Removing columns with all NaN values\n",
    "all_nan = (X_train\n",
    "           .isnull()\n",
    "           .all(axis=0) == False)\n",
    "filtered_cols = (all_nan[all_nan]\n",
    "                 .index\n",
    "                 .values)\n",
    "\n",
    "print(\"Before removing predictors with no in-range values\", X_train.shape)\n",
    "\n",
    "X_train = X_train.loc[:,filtered_cols]\n",
    "X_test = X_test.loc[:,filtered_cols]\n",
    "\n",
    "print(\"After removing predictors with no in-range values\", X_train.shape)"
   ]
  },
  {
   "cell_type": "markdown",
   "metadata": {},
   "source": [
    "# Missing Value Imputation <a id=\"missing-value-imputation\"></a>"
   ]
  },
  {
   "cell_type": "markdown",
   "metadata": {},
   "source": [
    "We need to fill in the missing values before we can apply any of the machine learning models. How do we fill the missing values? Should we simply equate it with the absolute lowest value in our dataset? Or, should we estimate the distributuon of each predictor and randomly sample from the left tail?\n",
    "\n",
    "Before we can answer such questions, we need to understand how much of our data is missing."
   ]
  },
  {
   "cell_type": "code",
   "execution_count": 59,
   "metadata": {
    "collapsed": false
   },
   "outputs": [
    {
     "data": {
      "text/plain": [
       "0.034605449473533938"
      ]
     },
     "execution_count": 59,
     "metadata": {},
     "output_type": "execute_result"
    }
   ],
   "source": [
    "# Proportion of out of range values\n",
    "sum(X_stack.isnull() == 0)/len(X_stack)"
   ]
  },
  {
   "cell_type": "markdown",
   "metadata": {},
   "source": [
    "**96.1% of the values in the matrix represent Out-of-Range.** This is expected as for any given measurement, only a small subset of the APs are in range of the mobile device location as we observed in the previous section.\n",
    "\n",
    "Let us analyze the missing data percentage for different predictors."
   ]
  },
  {
   "cell_type": "code",
   "execution_count": 67,
   "metadata": {
    "collapsed": false
   },
   "outputs": [
    {
     "data": {
      "text/plain": [
       "<matplotlib.axes._subplots.AxesSubplot at 0x1149c3e80>"
      ]
     },
     "execution_count": 67,
     "metadata": {},
     "output_type": "execute_result"
    },
    {
     "data": {
      "image/png": "[encoded data removed]",
      "text/plain": [
       "<matplotlib.figure.Figure at 0x105daa208>"
      ]
     },
     "metadata": {},
     "output_type": "display_data"
    }
   ],
   "source": [
    "miss_perc = (X_train\n",
    "            .isnull()\n",
    "            .sum(axis=0))\n",
    "\n",
    "miss_perc *= 100/len(X_train)\n",
    "\n",
    "sns.distplot(miss_perc,bins = 50,kde=False)"
   ]
  },
  {
   "cell_type": "markdown",
   "metadata": {},
   "source": [
    "Interestingly, **160 of the predictors have more than 99.5% of the values missing!** I got useful advice from [/u/DrLionelRaymond](https://www.reddit.com/r/MLQuestions/comments/62qnlv/skewness_kurtosis_and_boxcox_for_censored_data/) on how to fill the missing values. Simple single value imputation (e.g., absolute minimum value) is fine when the amount of missing data is low, but for over 85% missing data using a single value might introduce significant bias. One approach is Maximum Likelihood Estimator based imputation which is indeed more robust but it's performance drops quite a bit for missingness approaching 80%.\n",
    "\n",
    "Rubin has published extensively on the distribution based approach and Chen has done a lot of work on the Bayesian approach. **It's important to point out that when performing the imputation you want the imputed values match the underlying distribution.** \n",
    "\n",
    "For this purpose, it's important to understand the distribution of our predictor. The null hypothesis is that each predictor has a normal distribution. Let's find out how far the distributions are from normal using the following measures, Skewness and Kurtosis.\n",
    "\n",
    "**Skewness:** For normally distributed data, the skewness should be about 0. A skewness value > 0 means that there is more weight in the left tail of the distribution. Similarly, a negative value indicates a left-skewed distribution with more weight on the right tail.\n",
    "\n",
    "**Kurtosis:** Kurtosis is the fourth central moment divided by the square of the variance. If a distribution has  positive kurtosis, that means it has more in the tails than the normal distribution. Similarly, if a distribution has a negative kurtosis, it has less in the tails than the normal distribution. "
   ]
  },
  {
   "cell_type": "code",
   "execution_count": 77,
   "metadata": {
    "collapsed": false
   },
   "outputs": [
    {
     "data": {
      "text/plain": [
       "<seaborn.axisgrid.JointGrid at 0x12347fcc0>"
      ]
     },
     "execution_count": 77,
     "metadata": {},
     "output_type": "execute_result"
    },
    {
     "data": {
      "image/png": "[encoded data removed]",
      "text/plain": [
       "<matplotlib.figure.Figure at 0x12347f5c0>"
      ]
     },
     "metadata": {},
     "output_type": "display_data"
    }
   ],
   "source": [
    "# Skewness of the predictors ignoring out-of-range values\n",
    "X_skew = X_train.skew()\n",
    "X_kurtosis = X_train.kurtosis()\n",
    "\n",
    "g = sns.jointplot(y=X_kurtosis, x=X_skew, stat_func= None)\n",
    "g.set_axis_labels('Skewness','Kurtosis')"
   ]
  },
  {
   "cell_type": "markdown",
   "metadata": {},
   "source": [
    "Clearly, the skewness and kurtosis values for most predictors are in the range of (-1,1) indicating closeness to normality. Based on this, we can estimate a Gaussian kernel for each of our predictors to fill the missing values."
   ]
  },
  {
   "cell_type": "markdown",
   "metadata": {},
   "source": [
    "## Kernel Density Estimation <a id=\"kde-estimation\"></a>"
   ]
  },
  {
   "cell_type": "code",
   "execution_count": 120,
   "metadata": {
    "collapsed": false
   },
   "outputs": [
    {
     "data": {
      "text/plain": [
       "[<matplotlib.lines.Line2D at 0x137332c50>]"
      ]
     },
     "execution_count": 120,
     "metadata": {},
     "output_type": "execute_result"
    },
    {
     "data": {
      "image/png": "[encoded data removed]",
      "text/plain": [
       "<matplotlib.figure.Figure at 0x137799e80>"
      ]
     },
     "metadata": {},
     "output_type": "display_data"
    }
   ],
   "source": [
    "from scipy.stats.distributions import norm\n",
    "\n",
    "# The grid we'll use for plotting\n",
    "x_grid = np.linspace(-100, 0, 100)\n",
    "\n",
    "# Draw points from a bimodal distribution in 1D\n",
    "np.random.seed(0)\n",
    "x = np.array(X_train.stack().dropna())\n",
    "\n",
    "kde_skl = KernelDensity(bandwidth=1.0,rtol=1e-4)\n",
    "kde_skl.fit(x[:, np.newaxis])\n",
    "# score_samples() returns the log-likelihood of the samples\n",
    "log_pdf = kde_skl.score_samples(x_grid[:, np.newaxis])\n",
    "plt.plot(x_grid, np.exp(log_pdf), color = 'blue',alpha = 0.5, lw = 3)\n",
    "#plt.fill(x_grid, pdf_true,ec='gray',fc='gray',alpha=0.4)"
   ]
  },
  {
   "cell_type": "code",
   "execution_count": 132,
   "metadata": {
    "collapsed": false
   },
   "outputs": [
    {
     "data": {
      "text/plain": [
       "[array([-104.37849335]),\n",
       " array([-104.07743163]),\n",
       " array([-105.56910134]),\n",
       " array([-105.00530509]),\n",
       " array([-104.90035907]),\n",
       " array([-105.61528094]),\n",
       " array([-104.35544041]),\n",
       " array([-104.09101559]),\n",
       " array([-105.14568299]),\n",
       " array([-105.3331787]),\n",
       " array([-104.1812739]),\n",
       " array([-104.02959812]),\n",
       " array([-105.55654843])]"
      ]
     },
     "execution_count": 132,
     "metadata": {},
     "output_type": "execute_result"
    }
   ],
   "source": [
    "z = kde_skl.sample(n_samples=1000000)\n",
    "\n",
    "[k for k in z if k <=abs_min]"
   ]
  }
 ],
 "metadata": {
  "kernelspec": {
   "display_name": "Python 3",
   "language": "python",
   "name": "python3"
  },
  "language_info": {
   "codemirror_mode": {
    "name": "ipython",
    "version": 3
   },
   "file_extension": ".py",
   "mimetype": "text/x-python",
   "name": "python",
   "nbconvert_exporter": "python",
   "pygments_lexer": "ipython3",
   "version": "3.5.2"
  }
 },
 "nbformat": 4,
 "nbformat_minor": 2
}
